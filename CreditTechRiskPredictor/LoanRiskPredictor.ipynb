{
 "cells": [
  {
   "cell_type": "markdown",
   "metadata": {
    "id": "jKcaAw-JVvOV"
   },
   "source": [
    "# Monsoon CreditTech Assignemnt"
   ]
  },
  {
   "cell_type": "markdown",
   "metadata": {
    "id": "-LgjtfZvVyyt"
   },
   "source": [
    "## Library Imports"
   ]
  },
  {
   "cell_type": "code",
   "execution_count": 1,
   "metadata": {
    "id": "Pj2aT96ZVXmh"
   },
   "outputs": [],
   "source": [
    "### Data handling libraries\n",
    "import pandas as pd\n",
    "import numpy as np\n",
    "\n",
    "### data visualisation libraries\n",
    "import matplotlib.pyplot as plt\n",
    "from matplotlib.lines import Line2D\n",
    "import seaborn as sns\n",
    "from IPython.display import display\n",
    "%matplotlib inline\n",
    "import warnings\n",
    "warnings.filterwarnings(\"ignore\")\n",
    "\n",
    "\n",
    "### scaling\n",
    "from sklearn.preprocessing import StandardScaler, RobustScaler\n",
    "\n",
    "\n",
    "### feature engineering libraries\n",
    "from pandas.api.types import is_string_dtype, is_numeric_dtype\n",
    "\n",
    "\n",
    "### modelling libraries\n",
    "from sklearn.linear_model import LogisticRegression\n",
    "\n",
    "\n",
    "\n",
    "### model tuning, cross validation\n",
    "from sklearn.model_selection import KFold, GridSearchCV, train_test_split, StratifiedKFold\n",
    "\n",
    "\n",
    "### performance metric libraries\n",
    "from sklearn.metrics import (\n",
    "    roc_curve, auc, classification_report, accuracy_score, confusion_matrix,\n",
    "    roc_auc_score\n",
    "  )\n"
   ]
  },
  {
   "cell_type": "markdown",
   "metadata": {
    "id": "kNu4q7mbVySu"
   },
   "source": [
    "## Useful Utility functions"
   ]
  },
  {
   "cell_type": "code",
   "execution_count": 2,
   "metadata": {
    "id": "ksfd5lBw8Gy3"
   },
   "outputs": [],
   "source": [
    "def find_missing_perc(df, columns_missing_values):\n",
    "    missing_perc_df_list = []\n",
    "    for c in columns_missing_values:\n",
    "        missing_perc_df_list.append(pd.DataFrame(df[c].isna().value_counts(normalize=True) * 100)\n",
    "        .reset_index().rename(columns={c: c+ ' %', 'index':'is_missing'}))\n",
    "        missing_perc_df_list.append(pd.DataFrame(df[c].isna().value_counts())\n",
    "        .reset_index().rename(columns={c: c+ ' Count', 'index':'is_missing'}))\n",
    "    missing_perc_df = pd.concat(missing_perc_df_list, axis=1)\n",
    "    missing_perc_df = missing_perc_df.loc[:,~missing_perc_df.columns.duplicated()].T\n",
    "    return missing_perc_df\n",
    "\n",
    "\n",
    "def find_possible_cat_cont_cols(df, unique_count_thresh=10) : \n",
    "    cont_cols = df.columns[df.nunique() > unique_count_thresh].tolist()\n",
    "    cat_cols = df.columns[df.nunique() <= unique_count_thresh].tolist()\n",
    "    return cat_cols, cont_cols\n",
    "\n",
    "\n",
    "def IQR_method(series):\n",
    "    q1, median, q3 = np.percentile(series, [25, 50, 75])\n",
    "    iqr = q3 - q1\n",
    "    lower_bound = q1 - (1.5 * iqr)\n",
    "    upper_bound = q3 + (1.5 * iqr)\n",
    "\n",
    "    return pd.Series((series < lower_bound) | (series > upper_bound)) \n",
    "\n",
    "\n",
    "def Z_method(series, std_threshold=3): \n",
    "    mean = np.mean(series)\n",
    "    std = np.std(series)\n",
    "    return pd.Series(((x - mean)/ std ) > std_threshold)\n",
    "\n",
    "\n",
    "def fix_missing(df, col, name, na_dict):\n",
    "    if is_numeric_dtype(col):\n",
    "        if pd.isnull(col).sum() or (name in na_dict):\n",
    "            df[name+'_na'] = pd.isnull(col)\n",
    "            filler = na_dict[name] if name in na_dict else col.median()\n",
    "            df[name] = col.fillna(filler)\n",
    "            na_dict[name] = filler\n",
    "    return na_dict\n",
    "\n",
    "\n",
    "def plot_auc_plots(model_output_dict, pos_label=1):\n",
    "    markers = list(Line2D.markers.keys())\n",
    "    plt.figure(figsize=(5, 5), dpi=100)\n",
    "    for i, model_name in enumerate(model_output_dict.keys()):\n",
    "        model_results = model_output_dict[model_name]\n",
    "\n",
    "        fpr, tpr, threshold = roc_curve(model_results['y'],\n",
    "                                    model_results['y_pred'],\n",
    "                                    pos_label=pos_label)\n",
    "        auc_score = auc(fpr, tpr)\n",
    "        model_results['fpr'] = fpr\n",
    "        model_results['tpr'] = tpr\n",
    "        model_results['auc_score'] = auc_score\n",
    "\n",
    "\n",
    "        plt.plot(fpr, tpr, marker=markers[i],\n",
    "                 label=f'{model_name} (auc = %0.3f)' % auc_score)\n",
    "\n",
    "    plt.xlabel('False Positive Rate -->')\n",
    "    plt.ylabel('True Positive Rate -->')\n",
    "    plt.legend()\n",
    "    plt.show()\n",
    "find_na_cols = lambda data: data.columns[data.isna().any()].tolist()"
   ]
  },
  {
   "cell_type": "markdown",
   "metadata": {
    "id": "Nlv0vtdkWn4d"
   },
   "source": [
    "## Loading the Data "
   ]
  },
  {
   "cell_type": "code",
   "execution_count": 3,
   "metadata": {
    "id": "K4wcpKfxWvzA"
   },
   "outputs": [],
   "source": [
    "filename = 'train_flag.csv'\n",
    "df_train_flag_details = pd.read_csv(filename)"
   ]
  },
  {
   "cell_type": "code",
   "execution_count": 4,
   "metadata": {},
   "outputs": [],
   "source": [
    "import json\n",
    "with open('accounts_data_train.json') as f:\n",
    "    accounts_train_data = json.load(f)\n",
    "\n",
    "with open('enquiry_data_train.json') as f:\n",
    "    enquiry_train_data = json.load(f)\n",
    "\n",
    "# df_accounts_data_train = pd.DataFrame(data)"
   ]
  },
  {
   "cell_type": "code",
   "execution_count": 5,
   "metadata": {},
   "outputs": [],
   "source": [
    "def from_json_dump_to_df(data) :\n",
    "    flatten_data = []\n",
    "    for l in data:\n",
    "        flatten_data += l \n",
    "    return pd.DataFrame(flatten_data)\n"
   ]
  },
  {
   "cell_type": "code",
   "execution_count": 6,
   "metadata": {},
   "outputs": [],
   "source": [
    "df_accounts_train = from_json_dump_to_df(accounts_train_data)\n",
    "df_enquiry_train = from_json_dump_to_df(enquiry_train_data)"
   ]
  },
  {
   "cell_type": "code",
   "execution_count": 7,
   "metadata": {},
   "outputs": [],
   "source": [
    "import json\n",
    "with open('accounts_data_test.json') as f:\n",
    "    accounts_train_data = json.load(f)\n",
    "\n",
    "with open('enquiry_data_test.json') as f:\n",
    "    enquiry_train_data = json.load(f)\n",
    "\n",
    "filename = 'test_flag.csv'\n",
    "df_test_flag_details = pd.read_csv(filename)\n",
    "\n",
    "df_accounts_test = from_json_dump_to_df(accounts_train_data)\n",
    "df_enquiry_test = from_json_dump_to_df(enquiry_train_data)\n",
    "# df_accounts_data_train = pd.DataFrame(data)"
   ]
  },
  {
   "cell_type": "code",
   "execution_count": 8,
   "metadata": {},
   "outputs": [
    {
     "data": {
      "text/html": [
       "<div>\n",
       "<style scoped>\n",
       "    .dataframe tbody tr th:only-of-type {\n",
       "        vertical-align: middle;\n",
       "    }\n",
       "\n",
       "    .dataframe tbody tr th {\n",
       "        vertical-align: top;\n",
       "    }\n",
       "\n",
       "    .dataframe thead th {\n",
       "        text-align: right;\n",
       "    }\n",
       "</style>\n",
       "<table border=\"1\" class=\"dataframe\">\n",
       "  <thead>\n",
       "    <tr style=\"text-align: right;\">\n",
       "      <th></th>\n",
       "      <th>uid</th>\n",
       "      <th>NAME_CONTRACT_TYPE</th>\n",
       "      <th>TARGET</th>\n",
       "    </tr>\n",
       "  </thead>\n",
       "  <tbody>\n",
       "    <tr>\n",
       "      <th>0</th>\n",
       "      <td>XDA69787158</td>\n",
       "      <td>Cash loans</td>\n",
       "      <td>0</td>\n",
       "    </tr>\n",
       "    <tr>\n",
       "      <th>1</th>\n",
       "      <td>BSE47789733</td>\n",
       "      <td>Cash loans</td>\n",
       "      <td>0</td>\n",
       "    </tr>\n",
       "    <tr>\n",
       "      <th>2</th>\n",
       "      <td>NTJ92213825</td>\n",
       "      <td>Cash loans</td>\n",
       "      <td>0</td>\n",
       "    </tr>\n",
       "    <tr>\n",
       "      <th>3</th>\n",
       "      <td>TCQ47571695</td>\n",
       "      <td>Cash loans</td>\n",
       "      <td>0</td>\n",
       "    </tr>\n",
       "    <tr>\n",
       "      <th>4</th>\n",
       "      <td>WJZ68772744</td>\n",
       "      <td>Cash loans</td>\n",
       "      <td>0</td>\n",
       "    </tr>\n",
       "  </tbody>\n",
       "</table>\n",
       "</div>"
      ],
      "text/plain": [
       "           uid NAME_CONTRACT_TYPE  TARGET\n",
       "0  XDA69787158         Cash loans       0\n",
       "1  BSE47789733         Cash loans       0\n",
       "2  NTJ92213825         Cash loans       0\n",
       "3  TCQ47571695         Cash loans       0\n",
       "4  WJZ68772744         Cash loans       0"
      ]
     },
     "execution_count": 8,
     "metadata": {},
     "output_type": "execute_result"
    }
   ],
   "source": [
    "df_train_flag_details.head()"
   ]
  },
  {
   "cell_type": "code",
   "execution_count": 9,
   "metadata": {},
   "outputs": [
    {
     "data": {
      "text/html": [
       "<div>\n",
       "<style scoped>\n",
       "    .dataframe tbody tr th:only-of-type {\n",
       "        vertical-align: middle;\n",
       "    }\n",
       "\n",
       "    .dataframe tbody tr th {\n",
       "        vertical-align: top;\n",
       "    }\n",
       "\n",
       "    .dataframe thead th {\n",
       "        text-align: right;\n",
       "    }\n",
       "</style>\n",
       "<table border=\"1\" class=\"dataframe\">\n",
       "  <thead>\n",
       "    <tr style=\"text-align: right;\">\n",
       "      <th></th>\n",
       "      <th>credit_type</th>\n",
       "      <th>loan_amount</th>\n",
       "      <th>amount_overdue</th>\n",
       "      <th>open_date</th>\n",
       "      <th>closed_date</th>\n",
       "      <th>payment_hist_string</th>\n",
       "      <th>uid</th>\n",
       "    </tr>\n",
       "  </thead>\n",
       "  <tbody>\n",
       "    <tr>\n",
       "      <th>0</th>\n",
       "      <td>Consumer credit</td>\n",
       "      <td>272745.000</td>\n",
       "      <td>0.0</td>\n",
       "      <td>2018-09-22</td>\n",
       "      <td>2020-02-22</td>\n",
       "      <td>0000000000000000000000100000000000000000000000...</td>\n",
       "      <td>AAA09044550</td>\n",
       "    </tr>\n",
       "    <tr>\n",
       "      <th>1</th>\n",
       "      <td>Consumer credit</td>\n",
       "      <td>4500.000</td>\n",
       "      <td>0.0</td>\n",
       "      <td>2018-03-08</td>\n",
       "      <td>2019-07-25</td>\n",
       "      <td>000000000000000014044000000000000000000000000000</td>\n",
       "      <td>AAA09044550</td>\n",
       "    </tr>\n",
       "    <tr>\n",
       "      <th>2</th>\n",
       "      <td>Credit card</td>\n",
       "      <td>80996.445</td>\n",
       "      <td>0.0</td>\n",
       "      <td>2020-06-29</td>\n",
       "      <td>NaN</td>\n",
       "      <td>000000000000000000</td>\n",
       "      <td>AAA10545297</td>\n",
       "    </tr>\n",
       "    <tr>\n",
       "      <th>3</th>\n",
       "      <td>Consumer credit</td>\n",
       "      <td>43771.500</td>\n",
       "      <td>0.0</td>\n",
       "      <td>2020-06-09</td>\n",
       "      <td>2020-09-09</td>\n",
       "      <td>000000000</td>\n",
       "      <td>AAA14112888</td>\n",
       "    </tr>\n",
       "    <tr>\n",
       "      <th>4</th>\n",
       "      <td>Credit card</td>\n",
       "      <td>10480.500</td>\n",
       "      <td>0.0</td>\n",
       "      <td>2014-09-10</td>\n",
       "      <td>NaN</td>\n",
       "      <td>0000000000000000000000000000000000000000000000...</td>\n",
       "      <td>AAA20326915</td>\n",
       "    </tr>\n",
       "    <tr>\n",
       "      <th>5</th>\n",
       "      <td>Consumer credit</td>\n",
       "      <td>46696.500</td>\n",
       "      <td>0.0</td>\n",
       "      <td>2016-11-20</td>\n",
       "      <td>2017-10-06</td>\n",
       "      <td>000000000000000000000000000000</td>\n",
       "      <td>AAA20326915</td>\n",
       "    </tr>\n",
       "    <tr>\n",
       "      <th>6</th>\n",
       "      <td>Credit card</td>\n",
       "      <td>0.000</td>\n",
       "      <td>0.0</td>\n",
       "      <td>2014-09-10</td>\n",
       "      <td>2018-08-30</td>\n",
       "      <td>0000000000000000000000000000000000000000000000...</td>\n",
       "      <td>AAA20326915</td>\n",
       "    </tr>\n",
       "    <tr>\n",
       "      <th>7</th>\n",
       "      <td>Consumer credit</td>\n",
       "      <td>117000.000</td>\n",
       "      <td>0.0</td>\n",
       "      <td>2018-02-04</td>\n",
       "      <td>2018-05-06</td>\n",
       "      <td>000000000</td>\n",
       "      <td>AAA20326915</td>\n",
       "    </tr>\n",
       "    <tr>\n",
       "      <th>8</th>\n",
       "      <td>Consumer credit</td>\n",
       "      <td>90000.000</td>\n",
       "      <td>0.0</td>\n",
       "      <td>2020-03-12</td>\n",
       "      <td>2020-04-12</td>\n",
       "      <td>000</td>\n",
       "      <td>AAA20326915</td>\n",
       "    </tr>\n",
       "    <tr>\n",
       "      <th>9</th>\n",
       "      <td>Consumer credit</td>\n",
       "      <td>235800.000</td>\n",
       "      <td>0.0</td>\n",
       "      <td>2020-03-29</td>\n",
       "      <td>2020-05-13</td>\n",
       "      <td>000</td>\n",
       "      <td>AAA20326915</td>\n",
       "    </tr>\n",
       "  </tbody>\n",
       "</table>\n",
       "</div>"
      ],
      "text/plain": [
       "       credit_type  loan_amount  amount_overdue   open_date closed_date  \\\n",
       "0  Consumer credit   272745.000             0.0  2018-09-22  2020-02-22   \n",
       "1  Consumer credit     4500.000             0.0  2018-03-08  2019-07-25   \n",
       "2      Credit card    80996.445             0.0  2020-06-29         NaN   \n",
       "3  Consumer credit    43771.500             0.0  2020-06-09  2020-09-09   \n",
       "4      Credit card    10480.500             0.0  2014-09-10         NaN   \n",
       "5  Consumer credit    46696.500             0.0  2016-11-20  2017-10-06   \n",
       "6      Credit card        0.000             0.0  2014-09-10  2018-08-30   \n",
       "7  Consumer credit   117000.000             0.0  2018-02-04  2018-05-06   \n",
       "8  Consumer credit    90000.000             0.0  2020-03-12  2020-04-12   \n",
       "9  Consumer credit   235800.000             0.0  2020-03-29  2020-05-13   \n",
       "\n",
       "                                 payment_hist_string          uid  \n",
       "0  0000000000000000000000100000000000000000000000...  AAA09044550  \n",
       "1   000000000000000014044000000000000000000000000000  AAA09044550  \n",
       "2                                 000000000000000000  AAA10545297  \n",
       "3                                          000000000  AAA14112888  \n",
       "4  0000000000000000000000000000000000000000000000...  AAA20326915  \n",
       "5                     000000000000000000000000000000  AAA20326915  \n",
       "6  0000000000000000000000000000000000000000000000...  AAA20326915  \n",
       "7                                          000000000  AAA20326915  \n",
       "8                                                000  AAA20326915  \n",
       "9                                                000  AAA20326915  "
      ]
     },
     "execution_count": 9,
     "metadata": {},
     "output_type": "execute_result"
    }
   ],
   "source": [
    "df_accounts_train.head(10)"
   ]
  },
  {
   "cell_type": "code",
   "execution_count": 10,
   "metadata": {},
   "outputs": [
    {
     "data": {
      "text/html": [
       "<div>\n",
       "<style scoped>\n",
       "    .dataframe tbody tr th:only-of-type {\n",
       "        vertical-align: middle;\n",
       "    }\n",
       "\n",
       "    .dataframe tbody tr th {\n",
       "        vertical-align: top;\n",
       "    }\n",
       "\n",
       "    .dataframe thead th {\n",
       "        text-align: right;\n",
       "    }\n",
       "</style>\n",
       "<table border=\"1\" class=\"dataframe\">\n",
       "  <thead>\n",
       "    <tr style=\"text-align: right;\">\n",
       "      <th></th>\n",
       "      <th>enquiry_type</th>\n",
       "      <th>enquiry_amt</th>\n",
       "      <th>enquiry_date</th>\n",
       "      <th>uid</th>\n",
       "    </tr>\n",
       "  </thead>\n",
       "  <tbody>\n",
       "    <tr>\n",
       "      <th>0</th>\n",
       "      <td>Interbank credit</td>\n",
       "      <td>168839</td>\n",
       "      <td>2020-11-08</td>\n",
       "      <td>AAA08065248</td>\n",
       "    </tr>\n",
       "    <tr>\n",
       "      <th>1</th>\n",
       "      <td>Mobile operator loan</td>\n",
       "      <td>268392</td>\n",
       "      <td>2020-09-20</td>\n",
       "      <td>AAA08065248</td>\n",
       "    </tr>\n",
       "    <tr>\n",
       "      <th>2</th>\n",
       "      <td>Mobile operator loan</td>\n",
       "      <td>36082</td>\n",
       "      <td>2020-06-19</td>\n",
       "      <td>AAA08065248</td>\n",
       "    </tr>\n",
       "    <tr>\n",
       "      <th>3</th>\n",
       "      <td>Interbank credit</td>\n",
       "      <td>180467</td>\n",
       "      <td>2019-10-22</td>\n",
       "      <td>AAA08065248</td>\n",
       "    </tr>\n",
       "    <tr>\n",
       "      <th>4</th>\n",
       "      <td>Cash loan (non-earmarked)</td>\n",
       "      <td>227459</td>\n",
       "      <td>2020-05-24</td>\n",
       "      <td>AAA08065248</td>\n",
       "    </tr>\n",
       "    <tr>\n",
       "      <th>5</th>\n",
       "      <td>Mortgage</td>\n",
       "      <td>44841</td>\n",
       "      <td>2019-11-03</td>\n",
       "      <td>AAA08065248</td>\n",
       "    </tr>\n",
       "    <tr>\n",
       "      <th>6</th>\n",
       "      <td>Revolving loans</td>\n",
       "      <td>364751</td>\n",
       "      <td>2020-02-26</td>\n",
       "      <td>AAA08065248</td>\n",
       "    </tr>\n",
       "    <tr>\n",
       "      <th>7</th>\n",
       "      <td>Interbank credit</td>\n",
       "      <td>127618</td>\n",
       "      <td>2020-10-04</td>\n",
       "      <td>AAA08065248</td>\n",
       "    </tr>\n",
       "    <tr>\n",
       "      <th>8</th>\n",
       "      <td>Loan for purchase of shares (margin lending)</td>\n",
       "      <td>315591</td>\n",
       "      <td>2019-06-12</td>\n",
       "      <td>AAA08065248</td>\n",
       "    </tr>\n",
       "    <tr>\n",
       "      <th>9</th>\n",
       "      <td>Revolving loans</td>\n",
       "      <td>169056</td>\n",
       "      <td>2019-03-01</td>\n",
       "      <td>AAA08065248</td>\n",
       "    </tr>\n",
       "  </tbody>\n",
       "</table>\n",
       "</div>"
      ],
      "text/plain": [
       "                                   enquiry_type  enquiry_amt enquiry_date  \\\n",
       "0                              Interbank credit       168839   2020-11-08   \n",
       "1                          Mobile operator loan       268392   2020-09-20   \n",
       "2                          Mobile operator loan        36082   2020-06-19   \n",
       "3                              Interbank credit       180467   2019-10-22   \n",
       "4                     Cash loan (non-earmarked)       227459   2020-05-24   \n",
       "5                                      Mortgage        44841   2019-11-03   \n",
       "6                               Revolving loans       364751   2020-02-26   \n",
       "7                              Interbank credit       127618   2020-10-04   \n",
       "8  Loan for purchase of shares (margin lending)       315591   2019-06-12   \n",
       "9                               Revolving loans       169056   2019-03-01   \n",
       "\n",
       "           uid  \n",
       "0  AAA08065248  \n",
       "1  AAA08065248  \n",
       "2  AAA08065248  \n",
       "3  AAA08065248  \n",
       "4  AAA08065248  \n",
       "5  AAA08065248  \n",
       "6  AAA08065248  \n",
       "7  AAA08065248  \n",
       "8  AAA08065248  \n",
       "9  AAA08065248  "
      ]
     },
     "execution_count": 10,
     "metadata": {},
     "output_type": "execute_result"
    }
   ],
   "source": [
    "df_enquiry_train.head(10)"
   ]
  },
  {
   "cell_type": "code",
   "execution_count": 11,
   "metadata": {},
   "outputs": [],
   "source": [
    "sample_submission = pd.read_csv('sample_submission.csv')"
   ]
  },
  {
   "cell_type": "code",
   "execution_count": 12,
   "metadata": {},
   "outputs": [
    {
     "data": {
      "text/html": [
       "<div>\n",
       "<style scoped>\n",
       "    .dataframe tbody tr th:only-of-type {\n",
       "        vertical-align: middle;\n",
       "    }\n",
       "\n",
       "    .dataframe tbody tr th {\n",
       "        vertical-align: top;\n",
       "    }\n",
       "\n",
       "    .dataframe thead th {\n",
       "        text-align: right;\n",
       "    }\n",
       "</style>\n",
       "<table border=\"1\" class=\"dataframe\">\n",
       "  <thead>\n",
       "    <tr style=\"text-align: right;\">\n",
       "      <th></th>\n",
       "      <th>uid</th>\n",
       "      <th>pred</th>\n",
       "    </tr>\n",
       "  </thead>\n",
       "  <tbody>\n",
       "    <tr>\n",
       "      <th>0</th>\n",
       "      <td>CMO22835242</td>\n",
       "      <td>0.1</td>\n",
       "    </tr>\n",
       "    <tr>\n",
       "      <th>1</th>\n",
       "      <td>MRJ34316727</td>\n",
       "      <td>0.1</td>\n",
       "    </tr>\n",
       "    <tr>\n",
       "      <th>2</th>\n",
       "      <td>UAV00534378</td>\n",
       "      <td>0.1</td>\n",
       "    </tr>\n",
       "    <tr>\n",
       "      <th>3</th>\n",
       "      <td>IPQ08190402</td>\n",
       "      <td>0.1</td>\n",
       "    </tr>\n",
       "    <tr>\n",
       "      <th>4</th>\n",
       "      <td>NQN84331006</td>\n",
       "      <td>0.1</td>\n",
       "    </tr>\n",
       "  </tbody>\n",
       "</table>\n",
       "</div>"
      ],
      "text/plain": [
       "           uid  pred\n",
       "0  CMO22835242   0.1\n",
       "1  MRJ34316727   0.1\n",
       "2  UAV00534378   0.1\n",
       "3  IPQ08190402   0.1\n",
       "4  NQN84331006   0.1"
      ]
     },
     "execution_count": 12,
     "metadata": {},
     "output_type": "execute_result"
    }
   ],
   "source": [
    "sample_submission.head()"
   ]
  },
  {
   "cell_type": "code",
   "execution_count": 13,
   "metadata": {},
   "outputs": [],
   "source": [
    "df_dict = {\n",
    "    'accounts_df' : df_accounts_train,\n",
    "    'enquiry_df' : df_enquiry_train,\n",
    "    'flag_df' : df_train_flag_details\n",
    "}\n",
    "\n",
    "acc='accounts_df'\n",
    "enq='enquiry_df'\n",
    "flg='flag_df'"
   ]
  },
  {
   "cell_type": "code",
   "execution_count": 14,
   "metadata": {},
   "outputs": [],
   "source": [
    "df_test_dict = {\n",
    "    'accounts_df' : df_accounts_test,\n",
    "    'enquiry_df' : df_enquiry_test,\n",
    "    'flag_df' : df_test_flag_details\n",
    "}\n",
    "\n",
    "acc='accounts_df'\n",
    "enq='enquiry_df'\n",
    "flg='flag_df'"
   ]
  },
  {
   "cell_type": "code",
   "execution_count": null,
   "metadata": {},
   "outputs": [],
   "source": []
  },
  {
   "cell_type": "markdown",
   "metadata": {
    "id": "v3H0zYSMaB8e",
    "tags": [],
    "toc-hr-collapsed": true
   },
   "source": [
    "## Exploratory Data Analysis"
   ]
  },
  {
   "cell_type": "markdown",
   "metadata": {},
   "source": [
    "### Summary: \n",
    "\n",
    "Analysis were majorly focused finding useful features that can be converted from\n",
    "row form to column. \n",
    "\n",
    "EDA was performed to understand how we can generate more features."
   ]
  },
  {
   "cell_type": "markdown",
   "metadata": {
    "tags": [],
    "toc-hr-collapsed": true
   },
   "source": [
    "### Flag Data\n",
    "This contains details of the loan provided by your client."
   ]
  },
  {
   "cell_type": "code",
   "execution_count": 84,
   "metadata": {
    "colab": {
     "base_uri": "https://localhost:8080/"
    },
    "id": "YgaNqVgrcHN_",
    "outputId": "d82e7ded-f921-4505-8dbd-f637d53cfba9"
   },
   "outputs": [
    {
     "data": {
      "text/plain": [
       "(261383, 3)"
      ]
     },
     "execution_count": 84,
     "metadata": {},
     "output_type": "execute_result"
    }
   ],
   "source": [
    "data_all = df_dict[flg]\n",
    "data_all.shape"
   ]
  },
  {
   "cell_type": "code",
   "execution_count": 85,
   "metadata": {
    "colab": {
     "base_uri": "https://localhost:8080/"
    },
    "id": "9Kvl2r1uaVlA",
    "outputId": "3fc33062-8fd5-491b-857a-ead0c7a3cda1"
   },
   "outputs": [
    {
     "name": "stdout",
     "output_type": "stream",
     "text": [
      "<class 'pandas.core.frame.DataFrame'>\n",
      "RangeIndex: 261383 entries, 0 to 261382\n",
      "Data columns (total 3 columns):\n",
      "uid                   261383 non-null object\n",
      "NAME_CONTRACT_TYPE    261383 non-null object\n",
      "TARGET                261383 non-null int64\n",
      "dtypes: int64(1), object(2)\n",
      "memory usage: 6.0+ MB\n"
     ]
    }
   ],
   "source": [
    "data_all.info(memory_usage=True, null_counts=True)"
   ]
  },
  {
   "cell_type": "code",
   "execution_count": 86,
   "metadata": {
    "id": "Sd9Z3B5j7Kq0"
   },
   "outputs": [],
   "source": [
    "target_variable = 'TARGET'"
   ]
  },
  {
   "cell_type": "code",
   "execution_count": 88,
   "metadata": {
    "colab": {
     "base_uri": "https://localhost:8080/"
    },
    "id": "zBcnyriyvBIJ",
    "outputId": "e0a5890e-117d-42c2-9f1f-2c17523b8123"
   },
   "outputs": [
    {
     "data": {
      "text/plain": [
       "(['NAME_CONTRACT_TYPE', 'TARGET'], ['uid'])"
      ]
     },
     "execution_count": 88,
     "metadata": {},
     "output_type": "execute_result"
    }
   ],
   "source": [
    "poss_cat_cols, poss_cont_cols = find_possible_cat_cont_cols(data_all)\n",
    "poss_cat_cols, poss_cont_cols"
   ]
  },
  {
   "cell_type": "markdown",
   "metadata": {},
   "source": [
    "#### Univariate Analysis."
   ]
  },
  {
   "cell_type": "code",
   "execution_count": 90,
   "metadata": {},
   "outputs": [
    {
     "data": {
      "image/png": "[encoded data removed]",
      "text/plain": [
       "<matplotlib.figure.Figure at 0x7fd7d67c4438>"
      ]
     },
     "metadata": {
      "needs_background": "light"
     },
     "output_type": "display_data"
    },
    {
     "data": {
      "image/png": "[encoded data removed]",
      "text/plain": [
       "<matplotlib.figure.Figure at 0x7fd7d6454668>"
      ]
     },
     "metadata": {
      "needs_background": "light"
     },
     "output_type": "display_data"
    }
   ],
   "source": [
    "for c in poss_cat_cols: \n",
    "  sns.countplot(data_all[c])\n",
    "  plt.show()"
   ]
  },
  {
   "cell_type": "code",
   "execution_count": 96,
   "metadata": {},
   "outputs": [
    {
     "data": {
      "text/plain": [
       "0    240326\n",
       "1     21057\n",
       "Name: TARGET, dtype: int64"
      ]
     },
     "execution_count": 96,
     "metadata": {},
     "output_type": "execute_result"
    }
   ],
   "source": [
    "data_all[target_variable].value_counts()"
   ]
  },
  {
   "cell_type": "code",
   "execution_count": 95,
   "metadata": {},
   "outputs": [
    {
     "data": {
      "text/plain": [
       "0    91.944006\n",
       "1     8.055994\n",
       "Name: TARGET, dtype: float64"
      ]
     },
     "execution_count": 95,
     "metadata": {},
     "output_type": "execute_result"
    }
   ],
   "source": [
    "data_all[target_variable].value_counts(normalize=True) * 100"
   ]
  },
  {
   "cell_type": "markdown",
   "metadata": {},
   "source": [
    "Pointers: \n",
    "This is an imbalanced data set as the number of bad loans given is very less compared to the good loans given."
   ]
  },
  {
   "cell_type": "code",
   "execution_count": 91,
   "metadata": {},
   "outputs": [
    {
     "data": {
      "text/plain": [
       "<matplotlib.axes._subplots.AxesSubplot at 0x7fd7d5eabef0>"
      ]
     },
     "execution_count": 91,
     "metadata": {},
     "output_type": "execute_result"
    },
    {
     "data": {
      "image/png": "[encoded data removed]",
      "text/plain": [
       "<matplotlib.figure.Figure at 0x7fd83753d2b0>"
      ]
     },
     "metadata": {
      "needs_background": "light"
     },
     "output_type": "display_data"
    }
   ],
   "source": [
    "sns.countplot(x=target_variable, hue='NAME_CONTRACT_TYPE', data=data_all)\n"
   ]
  },
  {
   "cell_type": "code",
   "execution_count": 101,
   "metadata": {
    "id": "Rb7HPKjRBTHf"
   },
   "outputs": [
    {
     "data": {
      "text/html": [
       "<div>\n",
       "<style scoped>\n",
       "    .dataframe tbody tr th:only-of-type {\n",
       "        vertical-align: middle;\n",
       "    }\n",
       "\n",
       "    .dataframe tbody tr th {\n",
       "        vertical-align: top;\n",
       "    }\n",
       "\n",
       "    .dataframe thead th {\n",
       "        text-align: right;\n",
       "    }\n",
       "</style>\n",
       "<table border=\"1\" class=\"dataframe\">\n",
       "  <thead>\n",
       "    <tr style=\"text-align: right;\">\n",
       "      <th></th>\n",
       "      <th>TARGET</th>\n",
       "      <th>NAME_CONTRACT_TYPE</th>\n",
       "      <th>uid</th>\n",
       "    </tr>\n",
       "  </thead>\n",
       "  <tbody>\n",
       "    <tr>\n",
       "      <th>0</th>\n",
       "      <td>0</td>\n",
       "      <td>Cash loans</td>\n",
       "      <td>216823</td>\n",
       "    </tr>\n",
       "    <tr>\n",
       "      <th>1</th>\n",
       "      <td>0</td>\n",
       "      <td>Revolving loans</td>\n",
       "      <td>23503</td>\n",
       "    </tr>\n",
       "    <tr>\n",
       "      <th>2</th>\n",
       "      <td>1</td>\n",
       "      <td>Cash loans</td>\n",
       "      <td>19701</td>\n",
       "    </tr>\n",
       "    <tr>\n",
       "      <th>3</th>\n",
       "      <td>1</td>\n",
       "      <td>Revolving loans</td>\n",
       "      <td>1356</td>\n",
       "    </tr>\n",
       "  </tbody>\n",
       "</table>\n",
       "</div>"
      ],
      "text/plain": [
       "   TARGET NAME_CONTRACT_TYPE     uid\n",
       "0       0         Cash loans  216823\n",
       "1       0    Revolving loans   23503\n",
       "2       1         Cash loans   19701\n",
       "3       1    Revolving loans    1356"
      ]
     },
     "execution_count": 101,
     "metadata": {},
     "output_type": "execute_result"
    }
   ],
   "source": [
    "data_all.groupby([target_variable, 'NAME_CONTRACT_TYPE']).count().reset_index()"
   ]
  },
  {
   "cell_type": "markdown",
   "metadata": {
    "tags": []
   },
   "source": [
    "### Accounts data\n",
    "\n",
    "Details of loans taken by the borrower before they applied for a loan from your client. These details were collected when the borrower applied for a loan from your client."
   ]
  },
  {
   "cell_type": "code",
   "execution_count": 103,
   "metadata": {},
   "outputs": [],
   "source": [
    "data_all = df_dict[acc]"
   ]
  },
  {
   "cell_type": "markdown",
   "metadata": {
    "id": "Tge8wxakbKwg",
    "tags": []
   },
   "source": [
    "#### Checking for the Missing Data"
   ]
  },
  {
   "cell_type": "code",
   "execution_count": 281,
   "metadata": {
    "colab": {
     "base_uri": "https://localhost:8080/"
    },
    "id": "4EbY4sNSm-Hv",
    "outputId": "d657523f-30f1-41ae-9c04-26849feb8a4d"
   },
   "outputs": [
    {
     "data": {
      "text/plain": [
       "credit_type                 0\n",
       "loan_amount                 3\n",
       "amount_overdue              0\n",
       "open_date                   0\n",
       "closed_date            463035\n",
       "payment_hist_string         0\n",
       "uid                         0\n",
       "dtype: int64"
      ]
     },
     "execution_count": 281,
     "metadata": {},
     "output_type": "execute_result"
    }
   ],
   "source": [
    "data_all.isna().sum()"
   ]
  },
  {
   "cell_type": "code",
   "execution_count": 206,
   "metadata": {
    "colab": {
     "base_uri": "https://localhost:8080/",
     "height": 426
    },
    "id": "S7LBgoRi7-se",
    "outputId": "aea082ce-078e-424c-fa66-721d302b7781"
   },
   "outputs": [
    {
     "data": {
      "image/png": "[encoded data removed]",
      "text/plain": [
       "<matplotlib.figure.Figure at 0x7fd7dfdd22b0>"
      ]
     },
     "metadata": {
      "needs_background": "light"
     },
     "output_type": "display_data"
    }
   ],
   "source": [
    "sns.heatmap(data_all.isna(), yticklabels=False, cbar=False, cmap='viridis')\n",
    "plt.show()"
   ]
  },
  {
   "cell_type": "code",
   "execution_count": 207,
   "metadata": {
    "colab": {
     "base_uri": "https://localhost:8080/",
     "height": 159
    },
    "id": "KUXJmjeP7d5U",
    "outputId": "c2b1e066-c0ac-4901-a016-e9f1a47924eb"
   },
   "outputs": [
    {
     "name": "stdout",
     "output_type": "stream",
     "text": [
      "2\n"
     ]
    },
    {
     "data": {
      "text/html": [
       "<div>\n",
       "<style scoped>\n",
       "    .dataframe tbody tr th:only-of-type {\n",
       "        vertical-align: middle;\n",
       "    }\n",
       "\n",
       "    .dataframe tbody tr th {\n",
       "        vertical-align: top;\n",
       "    }\n",
       "\n",
       "    .dataframe thead th {\n",
       "        text-align: right;\n",
       "    }\n",
       "</style>\n",
       "<table border=\"1\" class=\"dataframe\">\n",
       "  <thead>\n",
       "    <tr style=\"text-align: right;\">\n",
       "      <th></th>\n",
       "      <th>0</th>\n",
       "      <th>1</th>\n",
       "    </tr>\n",
       "  </thead>\n",
       "  <tbody>\n",
       "    <tr>\n",
       "      <th>is_missing</th>\n",
       "      <td>False</td>\n",
       "      <td>True</td>\n",
       "    </tr>\n",
       "    <tr>\n",
       "      <th>loan_amount %</th>\n",
       "      <td>99.9998</td>\n",
       "      <td>0.000240904</td>\n",
       "    </tr>\n",
       "    <tr>\n",
       "      <th>loan_amount Count</th>\n",
       "      <td>1245307</td>\n",
       "      <td>3</td>\n",
       "    </tr>\n",
       "    <tr>\n",
       "      <th>closed_date %</th>\n",
       "      <td>62.8177</td>\n",
       "      <td>37.1823</td>\n",
       "    </tr>\n",
       "    <tr>\n",
       "      <th>closed_date Count</th>\n",
       "      <td>782275</td>\n",
       "      <td>463035</td>\n",
       "    </tr>\n",
       "  </tbody>\n",
       "</table>\n",
       "</div>"
      ],
      "text/plain": [
       "                         0            1\n",
       "is_missing           False         True\n",
       "loan_amount %      99.9998  0.000240904\n",
       "loan_amount Count  1245307            3\n",
       "closed_date %      62.8177      37.1823\n",
       "closed_date Count   782275       463035"
      ]
     },
     "execution_count": 207,
     "metadata": {},
     "output_type": "execute_result"
    }
   ],
   "source": [
    "## features where there are null values present\n",
    "dqi_cols = find_na_cols(data_all)\n",
    "print(len(dqi_cols))\n",
    "find_missing_perc(data_all, dqi_cols)"
   ]
  },
  {
   "cell_type": "markdown",
   "metadata": {
    "id": "pPQjwRndm85b"
   },
   "source": [
    "##### Categorizing/finding type of missing Data\n",
    "\n",
    "Missing data can be categorized three types. \n",
    "1. MCAR - Missing completely at Random\n",
    "No relationship with Other variables\n",
    "2. MAR - Missing at Random\n",
    "There is some relation between other variables (some pattern observed)\n",
    "3. MNAR - Missing Not at Random \n",
    "There is some pattern observed within the same variable\n",
    "\n",
    "Dropping MCAR type data wouldn't affect the performance as they are missing randomly.\n",
    "\n",
    "Dropping MAR or MNAR may introduce bias in the data. Dropping missing values is generally not recommended in such cases. \n",
    "\n",
    "But again it depends on different scenarios like amount of data and quality of data."
   ]
  },
  {
   "cell_type": "markdown",
   "metadata": {},
   "source": [
    "##### Missing data: Loan Amount\n",
    "\n",
    "Very hard to say why the data was missing since the number of missing values is low.\n",
    "3 vals. \n",
    "it can imputed with either median or dropped(if no rows are available). \n",
    "Type: MCAR.\n",
    "\n",
    "This will be handled while cleaning up the data and feature generation section"
   ]
  },
  {
   "cell_type": "markdown",
   "metadata": {},
   "source": [
    "Distribution of loan_amount"
   ]
  },
  {
   "cell_type": "code",
   "execution_count": 284,
   "metadata": {
    "colab": {
     "base_uri": "https://localhost:8080/",
     "height": 279
    },
    "id": "PFHs-uz7PaTS",
    "outputId": "46c2d31d-ba52-4053-eae0-cadf4e41a356"
   },
   "outputs": [
    {
     "data": {
      "image/png": "[encoded data removed]",
      "text/plain": [
       "<matplotlib.figure.Figure at 0x7fd7dce39668>"
      ]
     },
     "metadata": {
      "needs_background": "light"
     },
     "output_type": "display_data"
    },
    {
     "data": {
      "image/png": "[encoded data removed]",
      "text/plain": [
       "<matplotlib.figure.Figure at 0x7fd7d7962cf8>"
      ]
     },
     "metadata": {
      "needs_background": "light"
     },
     "output_type": "display_data"
    }
   ],
   "source": [
    "for c in dqi_cols[:1]: \n",
    "  sns.distplot(data_all[c].dropna(), color='darkred', bins=10)\n",
    "  plt.show()\n",
    "  sns.distplot(np.log1p(data_all[c].dropna()), color='darkred', bins=30)\n"
   ]
  },
  {
   "cell_type": "code",
   "execution_count": null,
   "metadata": {},
   "outputs": [
    {
     "data": {
      "text/html": [
       "<div>\n",
       "<style scoped>\n",
       "    .dataframe tbody tr th:only-of-type {\n",
       "        vertical-align: middle;\n",
       "    }\n",
       "\n",
       "    .dataframe tbody tr th {\n",
       "        vertical-align: top;\n",
       "    }\n",
       "\n",
       "    .dataframe thead th {\n",
       "        text-align: right;\n",
       "    }\n",
       "</style>\n",
       "<table border=\"1\" class=\"dataframe\">\n",
       "  <thead>\n",
       "    <tr style=\"text-align: right;\">\n",
       "      <th></th>\n",
       "      <th>loan_amount</th>\n",
       "      <th>amount_overdue</th>\n",
       "      <th>TARGET</th>\n",
       "    </tr>\n",
       "  </thead>\n",
       "  <tbody>\n",
       "    <tr>\n",
       "      <th>count</th>\n",
       "      <td>1.147785e+06</td>\n",
       "      <td>1.147788e+06</td>\n",
       "      <td>1147788.0</td>\n",
       "    </tr>\n",
       "    <tr>\n",
       "      <th>mean</th>\n",
       "      <td>3.557825e+05</td>\n",
       "      <td>3.021842e+01</td>\n",
       "      <td>0.0</td>\n",
       "    </tr>\n",
       "    <tr>\n",
       "      <th>std</th>\n",
       "      <td>1.138366e+06</td>\n",
       "      <td>6.304366e+03</td>\n",
       "      <td>0.0</td>\n",
       "    </tr>\n",
       "    <tr>\n",
       "      <th>min</th>\n",
       "      <td>0.000000e+00</td>\n",
       "      <td>0.000000e+00</td>\n",
       "      <td>0.0</td>\n",
       "    </tr>\n",
       "    <tr>\n",
       "      <th>25%</th>\n",
       "      <td>5.166000e+04</td>\n",
       "      <td>0.000000e+00</td>\n",
       "      <td>0.0</td>\n",
       "    </tr>\n",
       "    <tr>\n",
       "      <th>50%</th>\n",
       "      <td>1.251630e+05</td>\n",
       "      <td>0.000000e+00</td>\n",
       "      <td>0.0</td>\n",
       "    </tr>\n",
       "    <tr>\n",
       "      <th>75%</th>\n",
       "      <td>3.100122e+05</td>\n",
       "      <td>0.000000e+00</td>\n",
       "      <td>0.0</td>\n",
       "    </tr>\n",
       "    <tr>\n",
       "      <th>max</th>\n",
       "      <td>3.960000e+08</td>\n",
       "      <td>3.756681e+06</td>\n",
       "      <td>0.0</td>\n",
       "    </tr>\n",
       "  </tbody>\n",
       "</table>\n",
       "</div>"
      ],
      "text/plain": [
       "        loan_amount  amount_overdue     TARGET\n",
       "count  1.147785e+06    1.147788e+06  1147788.0\n",
       "mean   3.557825e+05    3.021842e+01        0.0\n",
       "std    1.138366e+06    6.304366e+03        0.0\n",
       "min    0.000000e+00    0.000000e+00        0.0\n",
       "25%    5.166000e+04    0.000000e+00        0.0\n",
       "50%    1.251630e+05    0.000000e+00        0.0\n",
       "75%    3.100122e+05    0.000000e+00        0.0\n",
       "max    3.960000e+08    3.756681e+06        0.0"
      ]
     },
     "metadata": {},
     "output_type": "display_data"
    },
    {
     "data": {
      "text/html": [
       "<div>\n",
       "<style scoped>\n",
       "    .dataframe tbody tr th:only-of-type {\n",
       "        vertical-align: middle;\n",
       "    }\n",
       "\n",
       "    .dataframe tbody tr th {\n",
       "        vertical-align: top;\n",
       "    }\n",
       "\n",
       "    .dataframe thead th {\n",
       "        text-align: right;\n",
       "    }\n",
       "</style>\n",
       "<table border=\"1\" class=\"dataframe\">\n",
       "  <thead>\n",
       "    <tr style=\"text-align: right;\">\n",
       "      <th></th>\n",
       "      <th>loan_amount</th>\n",
       "      <th>amount_overdue</th>\n",
       "      <th>TARGET</th>\n",
       "    </tr>\n",
       "  </thead>\n",
       "  <tbody>\n",
       "    <tr>\n",
       "      <th>count</th>\n",
       "      <td>9.752200e+04</td>\n",
       "      <td>9.752200e+04</td>\n",
       "      <td>97522.0</td>\n",
       "    </tr>\n",
       "    <tr>\n",
       "      <th>mean</th>\n",
       "      <td>3.120038e+05</td>\n",
       "      <td>1.809558e+02</td>\n",
       "      <td>1.0</td>\n",
       "    </tr>\n",
       "    <tr>\n",
       "      <th>std</th>\n",
       "      <td>6.887391e+05</td>\n",
       "      <td>1.000392e+04</td>\n",
       "      <td>0.0</td>\n",
       "    </tr>\n",
       "    <tr>\n",
       "      <th>min</th>\n",
       "      <td>0.000000e+00</td>\n",
       "      <td>0.000000e+00</td>\n",
       "      <td>1.0</td>\n",
       "    </tr>\n",
       "    <tr>\n",
       "      <th>25%</th>\n",
       "      <td>4.554000e+04</td>\n",
       "      <td>0.000000e+00</td>\n",
       "      <td>1.0</td>\n",
       "    </tr>\n",
       "    <tr>\n",
       "      <th>50%</th>\n",
       "      <td>1.200292e+05</td>\n",
       "      <td>0.000000e+00</td>\n",
       "      <td>1.0</td>\n",
       "    </tr>\n",
       "    <tr>\n",
       "      <th>75%</th>\n",
       "      <td>3.013890e+05</td>\n",
       "      <td>0.000000e+00</td>\n",
       "      <td>1.0</td>\n",
       "    </tr>\n",
       "    <tr>\n",
       "      <th>max</th>\n",
       "      <td>3.519000e+07</td>\n",
       "      <td>2.387232e+06</td>\n",
       "      <td>1.0</td>\n",
       "    </tr>\n",
       "  </tbody>\n",
       "</table>\n",
       "</div>"
      ],
      "text/plain": [
       "        loan_amount  amount_overdue   TARGET\n",
       "count  9.752200e+04    9.752200e+04  97522.0\n",
       "mean   3.120038e+05    1.809558e+02      1.0\n",
       "std    6.887391e+05    1.000392e+04      0.0\n",
       "min    0.000000e+00    0.000000e+00      1.0\n",
       "25%    4.554000e+04    0.000000e+00      1.0\n",
       "50%    1.200292e+05    0.000000e+00      1.0\n",
       "75%    3.013890e+05    0.000000e+00      1.0\n",
       "max    3.519000e+07    2.387232e+06      1.0"
      ]
     },
     "metadata": {},
     "output_type": "display_data"
    }
   ],
   "source": [
    "temp_data = data_all.merge(df_dict[flg], on='uid')\n",
    "display(temp_data[temp_data[target_variable]==0].describe())\n",
    "display(temp_data[temp_data[target_variable]==1].describe())"
   ]
  },
  {
   "cell_type": "code",
   "execution_count": 198,
   "metadata": {},
   "outputs": [],
   "source": [
    "loan_missing = data_all['loan_amount'].isna()\n",
    "missing_uid_list = data_all[loan_missing].uid"
   ]
  },
  {
   "cell_type": "code",
   "execution_count": 203,
   "metadata": {},
   "outputs": [
    {
     "data": {
      "text/html": [
       "<div>\n",
       "<style scoped>\n",
       "    .dataframe tbody tr th:only-of-type {\n",
       "        vertical-align: middle;\n",
       "    }\n",
       "\n",
       "    .dataframe tbody tr th {\n",
       "        vertical-align: top;\n",
       "    }\n",
       "\n",
       "    .dataframe thead tr th {\n",
       "        text-align: left;\n",
       "    }\n",
       "\n",
       "    .dataframe thead tr:last-of-type th {\n",
       "        text-align: right;\n",
       "    }\n",
       "</style>\n",
       "<table border=\"1\" class=\"dataframe\">\n",
       "  <thead>\n",
       "    <tr>\n",
       "      <th></th>\n",
       "      <th colspan=\"8\" halign=\"left\">loan_amount</th>\n",
       "      <th colspan=\"5\" halign=\"left\">amount_overdue</th>\n",
       "      <th colspan=\"8\" halign=\"left\">TARGET</th>\n",
       "    </tr>\n",
       "    <tr>\n",
       "      <th></th>\n",
       "      <th>count</th>\n",
       "      <th>mean</th>\n",
       "      <th>std</th>\n",
       "      <th>min</th>\n",
       "      <th>25%</th>\n",
       "      <th>50%</th>\n",
       "      <th>75%</th>\n",
       "      <th>max</th>\n",
       "      <th>count</th>\n",
       "      <th>mean</th>\n",
       "      <th>...</th>\n",
       "      <th>75%</th>\n",
       "      <th>max</th>\n",
       "      <th>count</th>\n",
       "      <th>mean</th>\n",
       "      <th>std</th>\n",
       "      <th>min</th>\n",
       "      <th>25%</th>\n",
       "      <th>50%</th>\n",
       "      <th>75%</th>\n",
       "      <th>max</th>\n",
       "    </tr>\n",
       "    <tr>\n",
       "      <th>uid</th>\n",
       "      <th></th>\n",
       "      <th></th>\n",
       "      <th></th>\n",
       "      <th></th>\n",
       "      <th></th>\n",
       "      <th></th>\n",
       "      <th></th>\n",
       "      <th></th>\n",
       "      <th></th>\n",
       "      <th></th>\n",
       "      <th></th>\n",
       "      <th></th>\n",
       "      <th></th>\n",
       "      <th></th>\n",
       "      <th></th>\n",
       "      <th></th>\n",
       "      <th></th>\n",
       "      <th></th>\n",
       "      <th></th>\n",
       "      <th></th>\n",
       "      <th></th>\n",
       "    </tr>\n",
       "  </thead>\n",
       "  <tbody>\n",
       "    <tr>\n",
       "      <th>BJV01354901</th>\n",
       "      <td>3.0</td>\n",
       "      <td>423805.56</td>\n",
       "      <td>6.151847e+05</td>\n",
       "      <td>55665.0</td>\n",
       "      <td>68708.34</td>\n",
       "      <td>81751.68</td>\n",
       "      <td>607875.84</td>\n",
       "      <td>1134000.0</td>\n",
       "      <td>3.0</td>\n",
       "      <td>0.0</td>\n",
       "      <td>...</td>\n",
       "      <td>0.0</td>\n",
       "      <td>0.0</td>\n",
       "      <td>3.0</td>\n",
       "      <td>0.0</td>\n",
       "      <td>0.0</td>\n",
       "      <td>0.0</td>\n",
       "      <td>0.0</td>\n",
       "      <td>0.0</td>\n",
       "      <td>0.0</td>\n",
       "      <td>0.0</td>\n",
       "    </tr>\n",
       "    <tr>\n",
       "      <th>MVG95017452</th>\n",
       "      <td>5.0</td>\n",
       "      <td>3477220.20</td>\n",
       "      <td>3.170154e+06</td>\n",
       "      <td>1255500.0</td>\n",
       "      <td>1800000.00</td>\n",
       "      <td>2103660.00</td>\n",
       "      <td>3226941.00</td>\n",
       "      <td>9000000.0</td>\n",
       "      <td>5.0</td>\n",
       "      <td>0.0</td>\n",
       "      <td>...</td>\n",
       "      <td>0.0</td>\n",
       "      <td>0.0</td>\n",
       "      <td>5.0</td>\n",
       "      <td>0.0</td>\n",
       "      <td>0.0</td>\n",
       "      <td>0.0</td>\n",
       "      <td>0.0</td>\n",
       "      <td>0.0</td>\n",
       "      <td>0.0</td>\n",
       "      <td>0.0</td>\n",
       "    </tr>\n",
       "  </tbody>\n",
       "</table>\n",
       "<p>2 rows × 24 columns</p>\n",
       "</div>"
      ],
      "text/plain": [
       "            loan_amount                                                   \\\n",
       "                  count        mean           std        min         25%   \n",
       "uid                                                                        \n",
       "BJV01354901         3.0   423805.56  6.151847e+05    55665.0    68708.34   \n",
       "MVG95017452         5.0  3477220.20  3.170154e+06  1255500.0  1800000.00   \n",
       "\n",
       "                                               amount_overdue       ...       \\\n",
       "                    50%         75%        max          count mean  ...  75%   \n",
       "uid                                                                 ...        \n",
       "BJV01354901    81751.68   607875.84  1134000.0            3.0  0.0  ...  0.0   \n",
       "MVG95017452  2103660.00  3226941.00  9000000.0            5.0  0.0  ...  0.0   \n",
       "\n",
       "                 TARGET                                     \n",
       "             max  count mean  std  min  25%  50%  75%  max  \n",
       "uid                                                         \n",
       "BJV01354901  0.0    3.0  0.0  0.0  0.0  0.0  0.0  0.0  0.0  \n",
       "MVG95017452  0.0    5.0  0.0  0.0  0.0  0.0  0.0  0.0  0.0  \n",
       "\n",
       "[2 rows x 24 columns]"
      ]
     },
     "execution_count": 203,
     "metadata": {},
     "output_type": "execute_result"
    }
   ],
   "source": [
    "temp_data[temp_data.uid.isin(missing_uid_list)].dropna().groupby('uid').describe()"
   ]
  },
  {
   "cell_type": "markdown",
   "metadata": {},
   "source": []
  },
  {
   "cell_type": "markdown",
   "metadata": {},
   "source": [
    "##### Missing data: Closed Date\n",
    "Given per Description: \n",
    "Date on which the loan was closed. If the loan is running, then this is missing.\n",
    "\n",
    "Type: MNAR (missing not at random) \n",
    "Phew! the description made it easy :)\n",
    "\n",
    "For this we can add following features.\n",
    "1. number of running loans\n",
    "2. if present time taken to repay\n",
    "3. average number of next loan taken\n",
    "4. Other date related features\n",
    " \n",
    "This will be done in data cleaning the data and feature generation section"
   ]
  },
  {
   "cell_type": "code",
   "execution_count": null,
   "metadata": {},
   "outputs": [],
   "source": []
  },
  {
   "cell_type": "markdown",
   "metadata": {
    "id": "pxJVRP45jEEK",
    "tags": []
   },
   "source": [
    "#### Finding Outliers or curruption in the data.\n",
    "\n"
   ]
  },
  {
   "cell_type": "markdown",
   "metadata": {},
   "source": [
    "#### check for corrupted data \n",
    "1. len of payment_hist_string is not a multiple of 3 or is equal to zero\n",
    "2. open_date is stricly >= closed_date\n",
    "3. check for other possibilities\n"
   ]
  },
  {
   "cell_type": "code",
   "execution_count": null,
   "metadata": {},
   "outputs": [],
   "source": []
  },
  {
   "cell_type": "code",
   "execution_count": 280,
   "metadata": {
    "id": "qYoQablWjvNm"
   },
   "outputs": [],
   "source": [
    "# rename_column_dict = {\n",
    "#     c: c + ' IQR Outler' for c in poss_cont_cols\n",
    "# }\n",
    "# iqr_outlier_df = data_all[poss_cont_cols].apply(IQR_method).rename(columns=rename_column_dict)"
   ]
  },
  {
   "cell_type": "markdown",
   "metadata": {
    "tags": []
   },
   "source": [
    "#### Analyis of Accounts Data"
   ]
  },
  {
   "cell_type": "markdown",
   "metadata": {},
   "source": [
    "creating temproary data frames (it will be does seperately as part of sklearn pipeline) \n",
    "so that we do affect the values. "
   ]
  },
  {
   "cell_type": "code",
   "execution_count": 382,
   "metadata": {},
   "outputs": [
    {
     "data": {
      "text/plain": [
       "(['credit_type', 'NAME_CONTRACT_TYPE', 'TARGET'],\n",
       " ['loan_amount',\n",
       "  'amount_overdue',\n",
       "  'open_date',\n",
       "  'closed_date',\n",
       "  'payment_hist_string',\n",
       "  'uid'])"
      ]
     },
     "execution_count": 382,
     "metadata": {},
     "output_type": "execute_result"
    }
   ],
   "source": [
    "temp_data = data_all.merge(df_dict[flg], on='uid')\n",
    "poss_cat_cols, poss_cont_cols = find_possible_cat_cont_cols(temp_data, unique_count_thresh=20)\n",
    "poss_cat_cols, poss_cont_cols"
   ]
  },
  {
   "cell_type": "code",
   "execution_count": 383,
   "metadata": {},
   "outputs": [
    {
     "data": {
      "text/html": [
       "<div>\n",
       "<style scoped>\n",
       "    .dataframe tbody tr th:only-of-type {\n",
       "        vertical-align: middle;\n",
       "    }\n",
       "\n",
       "    .dataframe tbody tr th {\n",
       "        vertical-align: top;\n",
       "    }\n",
       "\n",
       "    .dataframe thead th {\n",
       "        text-align: right;\n",
       "    }\n",
       "</style>\n",
       "<table border=\"1\" class=\"dataframe\">\n",
       "  <thead>\n",
       "    <tr style=\"text-align: right;\">\n",
       "      <th></th>\n",
       "      <th>credit_type</th>\n",
       "      <th>loan_amount</th>\n",
       "      <th>amount_overdue</th>\n",
       "      <th>open_date</th>\n",
       "      <th>closed_date</th>\n",
       "      <th>payment_hist_string</th>\n",
       "      <th>uid</th>\n",
       "      <th>NAME_CONTRACT_TYPE</th>\n",
       "      <th>TARGET</th>\n",
       "    </tr>\n",
       "  </thead>\n",
       "  <tbody>\n",
       "    <tr>\n",
       "      <th>0</th>\n",
       "      <td>Consumer credit</td>\n",
       "      <td>272745.000</td>\n",
       "      <td>0.0</td>\n",
       "      <td>2018-09-22</td>\n",
       "      <td>2020-02-22</td>\n",
       "      <td>0000000000000000000000100000000000000000000000...</td>\n",
       "      <td>AAA09044550</td>\n",
       "      <td>Cash loans</td>\n",
       "      <td>0</td>\n",
       "    </tr>\n",
       "    <tr>\n",
       "      <th>1</th>\n",
       "      <td>Consumer credit</td>\n",
       "      <td>4500.000</td>\n",
       "      <td>0.0</td>\n",
       "      <td>2018-03-08</td>\n",
       "      <td>2019-07-25</td>\n",
       "      <td>000000000000000014044000000000000000000000000000</td>\n",
       "      <td>AAA09044550</td>\n",
       "      <td>Cash loans</td>\n",
       "      <td>0</td>\n",
       "    </tr>\n",
       "    <tr>\n",
       "      <th>2</th>\n",
       "      <td>Credit card</td>\n",
       "      <td>80996.445</td>\n",
       "      <td>0.0</td>\n",
       "      <td>2020-06-29</td>\n",
       "      <td>NaN</td>\n",
       "      <td>000000000000000000</td>\n",
       "      <td>AAA10545297</td>\n",
       "      <td>Cash loans</td>\n",
       "      <td>0</td>\n",
       "    </tr>\n",
       "    <tr>\n",
       "      <th>3</th>\n",
       "      <td>Consumer credit</td>\n",
       "      <td>43771.500</td>\n",
       "      <td>0.0</td>\n",
       "      <td>2020-06-09</td>\n",
       "      <td>2020-09-09</td>\n",
       "      <td>000000000</td>\n",
       "      <td>AAA14112888</td>\n",
       "      <td>Cash loans</td>\n",
       "      <td>0</td>\n",
       "    </tr>\n",
       "    <tr>\n",
       "      <th>4</th>\n",
       "      <td>Credit card</td>\n",
       "      <td>10480.500</td>\n",
       "      <td>0.0</td>\n",
       "      <td>2014-09-10</td>\n",
       "      <td>NaN</td>\n",
       "      <td>0000000000000000000000000000000000000000000000...</td>\n",
       "      <td>AAA20326915</td>\n",
       "      <td>Cash loans</td>\n",
       "      <td>0</td>\n",
       "    </tr>\n",
       "  </tbody>\n",
       "</table>\n",
       "</div>"
      ],
      "text/plain": [
       "       credit_type  loan_amount  amount_overdue   open_date closed_date  \\\n",
       "0  Consumer credit   272745.000             0.0  2018-09-22  2020-02-22   \n",
       "1  Consumer credit     4500.000             0.0  2018-03-08  2019-07-25   \n",
       "2      Credit card    80996.445             0.0  2020-06-29         NaN   \n",
       "3  Consumer credit    43771.500             0.0  2020-06-09  2020-09-09   \n",
       "4      Credit card    10480.500             0.0  2014-09-10         NaN   \n",
       "\n",
       "                                 payment_hist_string          uid  \\\n",
       "0  0000000000000000000000100000000000000000000000...  AAA09044550   \n",
       "1   000000000000000014044000000000000000000000000000  AAA09044550   \n",
       "2                                 000000000000000000  AAA10545297   \n",
       "3                                          000000000  AAA14112888   \n",
       "4  0000000000000000000000000000000000000000000000...  AAA20326915   \n",
       "\n",
       "  NAME_CONTRACT_TYPE  TARGET  \n",
       "0         Cash loans       0  \n",
       "1         Cash loans       0  \n",
       "2         Cash loans       0  \n",
       "3         Cash loans       0  \n",
       "4         Cash loans       0  "
      ]
     },
     "execution_count": 383,
     "metadata": {},
     "output_type": "execute_result"
    }
   ],
   "source": [
    "temp_data.head()"
   ]
  },
  {
   "cell_type": "code",
   "execution_count": 384,
   "metadata": {},
   "outputs": [],
   "source": [
    "#### Adding few additional features\n",
    "\n",
    "obj2date = lambda  x: pd.to_datetime(x)\n",
    "temp_data['open_date'] =obj2date(temp_data['open_date'])\n",
    "temp_data['closed_date'] = obj2date(temp_data['closed_date'])\n",
    "temp_data['is_loan_open'] = 0 \n",
    "temp_data['is_loan_open'] = np.where(temp_data['closed_date'].isna(), 1, 0)\n",
    "temp_data['loan_closed_in_days'] = (temp_data['closed_date'] - temp_data['open_date']).dt.days + 0.00001\n",
    "temp_data['loan_closed_in_days'] = temp_data['loan_closed_in_days'].fillna(-9999)\n"
   ]
  },
  {
   "cell_type": "markdown",
   "metadata": {},
   "source": []
  },
  {
   "cell_type": "code",
   "execution_count": 396,
   "metadata": {},
   "outputs": [],
   "source": [
    "temp_data['phs_lenght'] = temp_data['payment_hist_string'].str.len() \n",
    "# temp_data['phs_mod3_corrupted'] = np.where(temp_data['phs_lenght'] % 3 != 0 , 1, 0)\n",
    "temp_data['phs_zero_corrupted'] = np.where(temp_data['phs_lenght'] == 0, 1, 0)"
   ]
  },
  {
   "cell_type": "code",
   "execution_count": 478,
   "metadata": {},
   "outputs": [],
   "source": [
    "# 'is_loan_open' --> just need count for this"
   ]
  },
  {
   "cell_type": "code",
   "execution_count": 406,
   "metadata": {},
   "outputs": [],
   "source": [
    "loan_missing = temp_data['loan_amount'].isna()\n",
    "missing_uid_list = temp_data[loan_missing].uid.unique().tolist()\n",
    "\n",
    "t = dict(temp_data[temp_data.uid.isin(missing_uid_list)].dropna().groupby('uid')['loan_amount'].median())\n",
    "default_value=0\n",
    "for i in missing_uid_list:\n",
    "    if i not in t.keys():\n",
    "        t[i] = default_value\n",
    "for c in t.keys():\n",
    "    temp_data.loc[(temp_data.uid == c) & (loan_missing) , 'loan_amount'] = t[c]"
   ]
  },
  {
   "cell_type": "code",
   "execution_count": 525,
   "metadata": {},
   "outputs": [
    {
     "data": {
      "text/plain": [
       "(1245310, 18)"
      ]
     },
     "execution_count": 525,
     "metadata": {},
     "output_type": "execute_result"
    }
   ],
   "source": [
    "# temp_data.shape"
   ]
  },
  {
   "cell_type": "code",
   "execution_count": 560,
   "metadata": {},
   "outputs": [
    {
     "data": {
      "text/plain": [
       "array([0.00000000e+00, 4.63500000e+02, 5.36375475e+04, 1.10701161e+05,\n",
       "       7.44710908e+05])"
      ]
     },
     "execution_count": 560,
     "metadata": {},
     "output_type": "execute_result"
    }
   ],
   "source": [
    "temp_data['amount_overdue'].describe(percentiles=[.99])\n",
    "np.percentile(temp_data['amount_overdue'], [90, 99.9, 99.99, 99.995, 99.999])\n"
   ]
  },
  {
   "cell_type": "code",
   "execution_count": 520,
   "metadata": {},
   "outputs": [
    {
     "data": {
      "text/html": [
       "<div>\n",
       "<style scoped>\n",
       "    .dataframe tbody tr th:only-of-type {\n",
       "        vertical-align: middle;\n",
       "    }\n",
       "\n",
       "    .dataframe tbody tr th {\n",
       "        vertical-align: top;\n",
       "    }\n",
       "\n",
       "    .dataframe thead th {\n",
       "        text-align: right;\n",
       "    }\n",
       "</style>\n",
       "<table border=\"1\" class=\"dataframe\">\n",
       "  <thead>\n",
       "    <tr style=\"text-align: right;\">\n",
       "      <th></th>\n",
       "      <th>uid</th>\n",
       "      <th>min amount_overdue Car loan</th>\n",
       "      <th>min amount_overdue Consumer credit</th>\n",
       "      <th>min amount_overdue Credit card</th>\n",
       "      <th>min amount_overdue Loan for business development</th>\n",
       "      <th>min amount_overdue Microloan</th>\n",
       "      <th>min amount_overdue Mortgage</th>\n",
       "      <th>min amount_overdue All</th>\n",
       "      <th>min loan_amount Car loan</th>\n",
       "      <th>min loan_amount Consumer credit</th>\n",
       "      <th>...</th>\n",
       "      <th>count amount_overdue Microloan</th>\n",
       "      <th>count amount_overdue Mortgage</th>\n",
       "      <th>count amount_overdue All</th>\n",
       "      <th>count loan_amount Car loan</th>\n",
       "      <th>count loan_amount Consumer credit</th>\n",
       "      <th>count loan_amount Credit card</th>\n",
       "      <th>count loan_amount Loan for business development</th>\n",
       "      <th>count loan_amount Microloan</th>\n",
       "      <th>count loan_amount Mortgage</th>\n",
       "      <th>count loan_amount All</th>\n",
       "    </tr>\n",
       "  </thead>\n",
       "  <tbody>\n",
       "    <tr>\n",
       "      <th>0</th>\n",
       "      <td>AAA09044550</td>\n",
       "      <td>0.0</td>\n",
       "      <td>0.0</td>\n",
       "      <td>0.0</td>\n",
       "      <td>0.0</td>\n",
       "      <td>0.0</td>\n",
       "      <td>0.0</td>\n",
       "      <td>0.0</td>\n",
       "      <td>0.0</td>\n",
       "      <td>4500.000</td>\n",
       "      <td>...</td>\n",
       "      <td>0.0</td>\n",
       "      <td>0.0</td>\n",
       "      <td>2</td>\n",
       "      <td>0.0</td>\n",
       "      <td>2.0</td>\n",
       "      <td>0.0</td>\n",
       "      <td>0.0</td>\n",
       "      <td>0.0</td>\n",
       "      <td>0.0</td>\n",
       "      <td>2</td>\n",
       "    </tr>\n",
       "    <tr>\n",
       "      <th>1</th>\n",
       "      <td>AAA10545297</td>\n",
       "      <td>0.0</td>\n",
       "      <td>0.0</td>\n",
       "      <td>0.0</td>\n",
       "      <td>0.0</td>\n",
       "      <td>0.0</td>\n",
       "      <td>0.0</td>\n",
       "      <td>0.0</td>\n",
       "      <td>0.0</td>\n",
       "      <td>0.000</td>\n",
       "      <td>...</td>\n",
       "      <td>0.0</td>\n",
       "      <td>0.0</td>\n",
       "      <td>1</td>\n",
       "      <td>0.0</td>\n",
       "      <td>0.0</td>\n",
       "      <td>1.0</td>\n",
       "      <td>0.0</td>\n",
       "      <td>0.0</td>\n",
       "      <td>0.0</td>\n",
       "      <td>1</td>\n",
       "    </tr>\n",
       "    <tr>\n",
       "      <th>2</th>\n",
       "      <td>AAA14112888</td>\n",
       "      <td>0.0</td>\n",
       "      <td>0.0</td>\n",
       "      <td>0.0</td>\n",
       "      <td>0.0</td>\n",
       "      <td>0.0</td>\n",
       "      <td>0.0</td>\n",
       "      <td>0.0</td>\n",
       "      <td>0.0</td>\n",
       "      <td>43771.500</td>\n",
       "      <td>...</td>\n",
       "      <td>0.0</td>\n",
       "      <td>0.0</td>\n",
       "      <td>1</td>\n",
       "      <td>0.0</td>\n",
       "      <td>1.0</td>\n",
       "      <td>0.0</td>\n",
       "      <td>0.0</td>\n",
       "      <td>0.0</td>\n",
       "      <td>0.0</td>\n",
       "      <td>1</td>\n",
       "    </tr>\n",
       "    <tr>\n",
       "      <th>3</th>\n",
       "      <td>AAA20326915</td>\n",
       "      <td>0.0</td>\n",
       "      <td>0.0</td>\n",
       "      <td>0.0</td>\n",
       "      <td>0.0</td>\n",
       "      <td>0.0</td>\n",
       "      <td>0.0</td>\n",
       "      <td>0.0</td>\n",
       "      <td>0.0</td>\n",
       "      <td>46620.000</td>\n",
       "      <td>...</td>\n",
       "      <td>0.0</td>\n",
       "      <td>0.0</td>\n",
       "      <td>8</td>\n",
       "      <td>0.0</td>\n",
       "      <td>5.0</td>\n",
       "      <td>3.0</td>\n",
       "      <td>0.0</td>\n",
       "      <td>0.0</td>\n",
       "      <td>0.0</td>\n",
       "      <td>8</td>\n",
       "    </tr>\n",
       "    <tr>\n",
       "      <th>4</th>\n",
       "      <td>AAA31604840</td>\n",
       "      <td>0.0</td>\n",
       "      <td>0.0</td>\n",
       "      <td>0.0</td>\n",
       "      <td>0.0</td>\n",
       "      <td>0.0</td>\n",
       "      <td>0.0</td>\n",
       "      <td>0.0</td>\n",
       "      <td>0.0</td>\n",
       "      <td>41845.500</td>\n",
       "      <td>...</td>\n",
       "      <td>0.0</td>\n",
       "      <td>0.0</td>\n",
       "      <td>5</td>\n",
       "      <td>0.0</td>\n",
       "      <td>4.0</td>\n",
       "      <td>1.0</td>\n",
       "      <td>0.0</td>\n",
       "      <td>0.0</td>\n",
       "      <td>0.0</td>\n",
       "      <td>5</td>\n",
       "    </tr>\n",
       "    <tr>\n",
       "      <th>...</th>\n",
       "      <td>...</td>\n",
       "      <td>...</td>\n",
       "      <td>...</td>\n",
       "      <td>...</td>\n",
       "      <td>...</td>\n",
       "      <td>...</td>\n",
       "      <td>...</td>\n",
       "      <td>...</td>\n",
       "      <td>...</td>\n",
       "      <td>...</td>\n",
       "      <td>...</td>\n",
       "      <td>...</td>\n",
       "      <td>...</td>\n",
       "      <td>...</td>\n",
       "      <td>...</td>\n",
       "      <td>...</td>\n",
       "      <td>...</td>\n",
       "      <td>...</td>\n",
       "      <td>...</td>\n",
       "      <td>...</td>\n",
       "      <td>...</td>\n",
       "    </tr>\n",
       "    <tr>\n",
       "      <th>81</th>\n",
       "      <td>AAG39505501</td>\n",
       "      <td>0.0</td>\n",
       "      <td>0.0</td>\n",
       "      <td>0.0</td>\n",
       "      <td>0.0</td>\n",
       "      <td>0.0</td>\n",
       "      <td>0.0</td>\n",
       "      <td>0.0</td>\n",
       "      <td>0.0</td>\n",
       "      <td>19615.500</td>\n",
       "      <td>...</td>\n",
       "      <td>0.0</td>\n",
       "      <td>0.0</td>\n",
       "      <td>11</td>\n",
       "      <td>0.0</td>\n",
       "      <td>7.0</td>\n",
       "      <td>4.0</td>\n",
       "      <td>0.0</td>\n",
       "      <td>0.0</td>\n",
       "      <td>0.0</td>\n",
       "      <td>11</td>\n",
       "    </tr>\n",
       "    <tr>\n",
       "      <th>82</th>\n",
       "      <td>AAG53101511</td>\n",
       "      <td>0.0</td>\n",
       "      <td>0.0</td>\n",
       "      <td>0.0</td>\n",
       "      <td>0.0</td>\n",
       "      <td>0.0</td>\n",
       "      <td>0.0</td>\n",
       "      <td>0.0</td>\n",
       "      <td>2326050.0</td>\n",
       "      <td>49871.700</td>\n",
       "      <td>...</td>\n",
       "      <td>0.0</td>\n",
       "      <td>0.0</td>\n",
       "      <td>12</td>\n",
       "      <td>1.0</td>\n",
       "      <td>9.0</td>\n",
       "      <td>2.0</td>\n",
       "      <td>0.0</td>\n",
       "      <td>0.0</td>\n",
       "      <td>0.0</td>\n",
       "      <td>12</td>\n",
       "    </tr>\n",
       "    <tr>\n",
       "      <th>83</th>\n",
       "      <td>AAG53270104</td>\n",
       "      <td>0.0</td>\n",
       "      <td>0.0</td>\n",
       "      <td>0.0</td>\n",
       "      <td>0.0</td>\n",
       "      <td>0.0</td>\n",
       "      <td>0.0</td>\n",
       "      <td>0.0</td>\n",
       "      <td>0.0</td>\n",
       "      <td>15745.635</td>\n",
       "      <td>...</td>\n",
       "      <td>0.0</td>\n",
       "      <td>0.0</td>\n",
       "      <td>5</td>\n",
       "      <td>0.0</td>\n",
       "      <td>4.0</td>\n",
       "      <td>1.0</td>\n",
       "      <td>0.0</td>\n",
       "      <td>0.0</td>\n",
       "      <td>0.0</td>\n",
       "      <td>5</td>\n",
       "    </tr>\n",
       "    <tr>\n",
       "      <th>84</th>\n",
       "      <td>AAG60498318</td>\n",
       "      <td>0.0</td>\n",
       "      <td>0.0</td>\n",
       "      <td>0.0</td>\n",
       "      <td>0.0</td>\n",
       "      <td>0.0</td>\n",
       "      <td>0.0</td>\n",
       "      <td>0.0</td>\n",
       "      <td>0.0</td>\n",
       "      <td>39060.000</td>\n",
       "      <td>...</td>\n",
       "      <td>1.0</td>\n",
       "      <td>0.0</td>\n",
       "      <td>12</td>\n",
       "      <td>0.0</td>\n",
       "      <td>6.0</td>\n",
       "      <td>5.0</td>\n",
       "      <td>0.0</td>\n",
       "      <td>1.0</td>\n",
       "      <td>0.0</td>\n",
       "      <td>12</td>\n",
       "    </tr>\n",
       "    <tr>\n",
       "      <th>85</th>\n",
       "      <td>AAG66087470</td>\n",
       "      <td>0.0</td>\n",
       "      <td>0.0</td>\n",
       "      <td>0.0</td>\n",
       "      <td>0.0</td>\n",
       "      <td>0.0</td>\n",
       "      <td>0.0</td>\n",
       "      <td>0.0</td>\n",
       "      <td>0.0</td>\n",
       "      <td>81000.000</td>\n",
       "      <td>...</td>\n",
       "      <td>0.0</td>\n",
       "      <td>0.0</td>\n",
       "      <td>2</td>\n",
       "      <td>0.0</td>\n",
       "      <td>2.0</td>\n",
       "      <td>0.0</td>\n",
       "      <td>0.0</td>\n",
       "      <td>0.0</td>\n",
       "      <td>0.0</td>\n",
       "      <td>2</td>\n",
       "    </tr>\n",
       "  </tbody>\n",
       "</table>\n",
       "<p>86 rows × 71 columns</p>\n",
       "</div>"
      ],
      "text/plain": [
       "            uid  min amount_overdue Car loan  \\\n",
       "0   AAA09044550                          0.0   \n",
       "1   AAA10545297                          0.0   \n",
       "2   AAA14112888                          0.0   \n",
       "3   AAA20326915                          0.0   \n",
       "4   AAA31604840                          0.0   \n",
       "..          ...                          ...   \n",
       "81  AAG39505501                          0.0   \n",
       "82  AAG53101511                          0.0   \n",
       "83  AAG53270104                          0.0   \n",
       "84  AAG60498318                          0.0   \n",
       "85  AAG66087470                          0.0   \n",
       "\n",
       "    min amount_overdue Consumer credit  min amount_overdue Credit card  \\\n",
       "0                                  0.0                             0.0   \n",
       "1                                  0.0                             0.0   \n",
       "2                                  0.0                             0.0   \n",
       "3                                  0.0                             0.0   \n",
       "4                                  0.0                             0.0   \n",
       "..                                 ...                             ...   \n",
       "81                                 0.0                             0.0   \n",
       "82                                 0.0                             0.0   \n",
       "83                                 0.0                             0.0   \n",
       "84                                 0.0                             0.0   \n",
       "85                                 0.0                             0.0   \n",
       "\n",
       "    min amount_overdue Loan for business development  \\\n",
       "0                                                0.0   \n",
       "1                                                0.0   \n",
       "2                                                0.0   \n",
       "3                                                0.0   \n",
       "4                                                0.0   \n",
       "..                                               ...   \n",
       "81                                               0.0   \n",
       "82                                               0.0   \n",
       "83                                               0.0   \n",
       "84                                               0.0   \n",
       "85                                               0.0   \n",
       "\n",
       "    min amount_overdue Microloan  min amount_overdue Mortgage  \\\n",
       "0                            0.0                          0.0   \n",
       "1                            0.0                          0.0   \n",
       "2                            0.0                          0.0   \n",
       "3                            0.0                          0.0   \n",
       "4                            0.0                          0.0   \n",
       "..                           ...                          ...   \n",
       "81                           0.0                          0.0   \n",
       "82                           0.0                          0.0   \n",
       "83                           0.0                          0.0   \n",
       "84                           0.0                          0.0   \n",
       "85                           0.0                          0.0   \n",
       "\n",
       "    min amount_overdue All  min loan_amount Car loan  \\\n",
       "0                      0.0                       0.0   \n",
       "1                      0.0                       0.0   \n",
       "2                      0.0                       0.0   \n",
       "3                      0.0                       0.0   \n",
       "4                      0.0                       0.0   \n",
       "..                     ...                       ...   \n",
       "81                     0.0                       0.0   \n",
       "82                     0.0                 2326050.0   \n",
       "83                     0.0                       0.0   \n",
       "84                     0.0                       0.0   \n",
       "85                     0.0                       0.0   \n",
       "\n",
       "    min loan_amount Consumer credit  ...  count amount_overdue Microloan  \\\n",
       "0                          4500.000  ...                             0.0   \n",
       "1                             0.000  ...                             0.0   \n",
       "2                         43771.500  ...                             0.0   \n",
       "3                         46620.000  ...                             0.0   \n",
       "4                         41845.500  ...                             0.0   \n",
       "..                              ...  ...                             ...   \n",
       "81                        19615.500  ...                             0.0   \n",
       "82                        49871.700  ...                             0.0   \n",
       "83                        15745.635  ...                             0.0   \n",
       "84                        39060.000  ...                             1.0   \n",
       "85                        81000.000  ...                             0.0   \n",
       "\n",
       "    count amount_overdue Mortgage  count amount_overdue All  \\\n",
       "0                             0.0                         2   \n",
       "1                             0.0                         1   \n",
       "2                             0.0                         1   \n",
       "3                             0.0                         8   \n",
       "4                             0.0                         5   \n",
       "..                            ...                       ...   \n",
       "81                            0.0                        11   \n",
       "82                            0.0                        12   \n",
       "83                            0.0                         5   \n",
       "84                            0.0                        12   \n",
       "85                            0.0                         2   \n",
       "\n",
       "    count loan_amount Car loan  count loan_amount Consumer credit  \\\n",
       "0                          0.0                                2.0   \n",
       "1                          0.0                                0.0   \n",
       "2                          0.0                                1.0   \n",
       "3                          0.0                                5.0   \n",
       "4                          0.0                                4.0   \n",
       "..                         ...                                ...   \n",
       "81                         0.0                                7.0   \n",
       "82                         1.0                                9.0   \n",
       "83                         0.0                                4.0   \n",
       "84                         0.0                                6.0   \n",
       "85                         0.0                                2.0   \n",
       "\n",
       "    count loan_amount Credit card  \\\n",
       "0                             0.0   \n",
       "1                             1.0   \n",
       "2                             0.0   \n",
       "3                             3.0   \n",
       "4                             1.0   \n",
       "..                            ...   \n",
       "81                            4.0   \n",
       "82                            2.0   \n",
       "83                            1.0   \n",
       "84                            5.0   \n",
       "85                            0.0   \n",
       "\n",
       "    count loan_amount Loan for business development  \\\n",
       "0                                               0.0   \n",
       "1                                               0.0   \n",
       "2                                               0.0   \n",
       "3                                               0.0   \n",
       "4                                               0.0   \n",
       "..                                              ...   \n",
       "81                                              0.0   \n",
       "82                                              0.0   \n",
       "83                                              0.0   \n",
       "84                                              0.0   \n",
       "85                                              0.0   \n",
       "\n",
       "    count loan_amount Microloan  count loan_amount Mortgage  \\\n",
       "0                           0.0                         0.0   \n",
       "1                           0.0                         0.0   \n",
       "2                           0.0                         0.0   \n",
       "3                           0.0                         0.0   \n",
       "4                           0.0                         0.0   \n",
       "..                          ...                         ...   \n",
       "81                          0.0                         0.0   \n",
       "82                          0.0                         0.0   \n",
       "83                          0.0                         0.0   \n",
       "84                          1.0                         0.0   \n",
       "85                          0.0                         0.0   \n",
       "\n",
       "    count loan_amount All  \n",
       "0                       2  \n",
       "1                       1  \n",
       "2                       1  \n",
       "3                       8  \n",
       "4                       5  \n",
       "..                    ...  \n",
       "81                     11  \n",
       "82                     12  \n",
       "83                      5  \n",
       "84                     12  \n",
       "85                      2  \n",
       "\n",
       "[86 rows x 71 columns]"
      ]
     },
     "execution_count": 520,
     "metadata": {},
     "output_type": "execute_result"
    }
   ],
   "source": [
    "temp_df = temp_data.head(500) \n",
    "agg_func = [min, max, 'mean', 'median', 'count']\n",
    "temp_df['loan_amount_log1p'] = np.log1p(temp_df['amount_overdue'] )\n",
    "temp_df['amount_overdue_log1p'] = np.log1p(temp_df['amount_overdue'])\n",
    "cont_cols = ['loan_amount', 'amount_overdue', 'loan_closed_in_days','loan_amount_log1p', 'amount_overdue_log1p']\n",
    "pivoted_df = temp_df.pivot_table(index='uid', columns=['credit_type'], \n",
    "                    values=['loan_amount', 'amount_overdue'], aggfunc=agg_func, margins=True).fillna(0)\n",
    "pivoted_df.columns = [' '.join(i) for i in pivoted_df.columns]\n",
    "pivoted_df = pivoted_df.iloc[:-1]\n",
    "pivoted_df.reset_index(inplace=True)\n",
    "pivoted_df\n"
   ]
  },
  {
   "cell_type": "markdown",
   "metadata": {},
   "source": []
  },
  {
   "cell_type": "markdown",
   "metadata": {},
   "source": [
    "#####\n",
    "It is difficult to do the analysis as this data is of long datatype. \n",
    "This needs to be converted to wide data type and try to capture most of the features. \n",
    "Note: The transformation we are doing now are on the temporary data, \n",
    "when were doing the modelling we should be ideally doing it using sklearn pipelines\n",
    "so that it is easy to apply the transformation using transform step. (not done)\n",
    "\n",
    "\n",
    "Also there are few currupted data we'll have to see how to handle those as well. \n",
    "\n",
    "We need to have one row per customer information that would capture most of the stuff here.\n",
    "\n",
    "Ideally should have spent time on EDA as well. Which always iterative process."
   ]
  },
  {
   "cell_type": "code",
   "execution_count": null,
   "metadata": {},
   "outputs": [],
   "source": []
  },
  {
   "cell_type": "markdown",
   "metadata": {},
   "source": [
    "##### Features using PHS"
   ]
  },
  {
   "cell_type": "code",
   "execution_count": 507,
   "metadata": {},
   "outputs": [
    {
     "name": "stdout",
     "output_type": "stream",
     "text": [
      "CPU times: user 10.9 s, sys: 185 ms, total: 11.1 s\n",
      "Wall time: 11.2 s\n"
     ]
    }
   ],
   "source": [
    "# s = temp_data['payment_hist_string'][0]\n",
    "\n",
    "phs_to_numbers= lambda s: [float(s[i:i+3]) + 0.0001  for i in range(0, len(s), 3)]\n",
    "numbers_to_log1p = lambda n: [np.log1p(i) for i in n]\n",
    "%time temp_data['phs_to_numbers'] = temp_data['payment_hist_string'].apply(lambda x: phs_to_numbers(x))\n",
    "%time temp_data['phs_to_log1p'] = temp_data['phs_to_numbers'].apply(lambda x: numbers_to_log1p(x))\n",
    "\n",
    "# \n",
    "# np.log1p()"
   ]
  },
  {
   "cell_type": "code",
   "execution_count": 511,
   "metadata": {},
   "outputs": [
    {
     "name": "stdout",
     "output_type": "stream",
     "text": [
      "CPU times: user 3 µs, sys: 0 ns, total: 3 µs\n",
      "Wall time: 6.44 µs\n"
     ]
    }
   ],
   "source": [
    "\n",
    "phs_to_numbers= lambda s: [float(s[i:i+3]) + 0.0001  for i in range(0, len(s), 3)]\n",
    "numbers_to_log1p = lambda n: [np.log1p(i) for i in n]\n",
    "%time temp_data['phs_to_numbers'] = temp_data['payment_hist_string'].apply(lambda x: phs_to_numbers(x))\n",
    "%time temp_data['phs_to_log1p'] = temp_data['phs_to_numbers'].apply(lambda x: numbers_to_log1p(x))\n",
    "\n",
    "\n",
    "# temp_data['month_avg_due'] = temp_data['phs_to_numbers'].apply(lambda x: np.mean(x))\n",
    "# temp_data['month_median_due'] = temp_data['phs_to_numbers'].apply(lambda x: np.median(x))\n",
    "# temp_data['month_min_due'] = temp_data['phs_to_numbers'].apply(lambda x: np.min(x))\n",
    "# temp_data['month_max_due'] = temp_data['phs_to_numbers'].apply(lambda x: np.max(x))\n",
    "\n",
    "\n",
    "# temp_data['month_avg_due_log1p'] = temp_data['phs_to_log1p'].apply(lambda x: np.mean(x))\n",
    "# temp_data['month_median_due_log1p'] = temp_data['phs_to_log1p'].apply(lambda x: np.median(x))\n",
    "# temp_data['month_min_due_log1p'] = temp_data['phs_to_log1p'].apply(lambda x: np.min(x))\n",
    "# temp_data['month_max_due_log1p'] = temp_data['phs_to_log1p'].apply(lambda x: np.max(x))\n",
    "\n"
   ]
  },
  {
   "cell_type": "code",
   "execution_count": 440,
   "metadata": {},
   "outputs": [],
   "source": [
    "# for c in cont_cols: \n",
    "#     sns.distplot(temp_data[c])\n",
    "#     plt.show()\n",
    "#     sns.distplot(np.log1p(temp_data[c]))\n",
    "#     plt.show()"
   ]
  },
  {
   "cell_type": "code",
   "execution_count": null,
   "metadata": {
    "colab": {
     "base_uri": "https://localhost:8080/",
     "height": 279
    },
    "id": "iW8NzgSLnLAp",
    "outputId": "523c83a5-fa3a-4c6a-aa58-af968f554325"
   },
   "outputs": [],
   "source": []
  },
  {
   "cell_type": "code",
   "execution_count": null,
   "metadata": {
    "id": "JU0HeDdijmSi"
   },
   "outputs": [],
   "source": [
    "### Univariate Analysis"
   ]
  },
  {
   "cell_type": "code",
   "execution_count": 613,
   "metadata": {
    "colab": {
     "base_uri": "https://localhost:8080/",
     "height": 1000
    },
    "id": "3FJ7DHUjsPQd",
    "outputId": "ebcb8c82-270c-416a-b01e-9624f276d488"
   },
   "outputs": [],
   "source": [
    "# for c in poss_cont_cols: \n",
    "#   sns.distplot(df_for_analysis[c])\n",
    "\n",
    "#   plt.show()"
   ]
  },
  {
   "cell_type": "code",
   "execution_count": 614,
   "metadata": {
    "colab": {
     "base_uri": "https://localhost:8080/",
     "height": 1000
    },
    "id": "pa36VROwsdPy",
    "outputId": "b302df55-be49-4d7d-dda3-49cce4322986"
   },
   "outputs": [],
   "source": [
    "# for c in poss_cat_cols: \n",
    "#   sns.countplot(temp_data[c])\n",
    "#   plt.show()"
   ]
  },
  {
   "cell_type": "markdown",
   "metadata": {
    "id": "Nq2PZuL3vAZi"
   },
   "source": [
    "##### Bivariate analysis"
   ]
  },
  {
   "cell_type": "code",
   "execution_count": 609,
   "metadata": {
    "colab": {
     "base_uri": "https://localhost:8080/",
     "height": 1000
    },
    "id": "LBKveZ4DsvXf",
    "outputId": "77d4a292-8141-4d1e-9add-ad7d2936f700"
   },
   "outputs": [],
   "source": [
    "# for c in poss_cat_cols: \n",
    "#   sns.countplot(x=target_variable, hue=c, data=df_for_analysis)\n",
    "#   plt.show()"
   ]
  },
  {
   "cell_type": "code",
   "execution_count": 610,
   "metadata": {
    "colab": {
     "base_uri": "https://localhost:8080/",
     "height": 541
    },
    "id": "vaNQjJ7JnvF6",
    "outputId": "04e651cd-5c97-4c5e-b770-8853b867e7c5"
   },
   "outputs": [],
   "source": [
    "# sns.countplot(x=target_variable, hue='Class',\n",
    "#               data=df_for_analysis[iqr_outlier_df['Arrival Delay in Minutes IQR Outler']])\n",
    "# plt.show()\n",
    "# sns.countplot(x=target_variable, hue='Class', data=df_for_analysis[iqr_outlier_df['Departure Delay in Minutes IQR Outler']])\n",
    "# plt.show()"
   ]
  },
  {
   "cell_type": "code",
   "execution_count": 611,
   "metadata": {
    "colab": {
     "base_uri": "https://localhost:8080/",
     "height": 374
    },
    "id": "LgRyshRTi01F",
    "outputId": "c9ec12d0-0503-48a6-a616-f658521d93ff"
   },
   "outputs": [],
   "source": [
    "# sns.pairplot(df_for_analysis[poss_cont_cols[-2:]])\n",
    "# plt.show()"
   ]
  },
  {
   "cell_type": "code",
   "execution_count": 612,
   "metadata": {
    "colab": {
     "base_uri": "https://localhost:8080/",
     "height": 369
    },
    "id": "kix1qbkSt4H6",
    "outputId": "6b3e0aa2-c461-4ff9-ed4d-bd6d9d351d8f"
   },
   "outputs": [],
   "source": [
    "# sns.relplot(x=poss_cont_cols[-2], y=poss_cont_cols[-1], hue='satisfaction', data=df_for_analysis)\n",
    "# plt.show()"
   ]
  },
  {
   "cell_type": "code",
   "execution_count": 615,
   "metadata": {
    "colab": {
     "base_uri": "https://localhost:8080/"
    },
    "id": "xYa09Th9MJyf",
    "outputId": "9fbdff6f-52a2-408d-f8b7-e83bb56f62ce"
   },
   "outputs": [],
   "source": [
    "# poss_cat_cols"
   ]
  },
  {
   "cell_type": "markdown",
   "metadata": {},
   "source": [
    "### Analysis for Enquiry Data\n",
    "This contains details of previous loan applications made by the applicant. These applications may or may not be successful.\n"
   ]
  },
  {
   "cell_type": "code",
   "execution_count": 299,
   "metadata": {},
   "outputs": [],
   "source": [
    "data_enq = df_dict[enq]"
   ]
  },
  {
   "cell_type": "code",
   "execution_count": 300,
   "metadata": {},
   "outputs": [
    {
     "data": {
      "text/html": [
       "<div>\n",
       "<style scoped>\n",
       "    .dataframe tbody tr th:only-of-type {\n",
       "        vertical-align: middle;\n",
       "    }\n",
       "\n",
       "    .dataframe tbody tr th {\n",
       "        vertical-align: top;\n",
       "    }\n",
       "\n",
       "    .dataframe thead th {\n",
       "        text-align: right;\n",
       "    }\n",
       "</style>\n",
       "<table border=\"1\" class=\"dataframe\">\n",
       "  <thead>\n",
       "    <tr style=\"text-align: right;\">\n",
       "      <th></th>\n",
       "      <th>enquiry_type</th>\n",
       "      <th>enquiry_amt</th>\n",
       "      <th>enquiry_date</th>\n",
       "      <th>uid</th>\n",
       "    </tr>\n",
       "  </thead>\n",
       "  <tbody>\n",
       "    <tr>\n",
       "      <th>0</th>\n",
       "      <td>Interbank credit</td>\n",
       "      <td>168839</td>\n",
       "      <td>2020-11-08</td>\n",
       "      <td>AAA08065248</td>\n",
       "    </tr>\n",
       "    <tr>\n",
       "      <th>1</th>\n",
       "      <td>Mobile operator loan</td>\n",
       "      <td>268392</td>\n",
       "      <td>2020-09-20</td>\n",
       "      <td>AAA08065248</td>\n",
       "    </tr>\n",
       "    <tr>\n",
       "      <th>2</th>\n",
       "      <td>Mobile operator loan</td>\n",
       "      <td>36082</td>\n",
       "      <td>2020-06-19</td>\n",
       "      <td>AAA08065248</td>\n",
       "    </tr>\n",
       "    <tr>\n",
       "      <th>3</th>\n",
       "      <td>Interbank credit</td>\n",
       "      <td>180467</td>\n",
       "      <td>2019-10-22</td>\n",
       "      <td>AAA08065248</td>\n",
       "    </tr>\n",
       "    <tr>\n",
       "      <th>4</th>\n",
       "      <td>Cash loan (non-earmarked)</td>\n",
       "      <td>227459</td>\n",
       "      <td>2020-05-24</td>\n",
       "      <td>AAA08065248</td>\n",
       "    </tr>\n",
       "  </tbody>\n",
       "</table>\n",
       "</div>"
      ],
      "text/plain": [
       "                enquiry_type  enquiry_amt enquiry_date          uid\n",
       "0           Interbank credit       168839   2020-11-08  AAA08065248\n",
       "1       Mobile operator loan       268392   2020-09-20  AAA08065248\n",
       "2       Mobile operator loan        36082   2020-06-19  AAA08065248\n",
       "3           Interbank credit       180467   2019-10-22  AAA08065248\n",
       "4  Cash loan (non-earmarked)       227459   2020-05-24  AAA08065248"
      ]
     },
     "execution_count": 300,
     "metadata": {},
     "output_type": "execute_result"
    }
   ],
   "source": [
    "data_enq.head()"
   ]
  },
  {
   "cell_type": "code",
   "execution_count": 305,
   "metadata": {},
   "outputs": [
    {
     "name": "stdout",
     "output_type": "stream",
     "text": [
      "<class 'pandas.core.frame.DataFrame'>\n",
      "RangeIndex: 1909926 entries, 0 to 1909925\n",
      "Data columns (total 4 columns):\n",
      "enquiry_type    object\n",
      "enquiry_amt     int64\n",
      "enquiry_date    object\n",
      "uid             object\n",
      "dtypes: int64(1), object(3)\n",
      "memory usage: 58.3+ MB\n"
     ]
    }
   ],
   "source": [
    "data_enq.info()"
   ]
  },
  {
   "cell_type": "code",
   "execution_count": 306,
   "metadata": {},
   "outputs": [
    {
     "data": {
      "text/html": [
       "<div>\n",
       "<style scoped>\n",
       "    .dataframe tbody tr th:only-of-type {\n",
       "        vertical-align: middle;\n",
       "    }\n",
       "\n",
       "    .dataframe tbody tr th {\n",
       "        vertical-align: top;\n",
       "    }\n",
       "\n",
       "    .dataframe thead th {\n",
       "        text-align: right;\n",
       "    }\n",
       "</style>\n",
       "<table border=\"1\" class=\"dataframe\">\n",
       "  <thead>\n",
       "    <tr style=\"text-align: right;\">\n",
       "      <th></th>\n",
       "      <th>enquiry_amt</th>\n",
       "    </tr>\n",
       "  </thead>\n",
       "  <tbody>\n",
       "    <tr>\n",
       "      <th>count</th>\n",
       "      <td>1.909926e+06</td>\n",
       "    </tr>\n",
       "    <tr>\n",
       "      <th>mean</th>\n",
       "      <td>1.160423e+05</td>\n",
       "    </tr>\n",
       "    <tr>\n",
       "      <th>std</th>\n",
       "      <td>8.207031e+04</td>\n",
       "    </tr>\n",
       "    <tr>\n",
       "      <th>min</th>\n",
       "      <td>1.007000e+03</td>\n",
       "    </tr>\n",
       "    <tr>\n",
       "      <th>25%</th>\n",
       "      <td>5.600000e+04</td>\n",
       "    </tr>\n",
       "    <tr>\n",
       "      <th>50%</th>\n",
       "      <td>1.080000e+05</td>\n",
       "    </tr>\n",
       "    <tr>\n",
       "      <th>75%</th>\n",
       "      <td>1.590000e+05</td>\n",
       "    </tr>\n",
       "    <tr>\n",
       "      <th>max</th>\n",
       "      <td>4.999950e+05</td>\n",
       "    </tr>\n",
       "  </tbody>\n",
       "</table>\n",
       "</div>"
      ],
      "text/plain": [
       "        enquiry_amt\n",
       "count  1.909926e+06\n",
       "mean   1.160423e+05\n",
       "std    8.207031e+04\n",
       "min    1.007000e+03\n",
       "25%    5.600000e+04\n",
       "50%    1.080000e+05\n",
       "75%    1.590000e+05\n",
       "max    4.999950e+05"
      ]
     },
     "execution_count": 306,
     "metadata": {},
     "output_type": "execute_result"
    }
   ],
   "source": [
    "data_enq.describe()"
   ]
  },
  {
   "cell_type": "markdown",
   "metadata": {},
   "source": [
    "#### Checking for the Missing Data"
   ]
  },
  {
   "cell_type": "code",
   "execution_count": 307,
   "metadata": {
    "collapsed": true,
    "jupyter": {
     "outputs_hidden": true
    },
    "tags": []
   },
   "outputs": [
    {
     "data": {
      "image/png": "[encoded data removed]",
      "text/plain": [
       "<matplotlib.figure.Figure at 0x7fd7a3a7c978>"
      ]
     },
     "metadata": {
      "needs_background": "light"
     },
     "output_type": "display_data"
    }
   ],
   "source": [
    "sns.heatmap(data_enq.isna(), yticklabels=False, cbar=False, cmap='viridis')\n",
    "plt.show()"
   ]
  },
  {
   "cell_type": "code",
   "execution_count": 309,
   "metadata": {},
   "outputs": [
    {
     "data": {
      "text/plain": [
       "enquiry_type    0\n",
       "enquiry_amt     0\n",
       "enquiry_date    0\n",
       "uid             0\n",
       "dtype: int64"
      ]
     },
     "execution_count": 309,
     "metadata": {},
     "output_type": "execute_result"
    }
   ],
   "source": [
    "data_enq.isna().sum()"
   ]
  },
  {
   "cell_type": "markdown",
   "metadata": {},
   "source": [
    "##### Nice! \n",
    "No missing data in here :) "
   ]
  },
  {
   "cell_type": "code",
   "execution_count": null,
   "metadata": {
    "id": "3HUiw9aat7c5"
   },
   "outputs": [],
   "source": [
    "# sns.relplot(x=poss_cat_cols[5], y=poss_cont_cols[-1], hue='satisfaction', data=data_filtered)\n",
    "# plt.show()"
   ]
  },
  {
   "cell_type": "markdown",
   "metadata": {},
   "source": [
    "Time is spent more or merging the two data frames and generating features"
   ]
  },
  {
   "cell_type": "markdown",
   "metadata": {
    "id": "Vlpnx4lh18G9",
    "tags": [],
    "toc-hr-collapsed": true
   },
   "source": [
    "## Cleaning and Feature Generation: \n",
    "\n",
    "1. changing values catagorical values to one hot encoding vectors.\n",
    "2. dropping id column\n",
    "3. try different bins for categorical values\n",
    "4. possibly take log on the skewed data.\n",
    "5. difference between features. \n",
    "6. average of all the ratings.\n",
    "7. average on the correlated data (flight services, travel services. etc) \n",
    "8. Try PCA after generating all the features. \n",
    "9. Include outlier flags if it is helpful."
   ]
  },
  {
   "cell_type": "code",
   "execution_count": null,
   "metadata": {},
   "outputs": [],
   "source": []
  },
  {
   "cell_type": "markdown",
   "metadata": {
    "id": "Ajf_1VLf1-oO",
    "tags": []
   },
   "source": [
    "#### Useful Transformers\n",
    "\n",
    "My plan was to set up a Sklearn pipeline, but because of the time constraint, left this half way. "
   ]
  },
  {
   "cell_type": "code",
   "execution_count": 31,
   "metadata": {},
   "outputs": [],
   "source": [
    "from sklearn.base import TransformerMixin\n"
   ]
  },
  {
   "cell_type": "code",
   "execution_count": 32,
   "metadata": {},
   "outputs": [],
   "source": [
    "class DFFillLoanMissingTransformer(TransformerMixin):\n",
    "    def __init__(self, strategy='median', default_value=-1):\n",
    "        self.strategy = strategy\n",
    "        \n",
    "    def fit(self, X, y=None):\n",
    "        return self\n",
    "    \n",
    "    def transform(self, X):\n",
    "        loan_missing = data_all['loan_amount'].isna()\n",
    "        missing_uid_list = data_all[loan_missing].uid\n",
    "        t = dict(data_all[data_all.uid.isin(missing_uid_list)].dropna().groupby('uid')['loan_amount'].agg(self.strategy))\n",
    "        for i in missing_uid_list:\n",
    "            if i not in t.keys():\n",
    "                t[i] = self.default_value\n",
    "        for c in t.keys():\n",
    "            temp_df.loc[(temp_df.uid == c) & (loan_missing) , 'loan_amount'] = t[c]"
   ]
  },
  {
   "cell_type": "markdown",
   "metadata": {
    "jp-MarkdownHeadingCollapsed": true,
    "tags": []
   },
   "source": [
    "#### Converting to required data format"
   ]
  },
  {
   "cell_type": "code",
   "execution_count": 33,
   "metadata": {},
   "outputs": [],
   "source": [
    "class DFConvertDateObjectToDateFromat(TransformerMixin):\n",
    "    def fit(self, X, y=None):\n",
    "        return self\n",
    "    \n",
    "    def transform(self, X):\n",
    "        for c in X:\n",
    "            X.loc[:, c] = pd.to_datetime(X.loc[:, c])\n",
    "        return X\n",
    "    \n",
    "class SimpleCatTransformer(TransformerMixin):\n",
    "    def __init__(self, default_value=-1):\n",
    "        self.kv = None\n",
    "        self.default_value = default_value\n",
    "\n",
    "    def fit(self, X, y=None):\n",
    "        columns = X_train.columns.tolist()\n",
    "        for c in X_train.columns:\n",
    "            u_list = X_train[c].unique().tolist()\n",
    "            self.kv[c] = {val: i for i,val in enumerate(u_list)}\n",
    "\n",
    "        return self\n",
    "\n",
    "    def transform(self, X):\n",
    "        return X.apply(lambda x: np.where(x.isin(self.kv[x.name].keys()),\n",
    "                                          x.map(self. kv[x.name]),\n",
    "                                          self.default_value).astype(int))\n",
    "    \n",
    "\n"
   ]
  },
  {
   "cell_type": "markdown",
   "metadata": {
    "tags": []
   },
   "source": [
    "#### Feature generation"
   ]
  },
  {
   "cell_type": "code",
   "execution_count": 34,
   "metadata": {},
   "outputs": [],
   "source": [
    "class Log1pTransformer(TransformerMixin):\n",
    "    def fit(self, X, y=None): \n",
    "        return self\n",
    "    def transform(self, X): \n",
    "        return np.log1p(X)\n",
    "    \n",
    "class DummyTransformer(TransformerMixin): \n",
    "    def __init__(self): \n",
    "        self.dv = None\n",
    "  \n",
    "    def fit(self, X, y=None):\n",
    "        self.dv = DictVectorizer(sparse=False)\n",
    "        self.dv.fit(X.to_dict('records'))\n",
    "        return self\n",
    "\n",
    "    def transform(self, X) : \n",
    "        return pd.DataFrame(data=self.dv.transform(X.to_dict('records')),\n",
    "                        index=X.index,\n",
    "                        columns=self.dv.get_feature_names())\n",
    "    \n",
    "    def predict(self, X) : \n",
    "        return pd.DataFrame(data=self.dv.transform(X.to_dict('records')),\n",
    "                        index=X.index,\n",
    "                        columns=self.dv.get_feature_names())\n",
    "    \n"
   ]
  },
  {
   "cell_type": "markdown",
   "metadata": {
    "tags": []
   },
   "source": [
    "#### wrapper for supporting DF for skelarn pipeline"
   ]
  },
  {
   "cell_type": "code",
   "execution_count": 35,
   "metadata": {},
   "outputs": [],
   "source": [
    "from functools import reduce\n",
    "class ColumnExtractor(TransformerMixin):\n",
    "    def __init__(self, cols): \n",
    "        self.cols = cols\n",
    "  \n",
    "    def fit(self, X, y): \n",
    "        return self\n",
    "\n",
    "    def transform(self, X):\n",
    "        Xcols = X[self.cols]\n",
    "        return Xcols\n",
    "    \n",
    "class DFStandardScaler(TransformerMixin):\n",
    "    def __init__(self): \n",
    "        self.ss = None\n",
    "  \n",
    "    def fit(self, X, y=None): \n",
    "        self.ss = StandardScaler().fit(X)\n",
    "        return self\n",
    "  \n",
    "    def transform(self, X): \n",
    "        return pd.DataFrame(data=self.ss.transform(X), index=X.index,\n",
    "                        columns=X.columns)\n",
    "    \n",
    "class DFFeatureUnion(TransformerMixin):\n",
    "    # FeatureUnion but for pandas DataFrames\n",
    "\n",
    "    def __init__(self, transformer_list):\n",
    "        self.transformer_list = transformer_list\n",
    "\n",
    "    def fit(self, X, y=None):\n",
    "        for (name, t) in self.transformer_list:\n",
    "            t.fit(X, y)\n",
    "        return self\n",
    "\n",
    "    def transform(self, X):\n",
    "      # assumes X is a DataFrame\n",
    "        Xts = [t.transform(X) for _, t in self.transformer_list]\n",
    "        Xunion = reduce(lambda X1, X2: pd.merge(X1, X2, left_index=True,\n",
    "                                              right_index=True), Xts)\n",
    "        return Xunion\n",
    "\n",
    "\n",
    "class ZeroFillTransformer(TransformerMixin):\n",
    "    def fit(self, X, y=None):\n",
    "      # stateless transformer\n",
    "        return self\n",
    "\n",
    "    def transform(self, X):\n",
    "      # assumes X is a DataFrame\n",
    "        Xz = X.fillna(value=0)\n",
    "        return Xz\n",
    "    \n",
    "class GroupTransformer(TransformerMixin): \n",
    "    def __init__(self, by=None, axis=0, level=None, as_index=True, sort=True, group_keys=True, \n",
    "                 observed=False, dropna=True):\n",
    "        pass\n",
    "       \n",
    "    def fit(self, X, y=None): \n",
    "        return self\n",
    "    \n",
    "    def transform(self, X): \n",
    "        return x.groupby(by=self.by, axis=self.axis, level=self.level,as_index=self.sort,\n",
    "                         sort=True, dropna=True).reset_index()\n",
    "    \n",
    "    \n",
    "    "
   ]
  },
  {
   "cell_type": "markdown",
   "metadata": {},
   "source": [
    "#### End of Funcs"
   ]
  },
  {
   "cell_type": "code",
   "execution_count": null,
   "metadata": {},
   "outputs": [],
   "source": []
  },
  {
   "cell_type": "markdown",
   "metadata": {
    "tags": []
   },
   "source": [
    "### From Data - split data into test and train."
   ]
  },
  {
   "cell_type": "code",
   "execution_count": 15,
   "metadata": {},
   "outputs": [],
   "source": [
    "df_flag = df_dict[flg].copy()\n",
    "df_acc = df_dict[acc].copy()\n",
    "df_enq = df_dict[enq].copy()"
   ]
  },
  {
   "cell_type": "code",
   "execution_count": 16,
   "metadata": {},
   "outputs": [],
   "source": [
    "target_variable='TARGET'"
   ]
  },
  {
   "cell_type": "code",
   "execution_count": 17,
   "metadata": {},
   "outputs": [],
   "source": [
    "from sklearn.model_selection import train_test_split\n",
    "X_train, X_test, y_train, y_test = train_test_split(df_flag.drop(target_variable, axis=1), df_flag[target_variable],\n",
    "                                                    stratify=df_flag[target_variable], \n",
    "                                                    test_size=0.2)\n"
   ]
  },
  {
   "cell_type": "code",
   "execution_count": 21,
   "metadata": {},
   "outputs": [],
   "source": [
    "### Don't peek into test data \n",
    "\n",
    "\n",
    "df_flag = df_dict[flg].copy()\n",
    "df_acc = df_dict[acc].copy()\n",
    "df_enq = df_dict[enq].copy()\n",
    "\n",
    "uids_train_list = X_train.uid.unique().tolist()\n",
    "uids_test_list = X_test.uid.unique().tolist()\n",
    "filter_rows_uids = lambda uid_list, df: df[df['uid'].isin(uid_list)]\n",
    "data_dict= {\n",
    "    'train': {\n",
    "        'flg_data': X_train,\n",
    "        'acc_data': filter_rows_uids(uids_train_list, df_acc),\n",
    "        'enq_data': filter_rows_uids(uids_train_list, df_enq),\n",
    "        'y': y_train\n",
    "    },\n",
    "    'test': {\n",
    "        'flg_data': X_test,\n",
    "        'acc_data': filter_rows_uids(uids_test_list, df_acc),\n",
    "        'enq_data': filter_rows_uids(uids_test_list, df_enq),\n",
    "        'y': y_test\n",
    "    }\n",
    "}\n"
   ]
  },
  {
   "cell_type": "code",
   "execution_count": 19,
   "metadata": {},
   "outputs": [],
   "source": [
    "### Don't peek into test data \n",
    "\n",
    "df_flag = df_test_dict[flg].copy()\n",
    "df_acc = df_test_dict[acc].copy()\n",
    "df_enq = df_test_dict[enq].copy()\n",
    "\n",
    "\n",
    "\n",
    "uids_test_list = df_flag.uid.unique().tolist()\n",
    "filter_rows_uids = lambda uid_list, df: df[df['uid'].isin(uid_list)]\n",
    "data_test_dict= {\n",
    "    'test': {\n",
    "        'flg_data': df_flag,\n",
    "        'acc_data': filter_rows_uids(uids_test_list, df_acc),\n",
    "        'enq_data': filter_rows_uids(uids_test_list, df_enq),\n",
    "    }\n",
    "}\n",
    "\n"
   ]
  },
  {
   "cell_type": "code",
   "execution_count": 663,
   "metadata": {},
   "outputs": [],
   "source": [
    "# filter_rows_uids(uids_train_list, df_acc)"
   ]
  },
  {
   "cell_type": "code",
   "execution_count": 778,
   "metadata": {},
   "outputs": [],
   "source": [
    "# df_acc.head()"
   ]
  },
  {
   "cell_type": "markdown",
   "metadata": {},
   "source": [
    "#### Setting up Feature Engineering pipeline"
   ]
  },
  {
   "cell_type": "markdown",
   "metadata": {
    "tags": []
   },
   "source": [
    "#### 1. Basic Features\n",
    "\n",
    "No complex steps here. \n",
    "\n",
    "from account data:\n",
    "    per uid take the average of loan_amount and amount_overdue\n",
    "    fill missing values with zero.\n",
    "    apply standardscaler\n",
    "    \n",
    "from enquiry data: \n",
    "    per uid take the average of loan amount requested\n",
    "    \n",
    "merge: \n",
    "    acc_data, enquiry_data\n",
    "    \n",
    "Scaled data of the same."
   ]
  },
  {
   "cell_type": "code",
   "execution_count": 20,
   "metadata": {},
   "outputs": [
    {
     "ename": "KeyError",
     "evalue": "\"['TARGET'] not in index\"",
     "output_type": "error",
     "traceback": [
      "\u001b[0;31m---------------------------------------------------------------------------\u001b[0m",
      "\u001b[0;31mKeyError\u001b[0m                                  Traceback (most recent call last)",
      "\u001b[0;32m<ipython-input-20-df3cda166bfb>\u001b[0m in \u001b[0;36m<module>\u001b[0;34m\u001b[0m\n\u001b[1;32m     13\u001b[0m \u001b[0macc_cols\u001b[0m \u001b[0;34m=\u001b[0m \u001b[0;34m[\u001b[0m\u001b[0;34m'loan_amount'\u001b[0m\u001b[0;34m,\u001b[0m \u001b[0;34m'amount_overdue'\u001b[0m\u001b[0;34m]\u001b[0m\u001b[0;34m\u001b[0m\u001b[0;34m\u001b[0m\u001b[0m\n\u001b[1;32m     14\u001b[0m \u001b[0menq_cols\u001b[0m \u001b[0;34m=\u001b[0m \u001b[0;34m[\u001b[0m\u001b[0;34m'enquiry_amt'\u001b[0m\u001b[0;34m]\u001b[0m\u001b[0;34m\u001b[0m\u001b[0;34m\u001b[0m\u001b[0m\n\u001b[0;32m---> 15\u001b[0;31m \u001b[0mtrain_all\u001b[0m \u001b[0;34m=\u001b[0m \u001b[0mget_basic_features\u001b[0m\u001b[0;34m(\u001b[0m\u001b[0mdata_dict\u001b[0m\u001b[0;34m,\u001b[0m \u001b[0macc_cols\u001b[0m\u001b[0;34m,\u001b[0m \u001b[0menq_cols\u001b[0m\u001b[0;34m)\u001b[0m\u001b[0;34m\u001b[0m\u001b[0;34m\u001b[0m\u001b[0m\n\u001b[0m\u001b[1;32m     16\u001b[0m \u001b[0mX_train\u001b[0m\u001b[0;34m,\u001b[0m \u001b[0my_train\u001b[0m \u001b[0;34m=\u001b[0m \u001b[0mtrain_all\u001b[0m\u001b[0;34m.\u001b[0m\u001b[0mdrop\u001b[0m\u001b[0;34m(\u001b[0m\u001b[0;34m[\u001b[0m\u001b[0;34m'uid'\u001b[0m\u001b[0;34m,\u001b[0m \u001b[0mtarget_variable\u001b[0m\u001b[0;34m]\u001b[0m\u001b[0;34m,\u001b[0m \u001b[0maxis\u001b[0m\u001b[0;34m=\u001b[0m\u001b[0;36m1\u001b[0m\u001b[0;34m)\u001b[0m\u001b[0;34m,\u001b[0m \u001b[0mtrain_all\u001b[0m\u001b[0;34m[\u001b[0m\u001b[0mtarget_variable\u001b[0m\u001b[0;34m]\u001b[0m\u001b[0;34m\u001b[0m\u001b[0;34m\u001b[0m\u001b[0m\n\u001b[1;32m     17\u001b[0m \u001b[0;34m\u001b[0m\u001b[0m\n",
      "\u001b[0;32m<ipython-input-20-df3cda166bfb>\u001b[0m in \u001b[0;36mget_basic_features\u001b[0;34m(data_dict, acc_cols, enq_cols, key, df_flag)\u001b[0m\n\u001b[1;32m      8\u001b[0m \u001b[0;34m\u001b[0m\u001b[0m\n\u001b[1;32m      9\u001b[0m     \u001b[0mall_df\u001b[0m \u001b[0;34m=\u001b[0m  \u001b[0macc_train_by_uid\u001b[0m\u001b[0;34m.\u001b[0m\u001b[0mmerge\u001b[0m\u001b[0;34m(\u001b[0m\u001b[0menq_train_by_uid\u001b[0m\u001b[0;34m,\u001b[0m \u001b[0mon\u001b[0m\u001b[0;34m=\u001b[0m\u001b[0;34m'uid'\u001b[0m\u001b[0;34m,\u001b[0m \u001b[0mhow\u001b[0m\u001b[0;34m=\u001b[0m\u001b[0;34m'left'\u001b[0m\u001b[0;34m)\u001b[0m\u001b[0;31m\\\u001b[0m\u001b[0;34m\u001b[0m\u001b[0;34m\u001b[0m\u001b[0m\n\u001b[0;32m---> 10\u001b[0;31m         \u001b[0;34m.\u001b[0m\u001b[0mmerge\u001b[0m\u001b[0;34m(\u001b[0m\u001b[0mdf_flag\u001b[0m\u001b[0;34m[\u001b[0m\u001b[0;34m[\u001b[0m\u001b[0;34m'uid'\u001b[0m\u001b[0;34m,\u001b[0m \u001b[0mtarget_variable\u001b[0m\u001b[0;34m]\u001b[0m\u001b[0;34m]\u001b[0m\u001b[0;34m,\u001b[0m \u001b[0mon\u001b[0m\u001b[0;34m=\u001b[0m\u001b[0;34m'uid'\u001b[0m\u001b[0;34m,\u001b[0m \u001b[0mhow\u001b[0m\u001b[0;34m=\u001b[0m\u001b[0;34m'left'\u001b[0m\u001b[0;34m)\u001b[0m\u001b[0;34m\u001b[0m\u001b[0;34m\u001b[0m\u001b[0m\n\u001b[0m\u001b[1;32m     11\u001b[0m     \u001b[0;32mreturn\u001b[0m \u001b[0mall_df\u001b[0m\u001b[0;34m.\u001b[0m\u001b[0mfillna\u001b[0m\u001b[0;34m(\u001b[0m\u001b[0;36m0\u001b[0m\u001b[0;34m)\u001b[0m\u001b[0;34m\u001b[0m\u001b[0;34m\u001b[0m\u001b[0m\n\u001b[1;32m     12\u001b[0m \u001b[0;34m\u001b[0m\u001b[0m\n",
      "\u001b[0;32m/usr/local/lib/python3.6/site-packages/pandas/core/frame.py\u001b[0m in \u001b[0;36m__getitem__\u001b[0;34m(self, key)\u001b[0m\n\u001b[1;32m   2999\u001b[0m             \u001b[0;32mif\u001b[0m \u001b[0mis_iterator\u001b[0m\u001b[0;34m(\u001b[0m\u001b[0mkey\u001b[0m\u001b[0;34m)\u001b[0m\u001b[0;34m:\u001b[0m\u001b[0;34m\u001b[0m\u001b[0;34m\u001b[0m\u001b[0m\n\u001b[1;32m   3000\u001b[0m                 \u001b[0mkey\u001b[0m \u001b[0;34m=\u001b[0m \u001b[0mlist\u001b[0m\u001b[0;34m(\u001b[0m\u001b[0mkey\u001b[0m\u001b[0;34m)\u001b[0m\u001b[0;34m\u001b[0m\u001b[0;34m\u001b[0m\u001b[0m\n\u001b[0;32m-> 3001\u001b[0;31m             \u001b[0mindexer\u001b[0m \u001b[0;34m=\u001b[0m \u001b[0mself\u001b[0m\u001b[0;34m.\u001b[0m\u001b[0mloc\u001b[0m\u001b[0;34m.\u001b[0m\u001b[0m_convert_to_indexer\u001b[0m\u001b[0;34m(\u001b[0m\u001b[0mkey\u001b[0m\u001b[0;34m,\u001b[0m \u001b[0maxis\u001b[0m\u001b[0;34m=\u001b[0m\u001b[0;36m1\u001b[0m\u001b[0;34m,\u001b[0m \u001b[0mraise_missing\u001b[0m\u001b[0;34m=\u001b[0m\u001b[0;32mTrue\u001b[0m\u001b[0;34m)\u001b[0m\u001b[0;34m\u001b[0m\u001b[0;34m\u001b[0m\u001b[0m\n\u001b[0m\u001b[1;32m   3002\u001b[0m \u001b[0;34m\u001b[0m\u001b[0m\n\u001b[1;32m   3003\u001b[0m         \u001b[0;31m# take() does not accept boolean indexers\u001b[0m\u001b[0;34m\u001b[0m\u001b[0;34m\u001b[0m\u001b[0;34m\u001b[0m\u001b[0m\n",
      "\u001b[0;32m/usr/local/lib/python3.6/site-packages/pandas/core/indexing.py\u001b[0m in \u001b[0;36m_convert_to_indexer\u001b[0;34m(self, obj, axis, is_setter, raise_missing)\u001b[0m\n\u001b[1;32m   1283\u001b[0m                 \u001b[0;31m# When setting, missing keys are not allowed, even with .loc:\u001b[0m\u001b[0;34m\u001b[0m\u001b[0;34m\u001b[0m\u001b[0;34m\u001b[0m\u001b[0m\n\u001b[1;32m   1284\u001b[0m                 \u001b[0mkwargs\u001b[0m \u001b[0;34m=\u001b[0m \u001b[0;34m{\u001b[0m\u001b[0;34m\"raise_missing\"\u001b[0m\u001b[0;34m:\u001b[0m \u001b[0;32mTrue\u001b[0m \u001b[0;32mif\u001b[0m \u001b[0mis_setter\u001b[0m \u001b[0;32melse\u001b[0m \u001b[0mraise_missing\u001b[0m\u001b[0;34m}\u001b[0m\u001b[0;34m\u001b[0m\u001b[0;34m\u001b[0m\u001b[0m\n\u001b[0;32m-> 1285\u001b[0;31m                 \u001b[0;32mreturn\u001b[0m \u001b[0mself\u001b[0m\u001b[0;34m.\u001b[0m\u001b[0m_get_listlike_indexer\u001b[0m\u001b[0;34m(\u001b[0m\u001b[0mobj\u001b[0m\u001b[0;34m,\u001b[0m \u001b[0maxis\u001b[0m\u001b[0;34m,\u001b[0m \u001b[0;34m**\u001b[0m\u001b[0mkwargs\u001b[0m\u001b[0;34m)\u001b[0m\u001b[0;34m[\u001b[0m\u001b[0;36m1\u001b[0m\u001b[0;34m]\u001b[0m\u001b[0;34m\u001b[0m\u001b[0;34m\u001b[0m\u001b[0m\n\u001b[0m\u001b[1;32m   1286\u001b[0m         \u001b[0;32melse\u001b[0m\u001b[0;34m:\u001b[0m\u001b[0;34m\u001b[0m\u001b[0;34m\u001b[0m\u001b[0m\n\u001b[1;32m   1287\u001b[0m             \u001b[0;32mtry\u001b[0m\u001b[0;34m:\u001b[0m\u001b[0;34m\u001b[0m\u001b[0;34m\u001b[0m\u001b[0m\n",
      "\u001b[0;32m/usr/local/lib/python3.6/site-packages/pandas/core/indexing.py\u001b[0m in \u001b[0;36m_get_listlike_indexer\u001b[0;34m(self, key, axis, raise_missing)\u001b[0m\n\u001b[1;32m   1090\u001b[0m \u001b[0;34m\u001b[0m\u001b[0m\n\u001b[1;32m   1091\u001b[0m         self._validate_read_indexer(\n\u001b[0;32m-> 1092\u001b[0;31m             \u001b[0mkeyarr\u001b[0m\u001b[0;34m,\u001b[0m \u001b[0mindexer\u001b[0m\u001b[0;34m,\u001b[0m \u001b[0mo\u001b[0m\u001b[0;34m.\u001b[0m\u001b[0m_get_axis_number\u001b[0m\u001b[0;34m(\u001b[0m\u001b[0maxis\u001b[0m\u001b[0;34m)\u001b[0m\u001b[0;34m,\u001b[0m \u001b[0mraise_missing\u001b[0m\u001b[0;34m=\u001b[0m\u001b[0mraise_missing\u001b[0m\u001b[0;34m\u001b[0m\u001b[0;34m\u001b[0m\u001b[0m\n\u001b[0m\u001b[1;32m   1093\u001b[0m         )\n\u001b[1;32m   1094\u001b[0m         \u001b[0;32mreturn\u001b[0m \u001b[0mkeyarr\u001b[0m\u001b[0;34m,\u001b[0m \u001b[0mindexer\u001b[0m\u001b[0;34m\u001b[0m\u001b[0;34m\u001b[0m\u001b[0m\n",
      "\u001b[0;32m/usr/local/lib/python3.6/site-packages/pandas/core/indexing.py\u001b[0m in \u001b[0;36m_validate_read_indexer\u001b[0;34m(self, key, indexer, axis, raise_missing)\u001b[0m\n\u001b[1;32m   1183\u001b[0m             \u001b[0;32mif\u001b[0m \u001b[0;32mnot\u001b[0m \u001b[0;34m(\u001b[0m\u001b[0mself\u001b[0m\u001b[0;34m.\u001b[0m\u001b[0mname\u001b[0m \u001b[0;34m==\u001b[0m \u001b[0;34m\"loc\"\u001b[0m \u001b[0;32mand\u001b[0m \u001b[0;32mnot\u001b[0m \u001b[0mraise_missing\u001b[0m\u001b[0;34m)\u001b[0m\u001b[0;34m:\u001b[0m\u001b[0;34m\u001b[0m\u001b[0;34m\u001b[0m\u001b[0m\n\u001b[1;32m   1184\u001b[0m                 \u001b[0mnot_found\u001b[0m \u001b[0;34m=\u001b[0m \u001b[0mlist\u001b[0m\u001b[0;34m(\u001b[0m\u001b[0mset\u001b[0m\u001b[0;34m(\u001b[0m\u001b[0mkey\u001b[0m\u001b[0;34m)\u001b[0m \u001b[0;34m-\u001b[0m \u001b[0mset\u001b[0m\u001b[0;34m(\u001b[0m\u001b[0max\u001b[0m\u001b[0;34m)\u001b[0m\u001b[0;34m)\u001b[0m\u001b[0;34m\u001b[0m\u001b[0;34m\u001b[0m\u001b[0m\n\u001b[0;32m-> 1185\u001b[0;31m                 \u001b[0;32mraise\u001b[0m \u001b[0mKeyError\u001b[0m\u001b[0;34m(\u001b[0m\u001b[0;34m\"{} not in index\"\u001b[0m\u001b[0;34m.\u001b[0m\u001b[0mformat\u001b[0m\u001b[0;34m(\u001b[0m\u001b[0mnot_found\u001b[0m\u001b[0;34m)\u001b[0m\u001b[0;34m)\u001b[0m\u001b[0;34m\u001b[0m\u001b[0;34m\u001b[0m\u001b[0m\n\u001b[0m\u001b[1;32m   1186\u001b[0m \u001b[0;34m\u001b[0m\u001b[0m\n\u001b[1;32m   1187\u001b[0m             \u001b[0;31m# we skip the warning on Categorical/Interval\u001b[0m\u001b[0;34m\u001b[0m\u001b[0;34m\u001b[0m\u001b[0;34m\u001b[0m\u001b[0m\n",
      "\u001b[0;31mKeyError\u001b[0m: \"['TARGET'] not in index\""
     ]
    }
   ],
   "source": [
    "model_data_dict = {}\n",
    "def get_basic_features(data_dict, acc_cols, enq_cols, key='train', df_flag=df_flag):\n",
    "    train_data = data_dict[key]\n",
    "    acc_train = train_data['acc_data'].copy()\n",
    "    enq_data = train_data['enq_data'].copy()\n",
    "    acc_train_by_uid = acc_train.groupby('uid')[acc_cols].mean().reset_index()\n",
    "    enq_train_by_uid = enq_data.groupby('uid')[enq_cols].mean().reset_index()\n",
    "    \n",
    "    all_df =  acc_train_by_uid.merge(enq_train_by_uid, on='uid', how='left')\\\n",
    "        .merge(df_flag[['uid', target_variable]], on='uid', how='left')\n",
    "    return all_df.fillna(0)\n",
    "\n",
    "acc_cols = ['loan_amount', 'amount_overdue']\n",
    "enq_cols = ['enquiry_amt']\n",
    "train_all = get_basic_features(data_dict, acc_cols, enq_cols)\n",
    "X_train, y_train = train_all.drop(['uid', target_variable], axis=1), train_all[target_variable]\n",
    "\n",
    "test_all = get_basic_features(data_dict, acc_cols, enq_cols, key='test')\n",
    "X_test, y_test = test_all.drop(['uid', target_variable], axis=1), test_all[target_variable]\n",
    "\n",
    "## scale for LR\n",
    "ss = StandardScaler()\n",
    "X_train_scale = ss.fit_transform(X_train) \n",
    "X_test_scale = ss.transform(X_test)\n",
    "\n",
    "\n",
    "model_data_dict['basic_features_1'] = {\n",
    "    'X_train': X_train,\n",
    "    'X_test': X_test,\n",
    "    'y_train': y_train,\n",
    "    'y_test':y_test\n",
    "}\n",
    "\n",
    "model_data_dict['basic_features_scaled_1'] = {\n",
    "    'X_train': X_train_scale,\n",
    "    'X_test': X_test_scale,\n",
    "    'y_train': y_train,\n",
    "    'y_test':y_test\n",
    "}"
   ]
  },
  {
   "cell_type": "markdown",
   "metadata": {},
   "source": [
    "#### 2. Features ( Considering Numeric and Categorical) \n",
    "\n",
    "Again: No complex steps here. \n",
    "\n",
    "from account data:\n",
    "    per uid take the average of loan_amount and amount_overdue\n",
    "    fill missing values with median. \n",
    "    apply standardscaler for logistic regression\n",
    "    \n",
    "from enquiry data: \n",
    "    per uid take the average of loan amount requested\n",
    "    \n",
    "merge: \n",
    "    acc_data, enquiry_data"
   ]
  },
  {
   "cell_type": "code",
   "execution_count": 1034,
   "metadata": {},
   "outputs": [],
   "source": [
    "def pivot_table(df, cat_cols, cont_cols, index_col, agg_func, fill_value=0):\n",
    "    pivoted_df = df.pivot_table(index='uid', columns=cat_cols, \n",
    "                    values=cont_cols, aggfunc=agg_func, margins=True).fillna(fill_value)\n",
    "    pivoted_df.columns = [' '.join(i) for i in pivoted_df.columns]\n",
    "    pivoted_df = pivoted_df.iloc[:-1]\n",
    "    pivoted_df.reset_index(inplace=True)\n",
    "    return pivoted_df\n",
    "\n",
    "def get_data_features_2(data_dict, acc_cont_cols, acc_cat_cols, enq_cont_cols,\n",
    "                       enq_cat_cols, key='train', agg_func=None, df_flag=df_flag,\n",
    "                       fill_method='median', columns=None):\n",
    "\n",
    "    train_data = data_dict[key]\n",
    "    acc_data = train_data['acc_data'].copy()\n",
    "    enq_data = train_data['enq_data'].copy()\n",
    "    \n",
    "    pivot_acc_df = pivot_table(acc_data, acc_cat_cols, acc_cont_cols, 'uid', agg_func)\n",
    "    pivot_enq_df = pivot_table(enq_data, enq_cat_cols, enq_cont_cols, 'uid', agg_func)\n",
    "\n",
    "    all_df =  pivot_acc_df.merge(pivot_enq_df, on='uid', how='left')\\\n",
    "        .merge(df_flag[['uid', target_variable]], on='uid', how='left')\n",
    "    \n",
    "    if key=='test': \n",
    "        for c in columns: \n",
    "            if c not in all_df.columns:\n",
    "                all_df[c] = 0\n",
    "        all_df = all_df[columns]\n",
    "    return all_df.fillna(0)\n",
    "\n",
    "\n",
    "acc_cont_cols = ['loan_amount', 'amount_overdue']\n",
    "acc_cat_cols = ['credit_type']\n",
    "\n",
    "enq_cont_cols = ['enquiry_amt']\n",
    "enq_cat_cols = ['enquiry_type']\n",
    "\n",
    "agg_func = ['mean', 'median']\n",
    "\n",
    "train_all = get_data_features_2(data_dict, acc_cont_cols, acc_cat_cols, enq_cont_cols,\n",
    "                       enq_cat_cols, key='train', agg_func=agg_func, df_flag=df_flag,\n",
    "                       fill_method='median')\n",
    "X_train, y_train = train_all.drop(['uid', target_variable], axis=1), train_all[target_variable]\n",
    "\n",
    "test_all = get_data_features_2(data_dict, acc_cont_cols, acc_cat_cols, enq_cont_cols,\n",
    "                       enq_cat_cols, key='test', agg_func=agg_func, df_flag=df_flag,\n",
    "                       fill_method='median', columns=train_all.columns.tolist())\n",
    "X_test, y_test = test_all.drop(['uid', target_variable], axis=1), test_all[target_variable]\n",
    "\n",
    "assert X_train.shape[0] == y_train.shape[0]\n",
    "assert X_test.shape[0] == y_test.shape[0]\n",
    "assert X_train.shape[1] == X_test.shape[1]\n",
    "\n",
    "model_data_dict['features_2'] = {\n",
    "    'X_train': X_train,\n",
    "    'X_test': X_test,\n",
    "    'y_train': y_train,\n",
    "    'y_test':y_test\n",
    "}\n",
    "\n",
    "ss = StandardScaler()\n",
    "X_train_scale = ss.fit_transform(X_train) \n",
    "X_test_scale = ss.transform(X_test)\n",
    "\n",
    "model_data_dict['features_2_scaled'] = {\n",
    "    'X_train': X_train_scale,\n",
    "    'X_test': X_test_scale,\n",
    "    'y_train': y_train,\n",
    "    'y_test':y_test\n",
    "}"
   ]
  },
  {
   "cell_type": "code",
   "execution_count": null,
   "metadata": {},
   "outputs": [],
   "source": []
  },
  {
   "cell_type": "code",
   "execution_count": 843,
   "metadata": {},
   "outputs": [],
   "source": [
    "import pickle\n",
    "## saving the data just in case the kernel dies\n",
    "pickle.dump(model_data_dict, open('model_data_dict_2_scaled.pkl', 'wb')) "
   ]
  },
  {
   "cell_type": "markdown",
   "metadata": {},
   "source": [
    "#### 3. Features ( Considering Numeric and Categorical + adding additional features ) \n",
    "\n",
    "Again: No complex steps here. \n",
    "\n",
    "from account data:\n",
    "    1. per uid take the average of loan_amount and amount_overdue\n",
    "    2. add additional features like  log1p mean, min, max, median, loan paid or not, time taken to repay,\n",
    "    3. count of each is loan_closed, loan_opened. \n",
    "    4. finding corrupt data and dropping it\n",
    "     \n",
    "\n",
    "from enquiry data: \n",
    "    per uid take the average of loan amount requested\n",
    "    \n",
    "merge: \n",
    "    acc_data, enquiry_data"
   ]
  },
  {
   "cell_type": "code",
   "execution_count": 36,
   "metadata": {},
   "outputs": [],
   "source": [
    "## Not sure if this will be of good use\n",
    "def add_datepart(df, fldname, drop=True):\n",
    "    fld = df[fldname]\n",
    "    if not np.issubdtype(fld.dtype, np.datetime64):\n",
    "        df[fldname] = fld = pd.to_datetime(fld, infer_datetime_format=True)\n",
    "    targ_pre = re.sub('[Dd]ate$', '', fldname)\n",
    "    for n in ('Year', 'Month', 'Week', 'Day', 'Dayofweek', 'Dayofyear',\n",
    "            'Is_month_end', 'Is_month_start', 'Is_quarter_end', 'Is_quarter_start', 'Is_year_end', 'Is_year_start'):\n",
    "        df[targ_pre+n] = getattr(fld.dt,n.lower())\n",
    "    df[targ_pre+'Elapsed'] = fld.astype(np.int64) // 10**9\n",
    "    if drop: df.drop(fldname, axis=1, inplace=True)"
   ]
  },
  {
   "cell_type": "code",
   "execution_count": 37,
   "metadata": {},
   "outputs": [],
   "source": [
    "from sklearn.feature_extraction import DictVectorizer\n",
    "\n",
    "def add_date_features(df, sd_col, ed_col):\n",
    "    df[sd_col] = pd.to_datetime(df[sd_col])\n",
    "    df[ed_col] = pd.to_datetime(df[ed_col])\n",
    "    df['loan_open'] = np.where(df[ed_col].isna(), 1, 0)\n",
    "    df['loan_closed'] = np.where(~df[ed_col].isna(), 1, 0)\n",
    "    df['time_taken_pay'] = (df[ed_col] - df[sd_col]).dt.days\n",
    "    df['time_taken_pay'].fillna(99999, inplace=True)\n",
    "    df['date_corrupted_records'] = df[ed_col] < df[sd_col]\n",
    "    return df.drop([sd_col, ed_col], axis=1)\n",
    "\n",
    "def add_payment_hist_string_features(df, col):\n",
    "    phs_to_numbers= lambda s: [float(s[i:i+3])  for i in range(0, len(s), 3)]\n",
    "    numbers_to_log1p = lambda n: [np.log1p(i) for i in n]\n",
    "    df['installements'] = df['payment_hist_string'].str.len() / 3.0\n",
    "    df['phs_days_overdue'] = df['payment_hist_string'].apply(lambda x: np.sum(phs_to_numbers(x)))\n",
    "    df['phs_days_overdue_log1p'] = df['phs_days_overdue'].apply(lambda x: np.sum(np.log1p(x)))\n",
    "    df['phs_corrupted'] = np.where(df['installements'] == 0, 1, 0)\n",
    "    df['phs_days_overdue_avg'] = df['phs_days_overdue'] / ( df['installements'] + df['phs_corrupted'] ) \n",
    "    df['phs_days_overdue_log1p_avg'] = df['phs_days_overdue_log1p'] / df['installements']\n",
    "    return df.drop(col, axis=1)\n",
    "\n",
    "def add_log1p_features(df, cols):\n",
    "    for c in cols:\n",
    "        df[c+'_log1p'] = np.log1p(df[c])\n",
    "    return df\n",
    "\n",
    "def bin_numerical_data(df, cols, bin_dict): \n",
    "    binned_cols = []\n",
    "    for c in cols: \n",
    "        df[c+'_bin'] = pd.cut(df[c], bin_dict[c])\\\n",
    "            .apply(lambda x: f'_{x.right}')\n",
    "        binned_cols.append(c+'_bin')\n",
    "    return df, binned_cols\n",
    "\n",
    "def add_dummy_1(df, col='dummy') : \n",
    "    df[col] = 1\n",
    "    return df \n",
    "\n",
    "def add_cat_dummies(df, cols, dt=None):\n",
    "    if not dt:\n",
    "        dt = DummyTransformer()\n",
    "        temp_df = dt.fit_transform(df[cols])\n",
    "        return dt, temp_df\n",
    "    else: \n",
    "        return dt, dt.transform(df[cols])\n"
   ]
  },
  {
   "cell_type": "code",
   "execution_count": 38,
   "metadata": {},
   "outputs": [],
   "source": [
    "def enq_get_agg_func():\n",
    "    agg_func={\n",
    "    'enquiry_amt': [np.mean, np.median, min, max],\n",
    "    'enquiry_amt_log1p': [np.mean, np.median],\n",
    "    'enq' : [np.sum ]\n",
    "    }\n",
    "    return agg_func\n",
    "\n",
    "def get_enq_features_3(enq_data):\n",
    "    enq_data = add_log1p_features(enq_data, ['enquiry_amt'])\n",
    "    enq_data = add_dummy_1(enq_data, col='enq')\n",
    "    agg_func = enq_get_agg_func()\n",
    "    features_all = enq_data.groupby(['uid', 'enquiry_type']).agg(agg_func)\n",
    "    assert features_all.isna().sum().sum() == 0 \n",
    "    cols = [' '.join(i) for i in features_all.columns]\n",
    "    features_all.columns = cols\n",
    "    \n",
    "    features_all = features_all.reset_index().pivot_table(index='uid', columns='enquiry_type',\n",
    "                                                          values=cols)\n",
    "    features_all.columns = [' '.join(i) for i in features_all.columns]\n",
    "    features_all = features_all.fillna(0).reset_index()\n",
    "    return features_all"
   ]
  },
  {
   "cell_type": "code",
   "execution_count": 39,
   "metadata": {},
   "outputs": [],
   "source": [
    "def acc_get_agg_func(binned_cols):\n",
    "    agg_func={\n",
    "    'loan_amount': [np.mean, np.median, min, max],\n",
    "    'amount_overdue': [np.mean, np.median],\n",
    "    'loan_open' : [np.sum ],\n",
    "    'loan_closed': [np.sum],\n",
    "    'time_taken_pay': [np.mean],\n",
    "    'installements': [np.mean, np.median],\n",
    "    'phs_days_overdue':  [np.max, np.mean, np.median],\n",
    "    'phs_days_overdue_log1p': [np.max, np.mean, np.median],\n",
    "    'phs_days_overdue_avg': [np.mean],\n",
    "    'phs_days_overdue_log1p_avg': [np.mean],\n",
    "    'loan_amount_log1p': [np.mean],\n",
    "    'amount_overdue_log1p': [np.mean],\n",
    "    'dummy': [np.sum]    \n",
    "    }\n",
    "    agg_func.update({b: [np.sum] for b in binned_cols})\n",
    "    return agg_func\n",
    "\n",
    "def get_acc_features_3(acc_data, dt=None, key='train'):\n",
    "\n",
    "    sd_col, ed_col= 'open_date', 'closed_date'\n",
    "    phs_col = 'payment_hist_string'\n",
    "    bin_dict = {\n",
    "        'amount_overdue': [-1, 1 , 100, 10000, 1000000,100000000]\n",
    "    }\n",
    "    acc_data = add_date_features(acc_data,  sd_col, ed_col) \n",
    "    acc_data = add_payment_hist_string_features(acc_data, phs_col)\n",
    "    acc_data = add_log1p_features(acc_data, ['loan_amount', 'amount_overdue'])\n",
    "    acc_data, binned_cols = bin_numerical_data(acc_data,['amount_overdue'], bin_dict)\n",
    "   \n",
    "    if key == 'train' :\n",
    "        dt = DummyTransformer()\n",
    "        dummied_data =dt.fit_transform(acc_data[binned_cols])\n",
    "    else: \n",
    "        dummied_data =dt.transform(acc_data[binned_cols])\n",
    "    \n",
    "    binned_cols_ = dummied_data.columns.tolist()\n",
    "    features_all =pd.concat([acc_data, dummied_data], axis=1)\n",
    "    features_all = add_dummy_1(features_all) \n",
    "    \n",
    "    features_all = features_all[~features_all['loan_amount'].isna()]\n",
    "    features_all = features_all[features_all['phs_corrupted'] == 0]\n",
    "    features_all = features_all[features_all['phs_corrupted'] == 0]\n",
    "    # return features_all, ''\n",
    "    assert features_all.isna().sum().sum() == 0\n",
    "    to_remove = ['date_corrupted_records', 'phs_corrupted', 'amount_overdue_bin']\n",
    "    features_all.drop(to_remove, axis=1, inplace=True)\n",
    "    \n",
    "    agg_func= acc_get_agg_func(binned_cols_)\n",
    "    features_all = features_all.groupby(['uid', 'credit_type']).agg(agg_func)\n",
    "    cols = [' '.join(i) for i in features_all.columns]\n",
    "    features_all.columns = cols\n",
    "    features_all = features_all.reset_index().pivot_table(index='uid', columns='credit_type', values=cols)\n",
    "    features_all.columns = [' '.join(i) for i in features_all.columns]\n",
    "    acc_features_all = features_all.fillna(0).reset_index()\n",
    "    return acc_features_all, dt"
   ]
  },
  {
   "cell_type": "code",
   "execution_count": 40,
   "metadata": {},
   "outputs": [],
   "source": [
    "def get_feature_3(data_dict, key='train', columns=None, dt=None, dt_flg=None, df_flag=df_train_flag_details):\n",
    "    acc_data = data_dict[key]['acc_data']\n",
    "    enq_data = data_dict[key]['enq_data']\n",
    "    \n",
    "    acc_features_all, dt = get_acc_features_3(acc_data.copy(), dt=dt, key=key)\n",
    "    enq_feature_all = get_enq_features_3(enq_data.copy())\n",
    "    \n",
    "    \n",
    "    if key == 'train' :\n",
    "        dt_flg = DummyTransformer()\n",
    "        dummied_data = dt_flg.fit_transform(df_flag[['NAME_CONTRACT_TYPE']])\n",
    "    else: \n",
    "        dummied_data = dt_flg.transform(df_flag[['NAME_CONTRACT_TYPE']])\n",
    "        \n",
    "    flg_data = pd.concat([df_flag, dummied_data], axis=1).drop('NAME_CONTRACT_TYPE', axis=1)\n",
    "    all_df =  acc_features_all.merge(enq_feature_all, on='uid', how='left')\\\n",
    "        .merge(flg_data, on='uid', how='left')\n",
    "    if key=='test': \n",
    "        for c in columns: \n",
    "            if c not in all_df.columns:\n",
    "                all_df[c] = 0\n",
    "        all_df = all_df[columns]\n",
    "    return all_df, dt, dt_flg\n",
    "    # acc_features_test_all, _ = get_acc_features_3(data_dict['test']['acc_data'].copy(), dt)\n",
    "    # enq_feature_test_all = get_enq_features_3(data_dict['test']['enq_data'].copy())"
   ]
  },
  {
   "cell_type": "code",
   "execution_count": 41,
   "metadata": {},
   "outputs": [],
   "source": [
    "# df_flag.head()"
   ]
  },
  {
   "cell_type": "code",
   "execution_count": 42,
   "metadata": {},
   "outputs": [],
   "source": [
    "train_all, acc_dt, flg_dt = get_feature_3(data_dict, key='train', columns=None, dt=None, dt_flg=None, \n",
    "                                          df_flag=df_train_flag_details)\n",
    "test_all, _, _ = get_feature_3(data_dict, key='test', columns=train_all.columns, dt=acc_dt, dt_flg=flg_dt,\n",
    "                               df_flag=df_train_flag_details)\n",
    "X_train, y_train = train_all.drop(['uid', target_variable], axis=1), train_all[target_variable]\n",
    "\n",
    "X_test, y_test = test_all.drop(['uid', target_variable], axis=1), test_all[target_variable]\n",
    "\n",
    "assert X_train.shape[0] == y_train.shape[0]\n",
    "assert X_test.shape[0] == y_test.shape[0]\n",
    "assert X_train.shape[1] == X_test.shape[1]\n",
    "\n",
    "model_data_dict['features_3'] = {\n",
    "    'X_train': X_train,\n",
    "    'X_test': X_test,\n",
    "    'y_train': y_train,\n",
    "    'y_test':y_test\n",
    "}\n",
    "\n",
    "ss = StandardScaler()\n",
    "X_train_scale = ss.fit_transform(X_train) \n",
    "X_test_scale = ss.transform(X_test)\n",
    "\n",
    "model_data_dict['features_3_scaled'] = {\n",
    "    'X_train': X_train_scale,\n",
    "    'X_test': X_test_scale,\n",
    "    'y_train': y_train,\n",
    "    'y_test':y_test\n",
    "}"
   ]
  },
  {
   "cell_type": "markdown",
   "metadata": {},
   "source": [
    "#### Creating main Test data features"
   ]
  },
  {
   "cell_type": "code",
   "execution_count": 43,
   "metadata": {},
   "outputs": [],
   "source": [
    "test_all, _, _ = get_feature_3(data_dict, key='test', columns=train_all.columns, dt=acc_dt, dt_flg=flg_dt,\n",
    "                               df_flag=df_flag)\n",
    "X_train = test_all.drop(['uid'], axis=1)\n",
    "\n",
    "\n",
    "model_data_dict['main_X_test'] = {\n",
    "    'X_test': X_test,\n",
    "    'uid_col': test_all[['uid']]\n",
    "\n",
    "}\n",
    "\n",
    "X_test_scale = ss.transform(X_test)\n",
    "\n",
    "model_data_dict['main_X_test_scaled'] = {\n",
    "    'X_test': X_test_scale,\n",
    "    'uid_col': test_all[['uid']]\n",
    "}"
   ]
  },
  {
   "cell_type": "code",
   "execution_count": 56,
   "metadata": {},
   "outputs": [
    {
     "data": {
      "text/plain": [
       "dict_keys(['features_3', 'features_3_scaled', 'main_X_test', 'main_X_test_scaled'])"
      ]
     },
     "execution_count": 56,
     "metadata": {},
     "output_type": "execute_result"
    }
   ],
   "source": [
    "model_data_dict.keys()"
   ]
  },
  {
   "cell_type": "code",
   "execution_count": 1,
   "metadata": {},
   "outputs": [],
   "source": [
    "import pickle\n",
    "## saving the data just in case the kernel dies\n",
    "# pickle.dump(model_data_dict, open('model_data_dict_3_scaled.pkl', 'wb'))\n",
    "\n",
    "model_data_dict = pickle.load(open('model_data_dict_3_scaled.pkl', 'rb'))"
   ]
  },
  {
   "cell_type": "markdown",
   "metadata": {
    "id": "qCex7VmyxNZ5",
    "toc-hr-collapsed": true
   },
   "source": [
    "## Modelling"
   ]
  },
  {
   "cell_type": "code",
   "execution_count": 707,
   "metadata": {},
   "outputs": [],
   "source": [
    "# X_test.isna().sum()"
   ]
  },
  {
   "cell_type": "code",
   "execution_count": 44,
   "metadata": {},
   "outputs": [],
   "source": [
    "from sklearn.linear_model import LogisticRegression\n",
    "from sklearn.linear_model import RidgeClassifier\n",
    "from sklearn.ensemble import RandomForestClassifier\n",
    "from xgboost import XGBClassifier\n",
    "from sklearn.svm import LinearSVC\n",
    "from sklearn.neural_network import MLPClassifier\n",
    "from sklearn.linear_model import SGDClassifier\n",
    "from sklearn.neighbors import KNeighborsClassifier"
   ]
  },
  {
   "cell_type": "code",
   "execution_count": 185,
   "metadata": {
    "id": "pwnV5b5vLBWM"
   },
   "outputs": [],
   "source": [
    "\n",
    "\n",
    "\n",
    "\n",
    "# X_train_input = feature_genearation.fit_transform(X_train, y_train)\n",
    "# X_test_input = feature_genearation.transform(X_test)\n",
    "pipes={}\n",
    "\n",
    "def run_modeling(X_train, y_train, X_test, y_test, estimators=estimators): \n",
    "    model_output_dict = {}\n",
    "    model_output_dict_test = {}\n",
    "\n",
    "    for model in estimators:\n",
    "        # pipe=Pipeline(steps=[('data_prep', feature_genearation),model])\n",
    "        model[1].fit(X_train, y_train)\n",
    "\n",
    "        model_output_dict[model[0]] = {\n",
    "            'y' : y_train.astype(int),\n",
    "            'y_pred': model[1].predict_proba(X_train)[:,0],\n",
    "        }\n",
    "\n",
    "        model_output_dict_test[model[0]] = {\n",
    "            'y' : y_test.astype(int),\n",
    "            'y_pred': model[1].predict_proba(X_test)[:,0],\n",
    "        }\n",
    "        \n",
    "    plot_auc_plots(model_output_dict_test, pos_label=0)\n",
    "    return model_output_dict, model_output_dict_test"
   ]
  },
  {
   "cell_type": "code",
   "execution_count": 801,
   "metadata": {},
   "outputs": [
    {
     "data": {
      "text/plain": [
       "dict_keys(['basic_features_1', 'basic_features_scaled_1', 'features_2', 'features_2_scaled'])"
      ]
     },
     "execution_count": 801,
     "metadata": {},
     "output_type": "execute_result"
    }
   ],
   "source": [
    "model_data_dict.keys()"
   ]
  },
  {
   "cell_type": "markdown",
   "metadata": {},
   "source": [
    "### Modelling with feature set 1"
   ]
  },
  {
   "cell_type": "code",
   "execution_count": 826,
   "metadata": {},
   "outputs": [
    {
     "data": {
      "image/png": "[encoded data removed]",
      "text/plain": [
       "<matplotlib.figure.Figure at 0x7fd66ec122e8>"
      ]
     },
     "metadata": {
      "needs_background": "light"
     },
     "output_type": "display_data"
    },
    {
     "data": {
      "image/png": "[encoded data removed]",
      "text/plain": [
       "<matplotlib.figure.Figure at 0x7fd66ebd7438>"
      ]
     },
     "metadata": {
      "needs_background": "light"
     },
     "output_type": "display_data"
    }
   ],
   "source": [
    "features_key = 'basic_features_1'\n",
    "model_input_dict = model_data_dict[features_key]\n",
    "\n",
    "estimators=[\n",
    "    # ('ridge',RidgeClassifier()),\n",
    "    ('elasticnet',SGDClassifier(loss='log', penalty='elasticnet')),\n",
    "    #('decision_tree',DecisionTreeClassifier()),\n",
    "    ('random_forest',RandomForestClassifier()),\n",
    "    ('xgb',XGBClassifier(ojective='reg:logistic')),\n",
    "    # ('svc',LinearSVC()),\n",
    "    # ('deep_nn',MLPClassifier()),\n",
    "    # ('knn',KNeighborsClassifier(n_neighbors=5, weights='distance', algorithm='auto'))\n",
    "]\n",
    "_ = run_modeling(model_input_dict['X_train'], model_input_dict['y_train'], model_input_dict['X_test'],\n",
    "                 model_input_dict['y_test'], estimators=estimators)\n",
    "\n",
    "\n",
    "features_key = 'basic_features_scaled_1'\n",
    "model_input_dict = model_data_dict[features_key]\n",
    "estimators=[\n",
    "    ('logistic',LogisticRegression(solver='liblinear',penalty='l2')),\n",
    "    ('lasso',LogisticRegression(solver='liblinear',penalty='l1')),\n",
    "]\n",
    "\n",
    "_ = run_modeling(model_input_dict['X_train'], model_input_dict['y_train'], model_input_dict['X_test'],\n",
    "                 model_input_dict['y_test'], estimators=estimators)"
   ]
  },
  {
   "cell_type": "markdown",
   "metadata": {
    "id": "w1T_GG-fSDCj"
   },
   "source": []
  },
  {
   "cell_type": "markdown",
   "metadata": {},
   "source": [
    "#####\n",
    "looks like all of the classifiers are doing pretty bad. \n",
    "out of all xgb is doing better than any. "
   ]
  },
  {
   "cell_type": "markdown",
   "metadata": {},
   "source": [
    "### Modelling with feature set 2"
   ]
  },
  {
   "cell_type": "code",
   "execution_count": 833,
   "metadata": {},
   "outputs": [
    {
     "data": {
      "image/png": "[encoded data removed]",
      "text/plain": [
       "<matplotlib.figure.Figure at 0x7fd66ec12208>"
      ]
     },
     "metadata": {
      "needs_background": "light"
     },
     "output_type": "display_data"
    }
   ],
   "source": [
    "features_key = 'features_2'\n",
    "model_input_dict = model_data_dict[features_key]\n",
    "\n",
    "estimators=[\n",
    "    # ('ridge',RidgeClassifier()),\n",
    "    ('elasticnet',SGDClassifier(loss='log', penalty='elasticnet')),\n",
    "    #('decision_tree',DecisionTreeClassifier()),\n",
    "    ('random_forest',RandomForestClassifier()),\n",
    "    ('xgb',XGBClassifier(ojective='reg:logistic')),\n",
    "    # ('svc',LinearSVC()),\n",
    "    # ('deep_nn',MLPClassifier()),\n",
    "    # ('knn',KNeighborsClassifier(n_neighbors=5, weights='distance', algorithm='auto'))\n",
    "]\n",
    "a, b = run_modeling(model_input_dict['X_train'], model_input_dict['y_train'], model_input_dict['X_test'],\n",
    "                 model_input_dict['y_test'], estimators=estimators)\n",
    "\n",
    "\n"
   ]
  },
  {
   "cell_type": "code",
   "execution_count": 838,
   "metadata": {},
   "outputs": [
    {
     "data": {
      "image/png": "[encoded data removed]",
      "text/plain": [
       "<matplotlib.figure.Figure at 0x7fd66ec49cc0>"
      ]
     },
     "metadata": {
      "needs_background": "light"
     },
     "output_type": "display_data"
    }
   ],
   "source": [
    "features_key = 'features_2_scaled'\n",
    "model_input_dict = model_data_dict[features_key]\n",
    "estimators=[\n",
    "    ('logistic',LogisticRegression(solver='liblinear',penalty='l2')),\n",
    "    ('lasso',LogisticRegression(solver='liblinear',penalty='l1')),\n",
    "]\n",
    "\n",
    "c, d = run_modeling(model_input_dict['X_train'], model_input_dict['y_train'], model_input_dict['X_test'],\n",
    "                 model_input_dict['y_test'], estimators=estimators)"
   ]
  },
  {
   "cell_type": "code",
   "execution_count": null,
   "metadata": {},
   "outputs": [],
   "source": []
  },
  {
   "cell_type": "markdown",
   "metadata": {},
   "source": [
    "### Modelling with feature set 3"
   ]
  },
  {
   "cell_type": "code",
   "execution_count": 1157,
   "metadata": {},
   "outputs": [
    {
     "data": {
      "image/png": "[encoded data removed]",
      "text/plain": [
       "<matplotlib.figure.Figure at 0x7fd65db6cb70>"
      ]
     },
     "metadata": {
      "needs_background": "light"
     },
     "output_type": "display_data"
    }
   ],
   "source": [
    "features_key = 'features_3'\n",
    "model_input_dict = model_data_dict[features_key]\n",
    "\n",
    "estimators=[\n",
    "    # ('ridge',RidgeClassifier()),\n",
    "    ('elasticnet',SGDClassifier(loss='log', penalty='elasticnet')),\n",
    "    #('decision_tree',DecisionTreeClassifier()),\n",
    "    ('random_forest',RandomForestClassifier()),\n",
    "    ('xgb',XGBClassifier(ojective='reg:logistic')),\n",
    "    # ('svc',LinearSVC()),\n",
    "    # ('deep_nn',MLPClassifier()),\n",
    "    # ('knn',KNeighborsClassifier(n_neighbors=5, weights='distance', algorithm='auto'))\n",
    "]\n",
    "a, b = run_modeling(model_input_dict['X_train'], model_input_dict['y_train'], model_input_dict['X_test'],\n",
    "                 model_input_dict['y_test'], estimators=estimators)\n",
    "\n",
    "\n"
   ]
  },
  {
   "cell_type": "markdown",
   "metadata": {},
   "source": [
    " This was taking lot of time and hence decided to stop it ~2hrs"
   ]
  },
  {
   "cell_type": "code",
   "execution_count": 1158,
   "metadata": {},
   "outputs": [
    {
     "ename": "KeyboardInterrupt",
     "evalue": "",
     "output_type": "error",
     "traceback": [
      "\u001b[0;31m---------------------------------------------------------------------------\u001b[0m",
      "\u001b[0;31mKeyboardInterrupt\u001b[0m                         Traceback (most recent call last)",
      "\u001b[0;32m<ipython-input-1158-d3039adda52c>\u001b[0m in \u001b[0;36m<module>\u001b[0;34m\u001b[0m\n\u001b[1;32m      7\u001b[0m \u001b[0;34m\u001b[0m\u001b[0m\n\u001b[1;32m      8\u001b[0m c, d = run_modeling(model_input_dict['X_train'], model_input_dict['y_train'], model_input_dict['X_test'],\n\u001b[0;32m----> 9\u001b[0;31m                  model_input_dict['y_test'], estimators=estimators)\n\u001b[0m",
      "\u001b[0;32m<ipython-input-799-e732938c7b33>\u001b[0m in \u001b[0;36mrun_modeling\u001b[0;34m(X_train, y_train, X_test, y_test, estimators)\u001b[0m\n\u001b[1;32m     20\u001b[0m     \u001b[0;32mfor\u001b[0m \u001b[0mmodel\u001b[0m \u001b[0;32min\u001b[0m \u001b[0mestimators\u001b[0m\u001b[0;34m:\u001b[0m\u001b[0;34m\u001b[0m\u001b[0;34m\u001b[0m\u001b[0m\n\u001b[1;32m     21\u001b[0m         \u001b[0;31m# pipe=Pipeline(steps=[('data_prep', feature_genearation),model])\u001b[0m\u001b[0;34m\u001b[0m\u001b[0;34m\u001b[0m\u001b[0;34m\u001b[0m\u001b[0m\n\u001b[0;32m---> 22\u001b[0;31m         \u001b[0mmodel\u001b[0m\u001b[0;34m[\u001b[0m\u001b[0;36m1\u001b[0m\u001b[0;34m]\u001b[0m\u001b[0;34m.\u001b[0m\u001b[0mfit\u001b[0m\u001b[0;34m(\u001b[0m\u001b[0mX_train\u001b[0m\u001b[0;34m,\u001b[0m \u001b[0my_train\u001b[0m\u001b[0;34m)\u001b[0m\u001b[0;34m\u001b[0m\u001b[0;34m\u001b[0m\u001b[0m\n\u001b[0m\u001b[1;32m     23\u001b[0m \u001b[0;34m\u001b[0m\u001b[0m\n\u001b[1;32m     24\u001b[0m         model_output_dict[model[0]] = {\n",
      "\u001b[0;32m/usr/local/lib/python3.6/site-packages/sklearn/linear_model/logistic.py\u001b[0m in \u001b[0;36mfit\u001b[0;34m(self, X, y, sample_weight)\u001b[0m\n\u001b[1;32m   1547\u001b[0m                 \u001b[0mself\u001b[0m\u001b[0;34m.\u001b[0m\u001b[0mclass_weight\u001b[0m\u001b[0;34m,\u001b[0m \u001b[0mself\u001b[0m\u001b[0;34m.\u001b[0m\u001b[0mpenalty\u001b[0m\u001b[0;34m,\u001b[0m \u001b[0mself\u001b[0m\u001b[0;34m.\u001b[0m\u001b[0mdual\u001b[0m\u001b[0;34m,\u001b[0m \u001b[0mself\u001b[0m\u001b[0;34m.\u001b[0m\u001b[0mverbose\u001b[0m\u001b[0;34m,\u001b[0m\u001b[0;34m\u001b[0m\u001b[0;34m\u001b[0m\u001b[0m\n\u001b[1;32m   1548\u001b[0m                 \u001b[0mself\u001b[0m\u001b[0;34m.\u001b[0m\u001b[0mmax_iter\u001b[0m\u001b[0;34m,\u001b[0m \u001b[0mself\u001b[0m\u001b[0;34m.\u001b[0m\u001b[0mtol\u001b[0m\u001b[0;34m,\u001b[0m \u001b[0mself\u001b[0m\u001b[0;34m.\u001b[0m\u001b[0mrandom_state\u001b[0m\u001b[0;34m,\u001b[0m\u001b[0;34m\u001b[0m\u001b[0;34m\u001b[0m\u001b[0m\n\u001b[0;32m-> 1549\u001b[0;31m                 sample_weight=sample_weight)\n\u001b[0m\u001b[1;32m   1550\u001b[0m             \u001b[0mself\u001b[0m\u001b[0;34m.\u001b[0m\u001b[0mn_iter_\u001b[0m \u001b[0;34m=\u001b[0m \u001b[0mnp\u001b[0m\u001b[0;34m.\u001b[0m\u001b[0marray\u001b[0m\u001b[0;34m(\u001b[0m\u001b[0;34m[\u001b[0m\u001b[0mn_iter_\u001b[0m\u001b[0;34m]\u001b[0m\u001b[0;34m)\u001b[0m\u001b[0;34m\u001b[0m\u001b[0;34m\u001b[0m\u001b[0m\n\u001b[1;32m   1551\u001b[0m             \u001b[0;32mreturn\u001b[0m \u001b[0mself\u001b[0m\u001b[0;34m\u001b[0m\u001b[0;34m\u001b[0m\u001b[0m\n",
      "\u001b[0;32m/usr/local/lib/python3.6/site-packages/sklearn/svm/base.py\u001b[0m in \u001b[0;36m_fit_liblinear\u001b[0;34m(X, y, C, fit_intercept, intercept_scaling, class_weight, penalty, dual, verbose, max_iter, tol, random_state, multi_class, loss, epsilon, sample_weight)\u001b[0m\n\u001b[1;32m    919\u001b[0m         \u001b[0mX\u001b[0m\u001b[0;34m,\u001b[0m \u001b[0my_ind\u001b[0m\u001b[0;34m,\u001b[0m \u001b[0msp\u001b[0m\u001b[0;34m.\u001b[0m\u001b[0misspmatrix\u001b[0m\u001b[0;34m(\u001b[0m\u001b[0mX\u001b[0m\u001b[0;34m)\u001b[0m\u001b[0;34m,\u001b[0m \u001b[0msolver_type\u001b[0m\u001b[0;34m,\u001b[0m \u001b[0mtol\u001b[0m\u001b[0;34m,\u001b[0m \u001b[0mbias\u001b[0m\u001b[0;34m,\u001b[0m \u001b[0mC\u001b[0m\u001b[0;34m,\u001b[0m\u001b[0;34m\u001b[0m\u001b[0;34m\u001b[0m\u001b[0m\n\u001b[1;32m    920\u001b[0m         \u001b[0mclass_weight_\u001b[0m\u001b[0;34m,\u001b[0m \u001b[0mmax_iter\u001b[0m\u001b[0;34m,\u001b[0m \u001b[0mrnd\u001b[0m\u001b[0;34m.\u001b[0m\u001b[0mrandint\u001b[0m\u001b[0;34m(\u001b[0m\u001b[0mnp\u001b[0m\u001b[0;34m.\u001b[0m\u001b[0miinfo\u001b[0m\u001b[0;34m(\u001b[0m\u001b[0;34m'i'\u001b[0m\u001b[0;34m)\u001b[0m\u001b[0;34m.\u001b[0m\u001b[0mmax\u001b[0m\u001b[0;34m)\u001b[0m\u001b[0;34m,\u001b[0m\u001b[0;34m\u001b[0m\u001b[0;34m\u001b[0m\u001b[0m\n\u001b[0;32m--> 921\u001b[0;31m         epsilon, sample_weight)\n\u001b[0m\u001b[1;32m    922\u001b[0m     \u001b[0;31m# Regarding rnd.randint(..) in the above signature:\u001b[0m\u001b[0;34m\u001b[0m\u001b[0;34m\u001b[0m\u001b[0;34m\u001b[0m\u001b[0m\n\u001b[1;32m    923\u001b[0m     \u001b[0;31m# seed for srand in range [0..INT_MAX); due to limitations in Numpy\u001b[0m\u001b[0;34m\u001b[0m\u001b[0;34m\u001b[0m\u001b[0;34m\u001b[0m\u001b[0m\n",
      "\u001b[0;31mKeyboardInterrupt\u001b[0m: "
     ]
    }
   ],
   "source": [
    "features_key = 'features_3_scaled'\n",
    "model_input_dict = model_data_dict[features_key]\n",
    "estimators=[\n",
    "    ('logistic',LogisticRegression(solver='liblinear',penalty='l2')),\n",
    "    ('lasso',LogisticRegression(solver='liblinear',penalty='l1')),\n",
    "]\n",
    "\n",
    "c, d = run_modeling(model_input_dict['X_train'], model_input_dict['y_train'], model_input_dict['X_test'],\n",
    "                 model_input_dict['y_test'], estimators=estimators)"
   ]
  },
  {
   "cell_type": "code",
   "execution_count": 1159,
   "metadata": {},
   "outputs": [],
   "source": [
    "del a, b, c, d\n"
   ]
  },
  {
   "cell_type": "code",
   "execution_count": null,
   "metadata": {},
   "outputs": [],
   "source": []
  },
  {
   "cell_type": "markdown",
   "metadata": {},
   "source": [
    "### Try reducing the number of features using PCA"
   ]
  },
  {
   "cell_type": "code",
   "execution_count": 1165,
   "metadata": {},
   "outputs": [],
   "source": [
    "from sklearn.decomposition import PCA\n",
    "from sklearn.metrics import explained_variance_score"
   ]
  },
  {
   "cell_type": "code",
   "execution_count": 1171,
   "metadata": {},
   "outputs": [
    {
     "name": "stdout",
     "output_type": "stream",
     "text": [
      "8 0.3288386788460792 -5.0007988745582085e+35\n",
      "15 0.42996629703983363 -8.3218025274183e+35\n",
      "30 0.5877340641557757 -4.480093699963483e+36\n",
      "60 0.7729147295701009 -8.27743578324212e+39\n",
      "121 0.8638188459388462 -8.541995641583777e+39\n",
      "242 0.895943168721135 -8.554472024291985e+39\n"
     ]
    }
   ],
   "source": [
    "from sklearn.decomposition import PCA\n",
    "from sklearn.metrics import explained_variance_score\n",
    "features_key = 'features_3_scaled'\n",
    "model_input_dict = model_data_dict[features_key]\n",
    "for i in [ 242, 121, 60, 30, 15, 8][::-1]:\n",
    "    pca = PCA(n_components=i)\n",
    "    pca.fit(model_input_dict['X_train'])\n",
    "    X_train_trf =pca.fit_transform(model_input_dict['X_train'])\n",
    "    X_train_inv = pca.inverse_transform(X_train_trf)\n",
    "    X_test_trf = pca.transform(model_input_dict['X_test'])\n",
    "    X_test_inv = pca.inverse_transform(X_test_trf)\n",
    "\n",
    "    print(i, explained_variance_score(model_input_dict['X_train'], X_train_inv, ),\n",
    "        explained_variance_score(model_input_dict['X_test'] , X_test_inv ))\n"
   ]
  },
  {
   "cell_type": "code",
   "execution_count": 1173,
   "metadata": {},
   "outputs": [],
   "source": [
    "n_components=242\n",
    "pca = PCA(n_components=n_components)\n",
    "X_train_pca = pca.fit_transform(model_input_dict['X_train'])\n",
    "X_test_pca = pca.transform(model_input_dict['X_test'])"
   ]
  },
  {
   "cell_type": "code",
   "execution_count": 1174,
   "metadata": {},
   "outputs": [
    {
     "data": {
      "image/png": "[encoded data removed]",
      "text/plain": [
       "<matplotlib.figure.Figure at 0x7fd65e8050f0>"
      ]
     },
     "metadata": {
      "needs_background": "light"
     },
     "output_type": "display_data"
    }
   ],
   "source": [
    "\n",
    "estimators=[\n",
    "    # ('ridge',RidgeClassifier()),\n",
    "    # ('elasticnet',SGDClassifier(loss='log', penalty='elasticnet')),\n",
    "    #('decision_tree',DecisionTreeClassifier()),\n",
    "    ('random_forest',RandomForestClassifier()),\n",
    "    ('xgb',XGBClassifier(ojective='reg:logistic')),\n",
    "    # ('svc',LinearSVC()),\n",
    "    # ('deep_nn',MLPClassifier()),\n",
    "    # ('knn',KNeighborsClassifier(n_neighbors=5, weights='distance', algorithm='auto'))\n",
    "]\n",
    "_ = run_modeling(X_train_pca, model_input_dict['y_train'], X_test_pca,\n",
    "                 model_input_dict['y_test'], estimators=estimators)\n",
    "\n",
    "\n"
   ]
  },
  {
   "cell_type": "markdown",
   "metadata": {},
   "source": [
    "### Try Oversampling data"
   ]
  },
  {
   "cell_type": "code",
   "execution_count": 72,
   "metadata": {},
   "outputs": [],
   "source": [
    "from imblearn.over_sampling import RandomOverSampler\n",
    "ns = RandomOverSampler(0.5)\n",
    "X_train_ns, y_train_ns = ns.fit_resample()\n",
    "\n",
    "\n",
    "estimators=[\n",
    "    # ('ridge',RidgeClassifier()),\n",
    "    # ('elasticnet',SGDClassifier(loss='log', penalty='elasticnet')),\n",
    "    #('decision_tree',DecisionTreeClassifier()),\n",
    "    ('random_forest',RandomForestClassifier()),\n",
    "    # ('xgb',XGBClassifier(ojective='reg:logistic')),\n",
    "    # ('svc',LinearSVC()),\n",
    "    # ('deep_nn',MLPClassifier()),\n",
    "    # ('knn',KNeighborsClassifier(n_neighbors=5, weights='distance', algorithm='auto'))\n",
    "]\n",
    "_ = run_modeling(X_train_ns, y_train_ns, X_test.values,\n",
    "                 model_input_dict['y_test'], estimators=estimators)\n",
    "\n",
    "\n"
   ]
  },
  {
   "cell_type": "code",
   "execution_count": null,
   "metadata": {},
   "outputs": [],
   "source": []
  },
  {
   "cell_type": "code",
   "execution_count": null,
   "metadata": {},
   "outputs": [],
   "source": [
    "\n",
    "estimators=[\n",
    "    # ('ridge',RidgeClassifier()),\n",
    "    # ('elasticnet',SGDClassifier(loss='log', penalty='elasticnet')),\n",
    "    #('decision_tree',DecisionTreeClassifier()),\n",
    "    ('random_forest',RandomForestClassifier()),\n",
    "    # ('xgb',XGBClassifier(ojective='reg:logistic')),\n",
    "    # ('svc',LinearSVC()),\n",
    "    # ('deep_nn',MLPClassifier()),\n",
    "    # ('knn',KNeighborsClassifier(n_neighbors=5, weights='distance', algorithm='auto'))\n",
    "]\n",
    "_ = run_modeling(X_train_ns, y_train_ns, X_test.values,\n",
    "                 model_input_dict['y_test'], estimators=estimators)\n",
    "\n",
    "\n"
   ]
  },
  {
   "cell_type": "code",
   "execution_count": null,
   "metadata": {},
   "outputs": [],
   "source": [
    "del X_train_ns, y_train_ns"
   ]
  },
  {
   "cell_type": "markdown",
   "metadata": {},
   "source": [
    "plot_auc_plots trying out SMOTE"
   ]
  },
  {
   "cell_type": "code",
   "execution_count": 1191,
   "metadata": {},
   "outputs": [],
   "source": [
    "from imblearn.combine import SMOTETomek"
   ]
  },
  {
   "cell_type": "markdown",
   "metadata": {},
   "source": [
    "##@### It got stuck here. Had to restart the kernel"
   ]
  },
  {
   "cell_type": "code",
   "execution_count": null,
   "metadata": {},
   "outputs": [],
   "source": [
    "os = SMOTETomek(0.5)\n",
    "X_train_sm, y_train_sm = os.fit_resample(X_train, y_train)"
   ]
  },
  {
   "cell_type": "code",
   "execution_count": null,
   "metadata": {},
   "outputs": [],
   "source": [
    "\n",
    "estimators=[\n",
    "    # ('ridge',RidgeClassifier()),\n",
    "    # ('elasticnet',SGDClassifier(loss='log', penalty='elasticnet')),\n",
    "    #('decision_tree',DecisionTreeClassifier()),\n",
    "    ('random_forest',RandomForestClassifier()),\n",
    "    ('xgb',XGBClassifier(ojective='reg:logistic')),\n",
    "    # ('svc',LinearSVC()),\n",
    "    # ('deep_nn',MLPClassifier()),\n",
    "    # ('knn',KNeighborsClassifier(n_neighbors=5, weights='distance', algorithm='auto'))\n",
    "]\n",
    "_ = run_modeling(X_train_sm, y_train_sm, X_test,\n",
    "                 model_input_dict['y_test'], estimators=estimators)\n",
    "\n",
    "\n"
   ]
  },
  {
   "cell_type": "code",
   "execution_count": null,
   "metadata": {},
   "outputs": [],
   "source": [
    "del _"
   ]
  },
  {
   "cell_type": "code",
   "execution_count": null,
   "metadata": {},
   "outputs": [],
   "source": [
    "del X_train, y_train"
   ]
  },
  {
   "cell_type": "markdown",
   "metadata": {
    "toc-hr-collapsed": true
   },
   "source": [
    "## Model Tuning"
   ]
  },
  {
   "cell_type": "markdown",
   "metadata": {},
   "source": [
    "### RFC tuning"
   ]
  },
  {
   "cell_type": "code",
   "execution_count": 105,
   "metadata": {},
   "outputs": [],
   "source": [
    "def rf_feat_importance(m, df):\n",
    "    return pd.DataFrame({'cols':df.columns, 'imp':m.feature_importances_}\n",
    "                       ).sort_values('imp', ascending=False)"
   ]
  },
  {
   "cell_type": "code",
   "execution_count": 87,
   "metadata": {},
   "outputs": [
    {
     "data": {
      "image/png": "[encoded data removed]",
      "text/plain": [
       "<matplotlib.figure.Figure at 0x7fcb37ac6ac8>"
      ]
     },
     "metadata": {
      "needs_background": "light"
     },
     "output_type": "display_data"
    }
   ],
   "source": [
    "features_key = 'features_3'\n",
    "model_input_dict = model_data_dict[features_key]\n",
    "\n",
    "rfc= RandomForestClassifier()\n",
    "\n",
    "rfc.fit(model_input_dict['X_train'], model_input_dict['y_train'])\n",
    "\n",
    "y_preds = rfc.predict_proba(model_input_dict['X_test'])\n",
    "\n",
    "plot_auc_plots({'rfc_base': { 'y': model_input_dict['y_test'], 'y_pred': y_preds[:,0]}}, pos_label=0)\n",
    "# a, b = run_modeling(model_input_dict['X_train'], model_input_dict['y_train'], model_input_dict['X_test'],\n",
    "#                  model_input_dict['y_test'], estimators=estimators)\n",
    "\n",
    "\n"
   ]
  },
  {
   "cell_type": "code",
   "execution_count": 120,
   "metadata": {},
   "outputs": [
    {
     "data": {
      "image/png": "[encoded data removed]",
      "text/plain": [
       "<matplotlib.figure.Figure at 0x7fcb31c64c18>"
      ]
     },
     "metadata": {
      "needs_background": "light"
     },
     "output_type": "display_data"
    }
   ],
   "source": [
    "features_key = 'features_3'\n",
    "model_input_dict = model_data_dict[features_key]\n",
    "\n",
    "rfc= RandomForestClassifier()\n",
    "\n",
    "rfc.fit(model_input_dict['X_train'][imp_feats], model_input_dict['y_train'])\n",
    "\n",
    "y_preds = rfc.predict_proba(model_input_dict['X_test'][imp_feats])\n",
    "\n",
    "plot_auc_plots({'rfc_base': { 'y': model_input_dict['y_test'], 'y_pred': y_preds[:,0]}}, pos_label=0)\n",
    "# a, b = run_modeling(model_input_dict['X_train'], model_input_dict['y_train'], model_input_dict['X_test'],\n",
    "#                  model_input_dict['y_test'], estimators=estimators)\n",
    "\n",
    "\n"
   ]
  },
  {
   "cell_type": "code",
   "execution_count": null,
   "metadata": {},
   "outputs": [],
   "source": []
  },
  {
   "cell_type": "code",
   "execution_count": 67,
   "metadata": {},
   "outputs": [
    {
     "name": "stdout",
     "output_type": "stream",
     "text": [
      "0.5377257838562867\n"
     ]
    }
   ],
   "source": [
    "print(roc_auc_score(model_input_dict['y_test'], y_preds[:,1]))"
   ]
  },
  {
   "cell_type": "code",
   "execution_count": 126,
   "metadata": {},
   "outputs": [],
   "source": [
    "from sklearn.model_selection import KFold,cross_validate\n",
    "from sklearn.metrics import make_scorer, f1_score, accuracy_score,roc_auc_score,log_loss\n",
    "_metrics = {'auc':make_scorer(roc_auc_score)}\n",
    "\n",
    "param_grid= {\n",
    " 'n_estimators':[10,50,100,150,200,500],\n",
    " 'max_depth':[3,8,13,18],\n",
    "'max_leaf_nodes':[5,10,15,20,25]   \n",
    "}\n"
   ]
  },
  {
   "cell_type": "markdown",
   "metadata": {},
   "source": [
    "#### RFC + GridSearch "
   ]
  },
  {
   "cell_type": "code",
   "execution_count": 127,
   "metadata": {},
   "outputs": [],
   "source": [
    "rfc_gs=GridSearchCV(rfc,param_grid,scoring=_metrics,refit='auc',cv=5, verbose=1, n_jobs=-1)"
   ]
  },
  {
   "cell_type": "code",
   "execution_count": 128,
   "metadata": {},
   "outputs": [
    {
     "name": "stdout",
     "output_type": "stream",
     "text": [
      "Fitting 5 folds for each of 120 candidates, totalling 600 fits\n"
     ]
    },
    {
     "name": "stderr",
     "output_type": "stream",
     "text": [
      "[Parallel(n_jobs=-1)]: Using backend LokyBackend with 32 concurrent workers.\n",
      "[Parallel(n_jobs=-1)]: Done 136 tasks      | elapsed:  2.6min\n",
      "[Parallel(n_jobs=-1)]: Done 386 tasks      | elapsed: 10.2min\n",
      "[Parallel(n_jobs=-1)]: Done 600 out of 600 | elapsed: 18.9min finished\n"
     ]
    }
   ],
   "source": [
    "rfc_params = rfc_gs.fit(model_input_dict['X_train'], model_input_dict['y_train'])"
   ]
  },
  {
   "cell_type": "code",
   "execution_count": 145,
   "metadata": {},
   "outputs": [
    {
     "data": {
      "image/png": "[encoded data removed]",
      "text/plain": [
       "<matplotlib.figure.Figure at 0x7fcb319295f8>"
      ]
     },
     "metadata": {
      "needs_background": "light"
     },
     "output_type": "display_data"
    }
   ],
   "source": [
    "rfc_best = RandomForestClassifier(**rfc_params.best_params_) \n",
    "rfc_best.fit(model_input_dict['X_train'], model_input_dict['y_train'])\n",
    "y_preds = rfc_best.predict_proba(model_input_dict['X_test'])\n",
    "plot_auc_plots({'rfc_base': { 'y': model_input_dict['y_test'], 'y_pred': y_preds[:,0]}}, pos_label=0)"
   ]
  },
  {
   "cell_type": "markdown",
   "metadata": {},
   "source": [
    "#### RFC + GridSearch  + overSampler"
   ]
  },
  {
   "cell_type": "code",
   "execution_count": 191,
   "metadata": {},
   "outputs": [
    {
     "name": "stdout",
     "output_type": "stream",
     "text": [
      "Fitting 2 folds for each of 120 candidates, totalling 240 fits\n"
     ]
    },
    {
     "name": "stderr",
     "output_type": "stream",
     "text": [
      "[Parallel(n_jobs=16)]: Using backend LokyBackend with 16 concurrent workers.\n",
      "[Parallel(n_jobs=16)]: Done  18 tasks      | elapsed:   37.4s\n",
      "[Parallel(n_jobs=16)]: Done 168 tasks      | elapsed:  7.4min\n",
      "[Parallel(n_jobs=16)]: Done 240 out of 240 | elapsed: 11.4min finished\n"
     ]
    }
   ],
   "source": [
    "from imblearn.over_sampling import RandomOverSampler\n",
    "ns = RandomOverSampler(0.5)\n",
    "X_train_ns, y_train_ns = ns.fit_resample(model_input_dict['X_train'], model_input_dict['y_train'])\n",
    "\n",
    "param_grid= {\n",
    " 'n_estimators':[10,50,100,150,200,500],\n",
    " 'max_depth':[3,8,13,18],\n",
    "'max_leaf_nodes':[5,10,15,20,25]   \n",
    "}\n",
    "\n",
    "rfc= RandomForestClassifier(n_jobs=16)\n",
    "\n",
    "\n",
    "rfc_gs=GridSearchCV(rfc,param_grid,scoring=_metrics,refit='auc',cv=2, verbose=1, n_jobs=16)\n",
    "rfc_params = rfc_gs.fit(X_train_ns, y_train_ns)\n"
   ]
  },
  {
   "cell_type": "code",
   "execution_count": 192,
   "metadata": {},
   "outputs": [
    {
     "data": {
      "image/png": "[encoded data removed]",
      "text/plain": [
       "<matplotlib.figure.Figure at 0x7fcac1206320>"
      ]
     },
     "metadata": {
      "needs_background": "light"
     },
     "output_type": "display_data"
    }
   ],
   "source": [
    "rfc_best = RandomForestClassifier(**rfc_params.best_params_) \n",
    "rfc_best.fit(model_input_dict['X_train'], model_input_dict['y_train'])\n",
    "y_preds = rfc_best.predict_proba(model_input_dict['X_test'])\n",
    "plot_auc_plots({'rfc_base': { 'y': model_input_dict['y_test'], 'y_pred': y_preds[:,0]}}, pos_label=0)"
   ]
  },
  {
   "cell_type": "markdown",
   "metadata": {},
   "source": [
    "### Model: LR + Oversampling"
   ]
  },
  {
   "cell_type": "code",
   "execution_count": 212,
   "metadata": {},
   "outputs": [],
   "source": [
    "ns = RandomOverSampler(0.5)\n",
    "X_train_ns_scaled, y_train_ns_scaled = ns.fit_resample(model_data_dict['features_3_scaled']['X_train'],\n",
    "                                         model_data_dict['features_3_scaled']['y_train'])"
   ]
  },
  {
   "cell_type": "code",
   "execution_count": null,
   "metadata": {},
   "outputs": [],
   "source": [
    "lr_model = LogisticRegression(solver='liblinear',penalty='l2', n_jobs=20, verbose=1)\n",
    "lr_model.fit(X_train_ns_scaled, y_train_ns_scaled)\n",
    "y_preds = lr_model.predict_proba(model_data_dict['features_3_scaled']['X_test_scaled'])\n",
    "plot_auc_plots({'lr_base': { 'y': model_input_dict['y_test'], 'y_pred': y_preds[:,0]}}, pos_label=0)"
   ]
  },
  {
   "cell_type": "markdown",
   "metadata": {},
   "source": [
    "### Model Tuning: XGBoost\n",
    "\n",
    "Unable to tune the model as it is getting stuck.\n",
    "Hence going ahead as is"
   ]
  },
  {
   "cell_type": "code",
   "execution_count": 87,
   "metadata": {},
   "outputs": [
    {
     "data": {
      "text/plain": [
       "XGBClassifier(base_score=0.5, booster='gbtree', colsample_bylevel=1,\n",
       "              colsample_bytree=1, gamma=0, learning_rate=0.1, max_delta_step=0,\n",
       "              max_depth=3, min_child_weight=1, missing=None, n_estimators=100,\n",
       "              n_jobs=-1, nthread=None, objective='binary:logistic',\n",
       "              ojective='reg:logistic', random_state=0, reg_alpha=0,\n",
       "              reg_lambda=1, scale_pos_weight=1, seed=None, silent=True,\n",
       "              subsample=1)"
      ]
     },
     "execution_count": 87,
     "metadata": {},
     "output_type": "execute_result"
    }
   ],
   "source": [
    "features_key = 'features_3'\n",
    "model_input_dict = model_data_dict[features_key]\n",
    "from imblearn.over_sampling import RandomOverSampler\n",
    "ns = RandomOverSampler(0.5)\n",
    "X_train_ns, y_train_ns = ns.fit_resample(model_input_dict['X_train'], model_input_dict['y_train'])\n",
    "xgb = XGBClassifier(ojective='reg:logistic', n_jobs=-1)\n",
    "xgb.fit(X_train_ns, y_train_ns)"
   ]
  },
  {
   "cell_type": "code",
   "execution_count": 88,
   "metadata": {},
   "outputs": [
    {
     "data": {
      "image/png": "[encoded data removed]",
      "text/plain": [
       "<matplotlib.figure.Figure at 0x7f5d198e57f0>"
      ]
     },
     "metadata": {
      "needs_background": "light"
     },
     "output_type": "display_data"
    }
   ],
   "source": [
    "y_preds = xgb.predict_proba(model_input_dict['X_test'].values)\n",
    "plot_auc_plots({'xgb': { 'y': model_input_dict['y_test'], 'y_pred': y_preds[:,0]}}, pos_label=0)"
   ]
  },
  {
   "cell_type": "code",
   "execution_count": 50,
   "metadata": {},
   "outputs": [
    {
     "data": {
      "text/plain": [
       "XGBClassifier(base_score=0.5, booster='gbtree', colsample_bylevel=1,\n",
       "              colsample_bytree=1, gamma=0, learning_rate=0.1, max_delta_step=0,\n",
       "              max_depth=7, min_child_weight=1, missing=None, n_estimators=500,\n",
       "              n_jobs=-1, nthread=None, objective='binary:logistic',\n",
       "              ojective='reg:logistic', random_state=0, reg_alpha=0,\n",
       "              reg_lambda=1, scale_pos_weight=1, seed=None, silent=True,\n",
       "              subsample=1)"
      ]
     },
     "execution_count": 50,
     "metadata": {},
     "output_type": "execute_result"
    }
   ],
   "source": [
    "features_key = 'features_3'\n",
    "model_input_dict = model_data_dict[features_key]\n",
    "from imblearn.over_sampling import RandomOverSampler\n",
    "ns = RandomOverSampler(0.5)\n",
    "X_train_ns, y_train_ns = ns.fit_resample(model_input_dict['X_train'], model_input_dict['y_train'])\n",
    "xgb = XGBClassifier(ojective='reg:logistic', n_jobs=-1, n_estimators=500,  max_depth=7)\n",
    "xgb.fit(X_train_ns, y_train_ns)"
   ]
  },
  {
   "cell_type": "code",
   "execution_count": 51,
   "metadata": {},
   "outputs": [
    {
     "data": {
      "image/png": "[encoded data removed]",
      "text/plain": [
       "<matplotlib.figure.Figure at 0x7f5cba288b70>"
      ]
     },
     "metadata": {
      "needs_background": "light"
     },
     "output_type": "display_data"
    }
   ],
   "source": []
  },
  {
   "cell_type": "code",
   "execution_count": 77,
   "metadata": {},
   "outputs": [
    {
     "data": {
      "text/plain": [
       "XGBClassifier(base_score=0.5, booster='gbtree', colsample_bylevel=1,\n",
       "              colsample_bytree=1, gamma=0, learning_rate=0.1, max_delta_step=0,\n",
       "              max_depth=3, min_child_weight=1, missing=None, n_estimators=100,\n",
       "              n_jobs=-1, nthread=None, objective='binary:logistic',\n",
       "              ojective='reg:logistic', random_state=0, reg_alpha=0,\n",
       "              reg_lambda=1, scale_pos_weight=1, seed=None, silent=True,\n",
       "              subsample=1)"
      ]
     },
     "execution_count": 77,
     "metadata": {},
     "output_type": "execute_result"
    }
   ],
   "source": [
    "features_key = 'features_3_scaled'\n",
    "model_input_dict = model_data_dict[features_key]\n",
    "from imblearn.over_sampling import RandomOverSampler\n",
    "ns = RandomOverSampler(0.5)\n",
    "X_train_ns, y_train_ns = ns.fit_resample(model_input_dict['X_train'], model_input_dict['y_train'])\n",
    "xgb_2 = XGBClassifier(ojective='reg:logistic', n_jobs=-1)\n",
    "xgb_2.fit(X_train_ns, y_train_ns)"
   ]
  },
  {
   "cell_type": "code",
   "execution_count": 80,
   "metadata": {},
   "outputs": [
    {
     "data": {
      "image/png": "[encoded data removed]",
      "text/plain": [
       "<matplotlib.figure.Figure at 0x7f5d19597198>"
      ]
     },
     "metadata": {
      "needs_background": "light"
     },
     "output_type": "display_data"
    }
   ],
   "source": [
    "y_preds = xgb_2.predict_proba(model_input_dict['X_test'])\n",
    "plot_auc_plots({'xgb2': { 'y': model_input_dict['y_test'], 'y_pred': y_preds[:,0]}}, pos_label=0)"
   ]
  },
  {
   "cell_type": "code",
   "execution_count": null,
   "metadata": {},
   "outputs": [],
   "source": [
    "features_key = 'features_3_scaled'\n",
    "model_input_dict = model_data_dict[features_key]\n",
    "from imblearn.over_sampling import RandomOverSampler\n",
    "ns = RandomOverSampler(0.5)\n",
    "X_train_ns, y_train_ns = ns.fit_resample(model_input_dict['X_train'], model_input_dict['y_train'])\n",
    "xgb_2 = XGBClassifier(ojective='reg:logistic', n_jobs=-1)\n",
    "xgb_2.fit(X_train_ns, y_train_ns)\n",
    "\n",
    "y_preds = xgb_2.predict_proba(model_input_dict['X_test'])\n",
    "plot_auc_plots({'xgb2': { 'y': model_input_dict['y_test'], 'y_pred': y_preds[:,0]}}, pos_label=0)"
   ]
  },
  {
   "cell_type": "code",
   "execution_count": null,
   "metadata": {},
   "outputs": [],
   "source": []
  },
  {
   "cell_type": "code",
   "execution_count": null,
   "metadata": {},
   "outputs": [],
   "source": [
    "# param_grid={'n_estimators': [100, 500, 900]} \n",
    "# xgb_gs = GridSearchCV(xgb,param_grid,scoring=_metrics,refit='auc', n_jobs=-1, cv=2, verbose=3)\n",
    "# xgb_params = xgb_gs.fit(model_input_dict['X_train'], model_input_dict['y_train'])"
   ]
  },
  {
   "cell_type": "code",
   "execution_count": null,
   "metadata": {},
   "outputs": [],
   "source": []
  },
  {
   "cell_type": "code",
   "execution_count": null,
   "metadata": {},
   "outputs": [],
   "source": [
    "# xgb.set_params(**xgb_gs.best_params_) \n",
    "# xgb.set_params(**{'n_jobs': -1})\n",
    "# xgb.fit(model_input_dict['X_train'], model_input_dict['y_train'])\n",
    "# y_preds = rfc_best.predict_proba(model_input_dict['X_test'])"
   ]
  },
  {
   "cell_type": "code",
   "execution_count": null,
   "metadata": {},
   "outputs": [],
   "source": [
    "# plot_auc_plots({'xgb_base': { 'y': model_input_dict['y_test'], 'y_pred': y_preds[:,0]}}, pos_label=0)"
   ]
  },
  {
   "cell_type": "code",
   "execution_count": null,
   "metadata": {},
   "outputs": [],
   "source": []
  },
  {
   "cell_type": "code",
   "execution_count": null,
   "metadata": {},
   "outputs": [],
   "source": [
    "# rfc_params.best_params_"
   ]
  },
  {
   "cell_type": "code",
   "execution_count": null,
   "metadata": {},
   "outputs": [],
   "source": [
    "# param_grid={'max_depth':[5,7,9]}\n",
    "# xgb_gs = GridSearchCV(xgb,param_grid,scoring=_metrics,refit='auc', n_jobs=-1, cv=2, verbose=3)\n",
    "# xgb_params = xgb_gs.fit(model_input_dict['X_train'], model_input_dict['y_train'])"
   ]
  },
  {
   "cell_type": "code",
   "execution_count": null,
   "metadata": {},
   "outputs": [],
   "source": [
    "# xgb.set_params(**xgb_gs.best_params_) \n",
    "# xgb.fit(model_input_dict['X_train'], model_input_dict['y_train'])\n",
    "# y_preds = rfc_best.predict_proba(model_input_dict['X_test'])\n",
    "# plot_auc_plots({'rfc_base': { 'y': model_input_dict['y_test'], 'y_pred': y_preds[:,0]}}, pos_label=0)"
   ]
  },
  {
   "cell_type": "code",
   "execution_count": null,
   "metadata": {},
   "outputs": [],
   "source": [
    "# param_grid={'learning_rate':[0.0001, 0.001, 0.01, 0.1, 0.2, 0.3]}\n",
    "# xgb_gs = GridSearchCV(xgb,param_grid,scoring=_metrics,refit='auc', n_jobs=-1, cv=2, verbose=3)\n",
    "# xgb_params = xgb_gs.fit(model_input_dict['X_train'], model_input_dict['y_train'])"
   ]
  },
  {
   "cell_type": "code",
   "execution_count": 197,
   "metadata": {},
   "outputs": [],
   "source": [
    "# from imblearn.over_sampling import RandomOverSampler\n",
    "# ns = RandomOverSampler(0.5)\n",
    "# X_train_ns, y_train_ns = ns.fit_resample(model_input_dict['X_train'], model_input_dict['y_train'])\n",
    "\n",
    "\n",
    "# estimators=[\n",
    "#     # ('ridge',RidgeClassifier()),\n",
    "#     # ('elasticnet',SGDClassifier(loss='log', penalty='elasticnet')),\n",
    "#     #('decision_tree',DecisionTreeClassifier()),\n",
    "#     ('random_forest',RandomForestClassifier(n_jobs=-1)),\n",
    "#     ('xgb',XGBClassifier(ojective='reg:logistic', n_jobs=-1)),\n",
    "#     # ('svc',LinearSVC()),\n",
    "#     # ('deep_nn',MLPClassifier()),\n",
    "#     # ('knn',KNeighborsClassifier(n_neighbors=5, weights='distance', algorithm='auto'))\n",
    "# ]\n",
    "# _ = run_modeling(X_train_ns, y_train_ns, X_test.values,\n",
    "#                  model_input_dict['y_test'], estimators=estimators)\n",
    "\n",
    "\n"
   ]
  },
  {
   "cell_type": "code",
   "execution_count": 86,
   "metadata": {},
   "outputs": [],
   "source": [
    "# from sklearn.decomposition import PCA, FastICA\n",
    "# from sklearn.metrics import explained_variance_score\n",
    "# features_key = 'features_3_scaled'\n",
    "# model_input_dict = model_data_dict[features_key]\n",
    "# for i in [ 300 ]:\n",
    "#     pca = PCA(n_components=i)\n",
    "#     ica = FastICA(n_components=i)\n",
    "    \n",
    "#     pca.fit(model_input_dict['X_train'])\n",
    "#     X_train_trf =pca.fit_transform(model_input_dict['X_train'])\n",
    "#     X_train_inv = pca.inverse_transform(X_train_trf)\n",
    "#     X_test_trf = pca.transform(model_input_dict['X_test'])\n",
    "#     X_test_inv = pca.inverse_transform(X_test_trf)\n",
    "#     print('pca', i, explained_variance_score(model_input_dict['X_train'], X_train_inv, ),\n",
    "#         explained_variance_score(model_input_dict['X_test'] , X_test_inv )) \n",
    "    \n",
    "#     ica.fit(model_input_dict['X_train'])\n",
    "#     X_train_trf =ica.fit_transform(model_input_dict['X_train'])\n",
    "#     X_train_inv = ica.inverse_transform(X_train_trf)\n",
    "#     X_test_trf = ica.transform(model_input_dict['X_test'])\n",
    "#     X_test_inv = ica.inverse_transform(X_test_trf)\n",
    "\n",
    "#     print('ica', i, explained_variance_score(model_input_dict['X_train'], X_train_inv, ),\n",
    "#         explained_variance_score(model_input_dict['X_test'] , X_test_inv ))\n"
   ]
  },
  {
   "cell_type": "code",
   "execution_count": null,
   "metadata": {},
   "outputs": [],
   "source": [
    "n_components=300\n",
    "pca = PCA(n_components=n_components)\n",
    "X_train_pca = pca.fit_transform(model_input_dict['X_train'])\n",
    "X_test_pca = pca.transform(model_input_dict['X_test'])"
   ]
  },
  {
   "cell_type": "markdown",
   "metadata": {},
   "source": [
    "## prediction on submission data"
   ]
  },
  {
   "cell_type": "markdown",
   "metadata": {},
   "source": [
    "Out of all xgb gave okayish result auc- .640 (this is without tuning)"
   ]
  },
  {
   "cell_type": "code",
   "execution_count": 89,
   "metadata": {},
   "outputs": [],
   "source": [
    "y_preds = xgb.predict_proba(model_data_dict['main_X_test']['X_test'].values)\n",
    "# plot_auc_plots({'xgb': { 'y': model_input_dict['y_test'], 'y_pred': y_preds[:,0]}}, pos_label=0)"
   ]
  },
  {
   "cell_type": "code",
   "execution_count": 90,
   "metadata": {},
   "outputs": [
    {
     "data": {
      "text/plain": [
       "dict_keys(['X_test', 'uid_col'])"
      ]
     },
     "execution_count": 90,
     "metadata": {},
     "output_type": "execute_result"
    }
   ],
   "source": [
    "model_data_dict['main_X_test'].keys()"
   ]
  },
  {
   "cell_type": "code",
   "execution_count": 91,
   "metadata": {},
   "outputs": [],
   "source": [
    "submission_data = model_data_dict['main_X_test']['uid_col']"
   ]
  },
  {
   "cell_type": "code",
   "execution_count": 92,
   "metadata": {},
   "outputs": [],
   "source": [
    "submission_data['pred'] = y_preds[:, 1]"
   ]
  },
  {
   "cell_type": "code",
   "execution_count": 94,
   "metadata": {},
   "outputs": [],
   "source": [
    "submission_data.to_csv('final_submission_Jagat_Bhat.csv')"
   ]
  },
  {
   "cell_type": "markdown",
   "metadata": {},
   "source": [
    "## (scope for improvements)\n",
    "```\n",
    "*. Too many features -- Should have reduced redudunt features. \n",
    "*. feat3 Data is too sparse. (makes difficult for algorithms to learn)\n",
    "*. PCA -> oversample -> xgboost (with tuning) \n",
    "*. PCA -> SMOTE -> xgboost (with tuning)\n",
    "*. PCA -> BalancedTrees (with tuning) \n",
    "*. Ensembling Techniques\n",
    "etc. \n",
    "```\n"
   ]
  },
  {
   "cell_type": "code",
   "execution_count": null,
   "metadata": {},
   "outputs": [],
   "source": []
  }
 ],
 "metadata": {
  "colab": {
   "collapsed_sections": [],
   "name": "EDA + Modelling for classification.ipynb",
   "provenance": [],
   "toc_visible": true
  },
  "kernelspec": {
   "display_name": "Python 3",
   "language": "python",
   "name": "python3"
  },
  "language_info": {
   "codemirror_mode": {
    "name": "ipython",
    "version": 3
   },
   "file_extension": ".py",
   "mimetype": "text/x-python",
   "name": "python",
   "nbconvert_exporter": "python",
   "pygments_lexer": "ipython3",
   "version": "3.6.9"
  },
  "toc-autonumbering": true,
  "toc-showcode": false,
  "toc-showmarkdowntxt": false
 },
 "nbformat": 4,
 "nbformat_minor": 4
}
